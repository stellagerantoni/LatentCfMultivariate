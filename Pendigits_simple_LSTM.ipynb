{
  "nbformat": 4,
  "nbformat_minor": 0,
  "metadata": {
    "colab": {
      "provenance": [],
      "include_colab_link": true
    },
    "kernelspec": {
      "name": "python3",
      "display_name": "Python 3"
    },
    "language_info": {
      "name": "python"
    }
  },
  "cells": [
    {
      "cell_type": "markdown",
      "metadata": {
        "id": "view-in-github",
        "colab_type": "text"
      },
      "source": [
        "<a href=\"https://colab.research.google.com/github/stellagerantoni/LatentCfMultivariate/blob/main/Pendigits_simple_LSTM.ipynb\" target=\"_parent\"><img src=\"https://colab.research.google.com/assets/colab-badge.svg\" alt=\"Open In Colab\"/></a>"
      ]
    },
    {
      "cell_type": "code",
      "source": [
        "! git clone https://github.com/stellagerantoni/LatentCfMultivariate"
      ],
      "metadata": {
        "id": "1fwOXGEl_ine",
        "colab": {
          "base_uri": "https://localhost:8080/"
        },
        "outputId": "162433cf-d4db-4677-a3b9-bf5ecfb344bf"
      },
      "execution_count": 1,
      "outputs": [
        {
          "output_type": "stream",
          "name": "stdout",
          "text": [
            "Cloning into 'LatentCfMultivariate'...\n",
            "remote: Enumerating objects: 263, done.\u001b[K\n",
            "remote: Counting objects: 100% (158/158), done.\u001b[K\n",
            "remote: Compressing objects: 100% (122/122), done.\u001b[K\n",
            "remote: Total 263 (delta 112), reused 36 (delta 36), pack-reused 105\u001b[K\n",
            "Receiving objects: 100% (263/263), 12.65 MiB | 11.53 MiB/s, done.\n",
            "Resolving deltas: 100% (152/152), done.\n"
          ]
        }
      ]
    },
    {
      "cell_type": "code",
      "source": [
        "!pip install -q wildboar\n",
        "!pip install -q scikit-learn\n",
        "!pip install -q stumpy\n",
        "!pip install -q fastdtw\n",
        "!pip install aeon"
      ],
      "metadata": {
        "id": "89L3kts7CCan",
        "colab": {
          "base_uri": "https://localhost:8080/"
        },
        "outputId": "07b306db-5f55-4441-952b-2921e2189b60"
      },
      "execution_count": 2,
      "outputs": [
        {
          "output_type": "stream",
          "name": "stdout",
          "text": [
            "\u001b[2K     \u001b[90m━━━━━━━━━━━━━━━━━━━━━━━━━━━━━━━━━━━━━━━━\u001b[0m \u001b[32m7.3/7.3 MB\u001b[0m \u001b[31m21.1 MB/s\u001b[0m eta \u001b[36m0:00:00\u001b[0m\n",
            "\u001b[2K     \u001b[90m━━━━━━━━━━━━━━━━━━━━━━━━━━━━━━━━━━━━━━━━\u001b[0m \u001b[32m169.1/169.1 kB\u001b[0m \u001b[31m1.7 MB/s\u001b[0m eta \u001b[36m0:00:00\u001b[0m\n",
            "\u001b[2K     \u001b[90m━━━━━━━━━━━━━━━━━━━━━━━━━━━━━━━━━━━━━━━━\u001b[0m \u001b[32m133.4/133.4 kB\u001b[0m \u001b[31m1.4 MB/s\u001b[0m eta \u001b[36m0:00:00\u001b[0m\n",
            "\u001b[?25h  Preparing metadata (setup.py) ... \u001b[?25l\u001b[?25hdone\n",
            "  Building wheel for fastdtw (setup.py) ... \u001b[?25l\u001b[?25hdone\n",
            "Collecting aeon\n",
            "  Downloading aeon-0.6.0-py3-none-any.whl (46.9 MB)\n",
            "\u001b[2K     \u001b[90m━━━━━━━━━━━━━━━━━━━━━━━━━━━━━━━━━━━━━━━━\u001b[0m \u001b[32m46.9/46.9 MB\u001b[0m \u001b[31m11.6 MB/s\u001b[0m eta \u001b[36m0:00:00\u001b[0m\n",
            "\u001b[?25hRequirement already satisfied: attrs>=19.2.0 in /usr/local/lib/python3.10/dist-packages (from aeon) (23.2.0)\n",
            "Collecting deprecated>=1.2.13 (from aeon)\n",
            "  Downloading Deprecated-1.2.14-py2.py3-none-any.whl (9.6 kB)\n",
            "Requirement already satisfied: numba>=0.55 in /usr/local/lib/python3.10/dist-packages (from aeon) (0.58.1)\n",
            "Requirement already satisfied: numpy<1.27.0,>=1.21.0 in /usr/local/lib/python3.10/dist-packages (from aeon) (1.23.5)\n",
            "Requirement already satisfied: packaging>=20.0 in /usr/local/lib/python3.10/dist-packages (from aeon) (23.2)\n",
            "Requirement already satisfied: pandas<2.1.0,>=1.5.3 in /usr/local/lib/python3.10/dist-packages (from aeon) (1.5.3)\n",
            "Requirement already satisfied: scikit-learn<1.4.0,>=1.0.0 in /usr/local/lib/python3.10/dist-packages (from aeon) (1.2.2)\n",
            "Requirement already satisfied: scipy<2.0.0,>=1.2.0 in /usr/local/lib/python3.10/dist-packages (from aeon) (1.11.4)\n",
            "Requirement already satisfied: wrapt<2,>=1.10 in /usr/local/lib/python3.10/dist-packages (from deprecated>=1.2.13->aeon) (1.14.1)\n",
            "Requirement already satisfied: llvmlite<0.42,>=0.41.0dev0 in /usr/local/lib/python3.10/dist-packages (from numba>=0.55->aeon) (0.41.1)\n",
            "Requirement already satisfied: python-dateutil>=2.8.1 in /usr/local/lib/python3.10/dist-packages (from pandas<2.1.0,>=1.5.3->aeon) (2.8.2)\n",
            "Requirement already satisfied: pytz>=2020.1 in /usr/local/lib/python3.10/dist-packages (from pandas<2.1.0,>=1.5.3->aeon) (2023.4)\n",
            "Requirement already satisfied: joblib>=1.1.1 in /usr/local/lib/python3.10/dist-packages (from scikit-learn<1.4.0,>=1.0.0->aeon) (1.3.2)\n",
            "Requirement already satisfied: threadpoolctl>=2.0.0 in /usr/local/lib/python3.10/dist-packages (from scikit-learn<1.4.0,>=1.0.0->aeon) (3.2.0)\n",
            "Requirement already satisfied: six>=1.5 in /usr/local/lib/python3.10/dist-packages (from python-dateutil>=2.8.1->pandas<2.1.0,>=1.5.3->aeon) (1.16.0)\n",
            "Installing collected packages: deprecated, aeon\n",
            "Successfully installed aeon-0.6.0 deprecated-1.2.14\n"
          ]
        }
      ]
    },
    {
      "cell_type": "code",
      "source": [
        "import logging\n",
        "import os\n",
        "import warnings\n",
        "from argparse import ArgumentParser\n",
        "from aeon.datasets import load_classification\n",
        "\n",
        "from tensorflow import keras\n",
        "import matplotlib.pyplot as plt\n",
        "import numpy as np\n",
        "import pandas as pd\n",
        "import tensorflow as tf\n",
        "from scipy.spatial import distance_matrix\n",
        "from sklearn.metrics import balanced_accuracy_score, confusion_matrix\n",
        "from sklearn.model_selection import train_test_split\n",
        "from sklearn.neighbors import KDTree, KNeighborsClassifier\n",
        "from sklearn.preprocessing import MinMaxScaler\n",
        "from wildboar.datasets import load_dataset\n",
        "from wildboar.ensemble import ShapeletForestClassifier\n",
        "from wildboar.explain.counterfactual import counterfactuals\n",
        "%cd '/content/LatentCfMultivariate'\n",
        "from _guided import ModifiedLatentCF\n",
        "from help_functions import *\n",
        "from keras_models import *"
      ],
      "metadata": {
        "colab": {
          "base_uri": "https://localhost:8080/"
        },
        "id": "Bdkpan5lCGRH",
        "outputId": "f9ef101d-9892-4de0-fc48-7aa4ca7c2308"
      },
      "execution_count": 3,
      "outputs": [
        {
          "output_type": "stream",
          "name": "stdout",
          "text": [
            "/content/LatentCfMultivariate\n"
          ]
        }
      ]
    },
    {
      "cell_type": "code",
      "source": [
        "os.environ['TF_DETERMINISTIC_OPS'] = '1'\n",
        "config = tf.compat.v1.ConfigProto()\n",
        "config.gpu_options.allow_growth = True\n",
        "session = tf.compat.v1.Session(config=config)\n",
        "RANDOM_STATE = 39"
      ],
      "metadata": {
        "id": "GJE1AxFnE51S"
      },
      "execution_count": 4,
      "outputs": []
    },
    {
      "cell_type": "markdown",
      "source": [
        "# **ACTUALL CODE**\n",
        "datasets available : 'Heartbeat', 'SelfRegulationSCP1'"
      ],
      "metadata": {
        "id": "6vVfmpyuZyC6"
      }
    },
    {
      "cell_type": "code",
      "source": [],
      "metadata": {
        "id": "W4m9pwqyVY1b"
      },
      "execution_count": 4,
      "outputs": []
    },
    {
      "cell_type": "code",
      "source": [
        "#Getting the dataset\n",
        "\n",
        "RANDOM_STATE = 39\n",
        "X,y = load_classification('PenDigits')\n",
        "X = X.transpose(0,2,1)\n",
        "print(f'shape of X = {X.shape}')\n",
        "print(f'shape of y = {y.shape}')\n",
        "#print(f'data imformation = {data_information}')\n",
        "X_train, X_test, y_train, y_test = train_test_split(X, y, test_size=0.2, random_state=RANDOM_STATE, stratify=y)\n",
        "print(f'shape of X train = {X_train.shape}')\n",
        "print(f'shape of y train = {y_train.shape}')"
      ],
      "metadata": {
        "outputId": "f2aa887e-d711-4c1c-c106-3c8f894e57a9",
        "colab": {
          "base_uri": "https://localhost:8080/"
        },
        "id": "i2TB1txLbB3l"
      },
      "execution_count": 5,
      "outputs": [
        {
          "output_type": "stream",
          "name": "stdout",
          "text": [
            "shape of X = (10992, 8, 2)\n",
            "shape of y = (10992,)\n",
            "shape of X train = (8793, 8, 2)\n",
            "shape of y train = (8793,)\n"
          ]
        }
      ]
    },
    {
      "cell_type": "code",
      "source": [
        "#Upsample the minority class\n",
        "\n",
        "unique_classes, class_counts = np.unique(y_train, return_counts=True)\n",
        "print(f'before: {class_counts}')\n",
        "X_train,y_train = upsample_minority_multivariate(X_train,y_train)\n",
        "X,y = upsample_minority_multivariate(X, y)\n",
        "unique_classes, class_counts = np.unique(y_train, return_counts=True)\n",
        "print(f'after: {class_counts}')"
      ],
      "metadata": {
        "id": "Q2v7QdrHieA8",
        "outputId": "e3984e55-f451-4951-d05f-78e7a8f175b6",
        "colab": {
          "base_uri": "https://localhost:8080/"
        }
      },
      "execution_count": 6,
      "outputs": [
        {
          "output_type": "stream",
          "name": "stdout",
          "text": [
            "before: [914 914 915 844 915 844 845 914 844 844]\n",
            "after: [915 915 915 915 915 915 915 915 915 915]\n"
          ]
        }
      ]
    },
    {
      "cell_type": "code",
      "source": [
        "#Processing and Padding all our data\n",
        "#Padding needed for autoencoder\n",
        "\n",
        "n_training,n_timesteps, n_features= X_train.shape\n",
        "\n",
        "X, trained_scaler =  normalize_multivariate(data=X, n_timesteps=n_timesteps, n_features = n_features)\n",
        "X_train_processed, trained_scaler =  normalize_multivariate(data=X_train, n_timesteps=n_timesteps, n_features = n_features)\n",
        "X_test_processed, _ =  normalize_multivariate(data=X_test, n_timesteps=n_timesteps, scaler=trained_scaler, n_features = n_features)\n",
        "\n",
        "X, padding_size = conditional_pad_multivariate(X)\n",
        "X_train_processed_padded, padding_size = conditional_pad_multivariate(X_train_processed) # add extra padding zeros if n_timesteps cannot be divided by 4, required for 1dCNN autoencoder structure\n",
        "X_test_processed_padded, _ = conditional_pad_multivariate(X_test_processed)\n",
        "\n",
        "n_timesteps_padded = X_train_processed_padded.shape[1]\n",
        "print(f\"Data pre-processed, original #timesteps={n_timesteps}, padded #timesteps={n_timesteps_padded}.\")\n",
        "\n",
        "#check the processing (0,1) min should be min 0 and max should be max 1\n",
        "print(f\"\\nmin value = {np.min(X_train)}, max value = {np.max(X_train)}\")\n",
        "print(f\"min value normalized = {np.min(X_train_processed)}, max value normalized= {np.max(X_train_processed)}\")\n",
        "\n",
        "#check that padding paddes the right dimention\n",
        "print(f\"\\nX_train.shape = {X_train.shape}\" )\n",
        "print(f\"X_train_processed_padded.shape = {X_train_processed_padded.shape}\")\n"
      ],
      "metadata": {
        "id": "00Q9QjKy7wEZ",
        "outputId": "c9684ecf-5675-4e86-fd7b-c66a96926b81",
        "colab": {
          "base_uri": "https://localhost:8080/"
        }
      },
      "execution_count": 7,
      "outputs": [
        {
          "output_type": "stream",
          "name": "stdout",
          "text": [
            "Data pre-processed, original #timesteps=8, padded #timesteps=8.\n",
            "\n",
            "min value = 0.0, max value = 100.0\n",
            "min value normalized = 0.0, max value normalized= 1.0\n",
            "\n",
            "X_train.shape = (9150, 8, 2)\n",
            "X_train_processed_padded.shape = (9150, 8, 2)\n"
          ]
        }
      ]
    },
    {
      "cell_type": "code",
      "source": [
        "def extract_two_digits(X,y,n_1,n_2, RANDOM_STATE):\n",
        "  #get the normal and abnormal label\n",
        "  #abnormal is the target label for the latentCF++ model\n",
        "  normal_label = n_1\n",
        "  abnormal_label = n_2\n",
        "\n",
        "  #Get the indices\n",
        "  normal_indices = np.where(y == normal_label)[0]\n",
        "  abnormal_indices = np.where(y == abnormal_label)[0]\n",
        "\n",
        "  #Use the indices to get the wanted data points\n",
        "  X_abnormal = X[abnormal_indices]\n",
        "  y_abnormal = y[abnormal_indices]\n",
        "\n",
        "  X_normal = X[normal_indices]\n",
        "  y_normal = y[normal_indices]\n",
        "\n",
        "  #stack all the data together again\n",
        "  X = np.concatenate([X_abnormal,X_normal])\n",
        "  y = np.concatenate([y_abnormal,y_normal])\n",
        "\n",
        "  #shuffle them\n",
        "  X, y = shuffle(X, y, random_state=RANDOM_STATE)\n",
        "\n",
        "  #iterate over the dataset to make the labels 0 for abnormal and 1 for normal\n",
        "\n",
        "  for i in range(y.shape[0]):\n",
        "    if y[i] == n_2:\n",
        "      y[i]=1\n",
        "    else:\n",
        "      y [i]=0\n",
        "\n",
        "  y = y.astype(int)\n",
        "  print(f'Class 0 represents number {n_1}. [1.,0.]')\n",
        "  print(f'Class 1 represents number {n_2}. [0.,1.]\\n')\n",
        "\n",
        "  return X,y"
      ],
      "metadata": {
        "id": "FlK_y26-7avq"
      },
      "execution_count": 8,
      "outputs": []
    },
    {
      "cell_type": "code",
      "source": [
        "#Get only two classes from the dataset (only too needed for counterfactuals)\n",
        "\n",
        "X, y = extract_two_digits(X,y,'0','8', RANDOM_STATE)\n",
        "X_train, y_train = extract_two_digits(X_train_processed_padded,y_train,'0','8', RANDOM_STATE)\n",
        "X_test, y_test = extract_two_digits(X_test_processed_padded,y_test,'0','8', RANDOM_STATE)"
      ],
      "metadata": {
        "id": "xQ7Aha3TAf5o",
        "outputId": "7a3a56b2-a3b4-4651-eede-f14478950844",
        "colab": {
          "base_uri": "https://localhost:8080/"
        }
      },
      "execution_count": 9,
      "outputs": [
        {
          "output_type": "stream",
          "name": "stdout",
          "text": [
            "Class 0 represents number 0. [1.,0.]\n",
            "Class 1 represents number 8. [0.,1.]\n",
            "\n",
            "Class 0 represents number 0. [1.,0.]\n",
            "Class 1 represents number 8. [0.,1.]\n",
            "\n",
            "Class 0 represents number 0. [1.,0.]\n",
            "Class 1 represents number 8. [0.,1.]\n",
            "\n"
          ]
        }
      ]
    },
    {
      "cell_type": "code",
      "source": [
        "#splitting the dataset\n",
        "\n",
        "from sklearn.model_selection import train_test_split\n",
        "X_train,X_validation, y_train, y_validation = train_test_split(X_train, y_train, test_size=0.2, random_state=RANDOM_STATE, stratify=y_train)"
      ],
      "metadata": {
        "id": "1mYFZmsvtB9q"
      },
      "execution_count": 10,
      "outputs": []
    },
    {
      "cell_type": "code",
      "source": [
        "#Getting the two forms of labels needed\n",
        "#-the y_classes (1,0,1,0,...)\n",
        "#-the y (one hot encoded)\n",
        "\n",
        "print(f'X_train = {X_train.shape}')\n",
        "print(f'X_validation = {X_validation.shape}')\n",
        "print(f'X_test = {X_test.shape}')\n",
        "\n",
        "y_classes = y\n",
        "y_train_classes = y_train\n",
        "y_validation_classes = y_validation\n",
        "y_test_classes = y_test\n",
        "\n",
        "from tensorflow.keras.utils import to_categorical\n",
        "y = to_categorical(y, len(np.unique(y)))\n",
        "y_train = to_categorical(y_train, len(np.unique(y_train)))\n",
        "y_validation = to_categorical(y_validation, len(np.unique(y_validation)))\n",
        "y_test = to_categorical(y_test, len(np.unique(y_test)))\n",
        "\n",
        "print(f'\\ny_train_classes = {y_train_classes.shape}, y_validation_classes = {y_validation_classes.shape}, y_test_classes = {y_test_classes.shape}')\n",
        "print(f'y_train = {y_train.shape}, y_validation = {y_validation.shape}, y_test= {y_test.shape}')"
      ],
      "metadata": {
        "colab": {
          "base_uri": "https://localhost:8080/"
        },
        "id": "x9b2F-vytxzU",
        "outputId": "361dea97-8028-49f2-8c35-10d9e66a68fd"
      },
      "execution_count": 11,
      "outputs": [
        {
          "output_type": "stream",
          "name": "stdout",
          "text": [
            "X_train = (1464, 8, 2)\n",
            "X_validation = (366, 8, 2)\n",
            "X_test = (440, 8, 2)\n",
            "\n",
            "y_train_classes = (1464,), y_validation_classes = (366,), y_test_classes = (440,)\n",
            "y_train = (1464, 2), y_validation = (366, 2), y_test= (440, 2)\n"
          ]
        }
      ]
    },
    {
      "cell_type": "code",
      "source": [
        "def ClassifierLSTM(n_timesteps, n_features, extra_lstm_layer=True, n_output=1):\n",
        "    # Define the model structure - only LSTM layers\n",
        "    # https://www.kaggle.com/szaitseff/classification-of-time-series-with-lstm-rnn\n",
        "    inputs = keras.Input(shape=(n_timesteps, n_features), dtype=\"float32\")\n",
        "    if extra_lstm_layer:\n",
        "        x = keras.layers.LSTM(64, activation=\"tanh\", return_sequences=True)(\n",
        "            inputs\n",
        "        )  # set return_sequences true to feed next LSTM layer\n",
        "    else:\n",
        "        x = keras.layers.LSTM(32, activation=\"tanh\", return_sequences=False)(\n",
        "            inputs\n",
        "        )  # set return_sequences false to feed dense layer directly\n",
        "    x = keras.layers.BatchNormalization()(x)\n",
        "    # x = keras.layers.LSTM(32, activation='tanh', return_sequences=True)(x)\n",
        "    # x = keras.layers.BatchNormalization()(x)\n",
        "    if extra_lstm_layer:\n",
        "        x = keras.layers.LSTM(16, activation=\"tanh\", return_sequences=False)(x)\n",
        "        x = keras.layers.BatchNormalization()(x)\n",
        "\n",
        "    if n_output >= 2:\n",
        "        outputs = keras.layers.Dense(n_output, activation=\"softmax\")(x)\n",
        "    else:\n",
        "        outputs = keras.layers.Dense(1, activation=\"sigmoid\")(x)\n",
        "\n",
        "    classifier2 = keras.Model(inputs, outputs)\n",
        "\n",
        "    return classifier2"
      ],
      "metadata": {
        "id": "P6DnTUiGHt_j"
      },
      "execution_count": 13,
      "outputs": []
    },
    {
      "cell_type": "code",
      "source": [
        "\n",
        "\n",
        "# ## LatentCF++ models\n",
        "# reset seeds for numpy, tensorflow, python random package and python environment seed\n",
        "reset_seeds()\n",
        "###############################################\n",
        "# ### LSTM classifier\n",
        "\n",
        "classifier = ClassifierLSTM(\n",
        "    n_timesteps_padded, n_features, n_output=2\n",
        ")\n",
        "\n",
        "optimizer = keras.optimizers.Adam(lr=0.001)\n",
        "classifier.compile(\n",
        "    optimizer=optimizer, loss=\"binary_crossentropy\", metrics=[\"accuracy\"]\n",
        ")\n",
        "\n",
        "# Define the early stopping criteria\n",
        "early_stopping_accuracy = keras.callbacks.EarlyStopping(\n",
        "    monitor=\"val_accuracy\", patience=15, restore_best_weights=True\n",
        ")\n",
        "# Train the model\n",
        "reset_seeds()\n",
        "print(\"Training log for LSTM-FCN classifier:\")\n",
        "classifier_history = classifier.fit(\n",
        "    X_train,\n",
        "    y_train,\n",
        "    epochs=150,\n",
        "    batch_size=12,\n",
        "    shuffle=True,\n",
        "    verbose=True,\n",
        "    validation_data=(X_validation, y_validation),\n",
        "    callbacks=[early_stopping_accuracy],\n",
        ")\n",
        "\n",
        "y_pred = classifier.predict(X_test)\n",
        "y_pred_classes = np.argmax(y_pred, axis=1)\n",
        "acc = balanced_accuracy_score(y_true=y_test_classes, y_pred=y_pred_classes)\n",
        "print(f\"LSTM-FCN classifier trained, with validation accuracy {acc}.\")\n",
        "\n",
        "confusion_matrix_df = pd.DataFrame(\n",
        "    confusion_matrix(y_true=y_test_classes, y_pred=y_pred_classes, labels=[1, 0]),\n",
        "    index=[\"True:1\", \"True:0\"],\n",
        "    columns=[\"Pred:1\", \"Pred:0\"],\n",
        ")\n",
        "print(confusion_matrix_df)\n"
      ],
      "metadata": {
        "id": "yNkKTXe6IIyF",
        "outputId": "30cae473-ec4c-45d0-83b9-adcaaf617219",
        "colab": {
          "base_uri": "https://localhost:8080/"
        }
      },
      "execution_count": 14,
      "outputs": [
        {
          "output_type": "stream",
          "name": "stderr",
          "text": [
            "WARNING:absl:`lr` is deprecated in Keras optimizer, please use `learning_rate` or use the legacy optimizer, e.g.,tf.keras.optimizers.legacy.Adam.\n"
          ]
        },
        {
          "output_type": "stream",
          "name": "stdout",
          "text": [
            "Training log for LSTM-FCN classifier:\n",
            "Epoch 1/150\n",
            "122/122 [==============================] - 8s 27ms/step - loss: 0.2545 - accuracy: 0.9208 - val_loss: 0.6929 - val_accuracy: 0.5000\n",
            "Epoch 2/150\n",
            "122/122 [==============================] - 1s 11ms/step - loss: 0.0781 - accuracy: 0.9822 - val_loss: 0.8322 - val_accuracy: 0.5000\n",
            "Epoch 3/150\n",
            "122/122 [==============================] - 1s 11ms/step - loss: 0.0494 - accuracy: 0.9904 - val_loss: 1.6052 - val_accuracy: 0.5000\n",
            "Epoch 4/150\n",
            "122/122 [==============================] - 1s 11ms/step - loss: 0.0321 - accuracy: 0.9945 - val_loss: 0.8264 - val_accuracy: 0.5000\n",
            "Epoch 5/150\n",
            "122/122 [==============================] - 1s 11ms/step - loss: 0.0417 - accuracy: 0.9911 - val_loss: 0.0557 - val_accuracy: 0.9891\n",
            "Epoch 6/150\n",
            "122/122 [==============================] - 1s 11ms/step - loss: 0.0184 - accuracy: 0.9973 - val_loss: 0.1383 - val_accuracy: 0.9863\n",
            "Epoch 7/150\n",
            "122/122 [==============================] - 1s 11ms/step - loss: 0.0244 - accuracy: 0.9945 - val_loss: 0.0116 - val_accuracy: 0.9918\n",
            "Epoch 8/150\n",
            "122/122 [==============================] - 1s 11ms/step - loss: 0.0132 - accuracy: 0.9973 - val_loss: 0.0256 - val_accuracy: 0.9891\n",
            "Epoch 9/150\n",
            "122/122 [==============================] - 2s 13ms/step - loss: 0.0088 - accuracy: 0.9986 - val_loss: 0.0256 - val_accuracy: 0.9918\n",
            "Epoch 10/150\n",
            "122/122 [==============================] - 2s 16ms/step - loss: 0.0069 - accuracy: 0.9993 - val_loss: 0.0152 - val_accuracy: 0.9918\n",
            "Epoch 11/150\n",
            "122/122 [==============================] - 1s 11ms/step - loss: 0.0082 - accuracy: 0.9986 - val_loss: 0.0092 - val_accuracy: 0.9973\n",
            "Epoch 12/150\n",
            "122/122 [==============================] - 1s 10ms/step - loss: 0.0076 - accuracy: 0.9986 - val_loss: 0.0279 - val_accuracy: 0.9945\n",
            "Epoch 13/150\n",
            "122/122 [==============================] - 1s 11ms/step - loss: 0.0050 - accuracy: 0.9993 - val_loss: 0.0166 - val_accuracy: 0.9945\n",
            "Epoch 14/150\n",
            "122/122 [==============================] - 1s 10ms/step - loss: 0.0053 - accuracy: 0.9986 - val_loss: 0.4943 - val_accuracy: 0.7541\n",
            "Epoch 15/150\n",
            "122/122 [==============================] - 1s 10ms/step - loss: 0.0059 - accuracy: 0.9993 - val_loss: 9.2792e-04 - val_accuracy: 1.0000\n",
            "Epoch 16/150\n",
            "122/122 [==============================] - 1s 11ms/step - loss: 0.0165 - accuracy: 0.9973 - val_loss: 0.9133 - val_accuracy: 0.5656\n",
            "Epoch 17/150\n",
            "122/122 [==============================] - 1s 11ms/step - loss: 0.0051 - accuracy: 0.9986 - val_loss: 0.0075 - val_accuracy: 0.9973\n",
            "Epoch 18/150\n",
            "122/122 [==============================] - 2s 13ms/step - loss: 0.0086 - accuracy: 0.9986 - val_loss: 0.0061 - val_accuracy: 0.9973\n",
            "Epoch 19/150\n",
            "122/122 [==============================] - 2s 16ms/step - loss: 0.0218 - accuracy: 0.9932 - val_loss: 0.0526 - val_accuracy: 0.9945\n",
            "Epoch 20/150\n",
            "122/122 [==============================] - 1s 10ms/step - loss: 0.0053 - accuracy: 0.9986 - val_loss: 1.6869e-04 - val_accuracy: 1.0000\n",
            "Epoch 21/150\n",
            "122/122 [==============================] - 1s 11ms/step - loss: 0.0025 - accuracy: 1.0000 - val_loss: 1.2739e-04 - val_accuracy: 1.0000\n",
            "Epoch 22/150\n",
            "122/122 [==============================] - 1s 10ms/step - loss: 0.0018 - accuracy: 1.0000 - val_loss: 1.1377e-04 - val_accuracy: 1.0000\n",
            "Epoch 23/150\n",
            "122/122 [==============================] - 1s 11ms/step - loss: 0.0013 - accuracy: 1.0000 - val_loss: 5.6324e-05 - val_accuracy: 1.0000\n",
            "Epoch 24/150\n",
            "122/122 [==============================] - 1s 11ms/step - loss: 0.0019 - accuracy: 1.0000 - val_loss: 9.5344e-05 - val_accuracy: 1.0000\n",
            "Epoch 25/150\n",
            "122/122 [==============================] - 1s 10ms/step - loss: 0.0067 - accuracy: 0.9986 - val_loss: 1.4965e-04 - val_accuracy: 1.0000\n",
            "Epoch 26/150\n",
            "122/122 [==============================] - 1s 11ms/step - loss: 0.0067 - accuracy: 0.9973 - val_loss: 0.0132 - val_accuracy: 0.9973\n",
            "Epoch 27/150\n",
            "122/122 [==============================] - 1s 12ms/step - loss: 0.0059 - accuracy: 0.9973 - val_loss: 0.0014 - val_accuracy: 1.0000\n",
            "Epoch 28/150\n",
            "122/122 [==============================] - 2s 16ms/step - loss: 0.0094 - accuracy: 0.9980 - val_loss: 0.0957 - val_accuracy: 0.9699\n",
            "Epoch 29/150\n",
            "122/122 [==============================] - 1s 11ms/step - loss: 0.0140 - accuracy: 0.9939 - val_loss: 0.0025 - val_accuracy: 0.9973\n",
            "Epoch 30/150\n",
            "122/122 [==============================] - 1s 11ms/step - loss: 0.0039 - accuracy: 0.9986 - val_loss: 0.0030 - val_accuracy: 1.0000\n",
            "14/14 [==============================] - 1s 5ms/step\n",
            "LSTM-FCN classifier trained, with validation accuracy 0.9976303317535544.\n",
            "        Pred:1  Pred:0\n",
            "True:1     210       1\n",
            "True:0       0     229\n"
          ]
        }
      ]
    },
    {
      "cell_type": "code",
      "source": [
        "def AutoencoderLSTM(n_timesteps, n_features):\n",
        "    # Define encoder and decoder structure\n",
        "    # structure from medium post: https://towardsdatascience.com/step-by-step-understanding-lstm-autoencoder-layers-ffab055b6352\n",
        "    def EncoderLSTM(input):\n",
        "        # x = keras.layers.LSTM(64, activation='relu', return_sequences=True)(input)\n",
        "        x = keras.layers.LSTM(64, activation=\"tanh\", return_sequences=True)(input)\n",
        "        # encoded = keras.layers.LSTM(32, activation='relu', return_sequences=False)(x)\n",
        "        encoded = keras.layers.LSTM(32, activation=\"tanh\", return_sequences=False)(x)\n",
        "        return encoded\n",
        "\n",
        "    def DecoderLSTM(encoded):\n",
        "        x = keras.layers.RepeatVector(n_timesteps)(encoded)\n",
        "        # x = keras.layers.LSTM(32, activation='relu', return_sequences=True)(x)\n",
        "        x = keras.layers.LSTM(32, activation=\"tanh\", return_sequences=True)(x)\n",
        "        # x = keras.layers.LSTM(64, activation='relu', return_sequences=True)(x)\n",
        "        x = keras.layers.LSTM(64, activation=\"tanh\", return_sequences=True)(x)\n",
        "        decoded = keras.layers.TimeDistributed(\n",
        "            keras.layers.Dense(n_features, activation=\"sigmoid\")\n",
        "        )(x)\n",
        "        return decoded\n",
        "\n",
        "    # Define the AE model\n",
        "    orig_input2 = keras.Input(shape=(n_timesteps, n_features))\n",
        "\n",
        "    autoencoder2 = keras.Model(\n",
        "        inputs=orig_input2, outputs=DecoderLSTM(EncoderLSTM(orig_input2))\n",
        "    )\n",
        "\n",
        "    return autoencoder2"
      ],
      "metadata": {
        "id": "p_VffRwwIHFu"
      },
      "execution_count": 15,
      "outputs": []
    },
    {
      "cell_type": "code",
      "source": [
        "reset_seeds()\n",
        "\n",
        "# ### LSTM autoencoder\n",
        "autoencoder = AutoencoderLSTM( n_timesteps_padded,n_features)\n",
        "optimizer = keras.optimizers.Adam(lr=0.0005)\n",
        "autoencoder.compile(optimizer=optimizer, loss=\"mse\")\n",
        "\n",
        "# Define the early stopping criteria\n",
        "early_stopping = keras.callbacks.EarlyStopping(monitor='val_loss', min_delta=0.0001, patience=5, restore_best_weights=True)\n",
        "# Train the model\n",
        "reset_seeds()\n",
        "print(\"Training log for 1dCNN autoencoder:\")\n",
        "autoencoder_history = autoencoder.fit(\n",
        "    X_train,\n",
        "    X_train,\n",
        "    epochs=50,\n",
        "    batch_size=12,\n",
        "    shuffle=True,\n",
        "    verbose=2,\n",
        "    validation_data=(X_validation, X_validation),\n",
        "    callbacks=[early_stopping])\n",
        "\n",
        "ae_val_loss = np.min(autoencoder_history.history['val_loss'])\n",
        "print(f\"1dCNN autoencoder trained, with validation loss: {ae_val_loss}.\")\n"
      ],
      "metadata": {
        "id": "E6IxH8BLEKFG",
        "outputId": "dfab9b40-2b35-4fc8-8484-c94a4a0577c5",
        "colab": {
          "base_uri": "https://localhost:8080/"
        }
      },
      "execution_count": 16,
      "outputs": [
        {
          "output_type": "stream",
          "name": "stderr",
          "text": [
            "WARNING:absl:`lr` is deprecated in Keras optimizer, please use `learning_rate` or use the legacy optimizer, e.g.,tf.keras.optimizers.legacy.Adam.\n"
          ]
        },
        {
          "output_type": "stream",
          "name": "stdout",
          "text": [
            "Training log for 1dCNN autoencoder:\n",
            "Epoch 1/50\n",
            "122/122 - 12s - loss: 0.0997 - val_loss: 0.0745 - 12s/epoch - 96ms/step\n",
            "Epoch 2/50\n",
            "122/122 - 2s - loss: 0.0627 - val_loss: 0.0541 - 2s/epoch - 16ms/step\n",
            "Epoch 3/50\n",
            "122/122 - 3s - loss: 0.0427 - val_loss: 0.0345 - 3s/epoch - 21ms/step\n",
            "Epoch 4/50\n",
            "122/122 - 2s - loss: 0.0307 - val_loss: 0.0281 - 2s/epoch - 16ms/step\n",
            "Epoch 5/50\n",
            "122/122 - 2s - loss: 0.0269 - val_loss: 0.0243 - 2s/epoch - 15ms/step\n",
            "Epoch 6/50\n",
            "122/122 - 2s - loss: 0.0236 - val_loss: 0.0224 - 2s/epoch - 16ms/step\n",
            "Epoch 7/50\n",
            "122/122 - 2s - loss: 0.0217 - val_loss: 0.0207 - 2s/epoch - 15ms/step\n",
            "Epoch 8/50\n",
            "122/122 - 2s - loss: 0.0196 - val_loss: 0.0200 - 2s/epoch - 15ms/step\n",
            "Epoch 9/50\n",
            "122/122 - 2s - loss: 0.0181 - val_loss: 0.0188 - 2s/epoch - 19ms/step\n",
            "Epoch 10/50\n",
            "122/122 - 2s - loss: 0.0163 - val_loss: 0.0172 - 2s/epoch - 19ms/step\n",
            "Epoch 11/50\n",
            "122/122 - 2s - loss: 0.0149 - val_loss: 0.0154 - 2s/epoch - 14ms/step\n",
            "Epoch 12/50\n",
            "122/122 - 2s - loss: 0.0137 - val_loss: 0.0156 - 2s/epoch - 14ms/step\n",
            "Epoch 13/50\n",
            "122/122 - 2s - loss: 0.0125 - val_loss: 0.0136 - 2s/epoch - 15ms/step\n",
            "Epoch 14/50\n",
            "122/122 - 2s - loss: 0.0120 - val_loss: 0.0129 - 2s/epoch - 14ms/step\n",
            "Epoch 15/50\n",
            "122/122 - 2s - loss: 0.0114 - val_loss: 0.0136 - 2s/epoch - 15ms/step\n",
            "Epoch 16/50\n",
            "122/122 - 3s - loss: 0.0108 - val_loss: 0.0117 - 3s/epoch - 22ms/step\n",
            "Epoch 17/50\n",
            "122/122 - 2s - loss: 0.0104 - val_loss: 0.0122 - 2s/epoch - 14ms/step\n",
            "Epoch 18/50\n",
            "122/122 - 2s - loss: 0.0096 - val_loss: 0.0112 - 2s/epoch - 15ms/step\n",
            "Epoch 19/50\n",
            "122/122 - 2s - loss: 0.0093 - val_loss: 0.0097 - 2s/epoch - 16ms/step\n",
            "Epoch 20/50\n",
            "122/122 - 2s - loss: 0.0084 - val_loss: 0.0105 - 2s/epoch - 15ms/step\n",
            "Epoch 21/50\n",
            "122/122 - 2s - loss: 0.0082 - val_loss: 0.0094 - 2s/epoch - 15ms/step\n",
            "Epoch 22/50\n",
            "122/122 - 2s - loss: 0.0079 - val_loss: 0.0086 - 2s/epoch - 19ms/step\n",
            "Epoch 23/50\n",
            "122/122 - 2s - loss: 0.0075 - val_loss: 0.0085 - 2s/epoch - 18ms/step\n",
            "Epoch 24/50\n",
            "122/122 - 2s - loss: 0.0072 - val_loss: 0.0079 - 2s/epoch - 15ms/step\n",
            "Epoch 25/50\n",
            "122/122 - 2s - loss: 0.0068 - val_loss: 0.0074 - 2s/epoch - 15ms/step\n",
            "Epoch 26/50\n",
            "122/122 - 2s - loss: 0.0065 - val_loss: 0.0074 - 2s/epoch - 16ms/step\n",
            "Epoch 27/50\n",
            "122/122 - 2s - loss: 0.0070 - val_loss: 0.0087 - 2s/epoch - 15ms/step\n",
            "Epoch 28/50\n",
            "122/122 - 2s - loss: 0.0066 - val_loss: 0.0069 - 2s/epoch - 17ms/step\n",
            "Epoch 29/50\n",
            "122/122 - 2s - loss: 0.0059 - val_loss: 0.0067 - 2s/epoch - 20ms/step\n",
            "Epoch 30/50\n",
            "122/122 - 2s - loss: 0.0057 - val_loss: 0.0065 - 2s/epoch - 15ms/step\n",
            "Epoch 31/50\n",
            "122/122 - 2s - loss: 0.0056 - val_loss: 0.0067 - 2s/epoch - 16ms/step\n",
            "Epoch 32/50\n",
            "122/122 - 2s - loss: 0.0055 - val_loss: 0.0064 - 2s/epoch - 16ms/step\n",
            "Epoch 33/50\n",
            "122/122 - 2s - loss: 0.0052 - val_loss: 0.0057 - 2s/epoch - 15ms/step\n",
            "Epoch 34/50\n",
            "122/122 - 2s - loss: 0.0050 - val_loss: 0.0057 - 2s/epoch - 15ms/step\n",
            "Epoch 35/50\n",
            "122/122 - 3s - loss: 0.0050 - val_loss: 0.0054 - 3s/epoch - 23ms/step\n",
            "Epoch 36/50\n",
            "122/122 - 2s - loss: 0.0048 - val_loss: 0.0052 - 2s/epoch - 15ms/step\n",
            "Epoch 37/50\n",
            "122/122 - 2s - loss: 0.0046 - val_loss: 0.0051 - 2s/epoch - 16ms/step\n",
            "Epoch 38/50\n",
            "122/122 - 2s - loss: 0.0043 - val_loss: 0.0048 - 2s/epoch - 16ms/step\n",
            "Epoch 39/50\n",
            "122/122 - 2s - loss: 0.0044 - val_loss: 0.0051 - 2s/epoch - 14ms/step\n",
            "Epoch 40/50\n",
            "122/122 - 2s - loss: 0.0043 - val_loss: 0.0046 - 2s/epoch - 15ms/step\n",
            "Epoch 41/50\n",
            "122/122 - 2s - loss: 0.0041 - val_loss: 0.0051 - 2s/epoch - 20ms/step\n",
            "Epoch 42/50\n",
            "122/122 - 2s - loss: 0.0041 - val_loss: 0.0045 - 2s/epoch - 17ms/step\n",
            "Epoch 43/50\n",
            "122/122 - 2s - loss: 0.0039 - val_loss: 0.0042 - 2s/epoch - 14ms/step\n",
            "Epoch 44/50\n",
            "122/122 - 2s - loss: 0.0039 - val_loss: 0.0044 - 2s/epoch - 15ms/step\n",
            "Epoch 45/50\n",
            "122/122 - 2s - loss: 0.0038 - val_loss: 0.0043 - 2s/epoch - 14ms/step\n",
            "Epoch 46/50\n",
            "122/122 - 2s - loss: 0.0038 - val_loss: 0.0042 - 2s/epoch - 14ms/step\n",
            "Epoch 47/50\n",
            "122/122 - 2s - loss: 0.0035 - val_loss: 0.0041 - 2s/epoch - 15ms/step\n",
            "Epoch 48/50\n",
            "122/122 - 3s - loss: 0.0036 - val_loss: 0.0038 - 3s/epoch - 21ms/step\n",
            "Epoch 49/50\n",
            "122/122 - 2s - loss: 0.0035 - val_loss: 0.0037 - 2s/epoch - 15ms/step\n",
            "Epoch 50/50\n",
            "122/122 - 2s - loss: 0.0034 - val_loss: 0.0036 - 2s/epoch - 17ms/step\n",
            "1dCNN autoencoder trained, with validation loss: 0.00356681807897985.\n"
          ]
        }
      ]
    },
    {
      "cell_type": "code",
      "source": [
        "idx = 0\n",
        "sample = X_test[idx:idx+1]\n",
        "sample_label = y_test[idx:idx+1]\n",
        "autoencoded_sample = autoencoder.predict(sample)\n",
        "visualise_decoded_digit(autoencoded_sample,sample_label)\n",
        "visualise_digit(X_test,y_test,idx)"
      ],
      "metadata": {
        "id": "KGldOuWp06wB",
        "outputId": "20f03b3b-286b-4d9d-8912-ee73fba87698",
        "colab": {
          "base_uri": "https://localhost:8080/",
          "height": 1000
        }
      },
      "execution_count": 17,
      "outputs": [
        {
          "output_type": "stream",
          "name": "stdout",
          "text": [
            "1/1 [==============================] - 2s 2s/step\n",
            "y = [[1. 0.]]\n"
          ]
        },
        {
          "output_type": "display_data",
          "data": {
            "text/plain": [
              "<Figure size 500x500 with 1 Axes>"
            ],
            "image/png": "[encoded data removed]"
          },
          "metadata": {}
        },
        {
          "output_type": "stream",
          "name": "stdout",
          "text": [
            "y = [1. 0.]\n"
          ]
        },
        {
          "output_type": "display_data",
          "data": {
            "text/plain": [
              "<Figure size 500x500 with 1 Axes>"
            ],
            "image/png": "[encoded data removed]"
          },
          "metadata": {}
        }
      ]
    },
    {
      "cell_type": "code",
      "source": [
        "#Gettting the Global weights, needed for counterfactuals\n",
        "\n",
        "from _guided import get_global_weights\n",
        "from help_functions import evaluate\n",
        "pos_label = 1\n",
        "neg_label = 0\n",
        "\n",
        "step_weights = get_global_weights(\n",
        "        X,\n",
        "        y_classes,\n",
        "        classifier,\n",
        "        n_timesteps= n_timesteps,\n",
        "        n_features=n_features,\n",
        "        random_state=RANDOM_STATE,\n",
        ")\n"
      ],
      "metadata": {
        "id": "hysd9dxSsx9h",
        "outputId": "f94ec99b-ce17-43b1-c3cc-f791bc288be7",
        "colab": {
          "base_uri": "https://localhost:8080/"
        }
      },
      "execution_count": 18,
      "outputs": [
        {
          "output_type": "stream",
          "name": "stdout",
          "text": [
            "72/72 [==============================] - 1s 5ms/step\n",
            "72/72 [==============================] - 0s 5ms/step\n",
            "72/72 [==============================] - 0s 5ms/step\n",
            "72/72 [==============================] - 0s 5ms/step\n",
            "72/72 [==============================] - 0s 5ms/step\n",
            "72/72 [==============================] - 1s 7ms/step\n",
            "72/72 [==============================] - 1s 7ms/step\n",
            "72/72 [==============================] - 1s 6ms/step\n",
            "72/72 [==============================] - 0s 5ms/step\n",
            "72/72 [==============================] - 0s 5ms/step\n",
            "72/72 [==============================] - 0s 5ms/step\n",
            "72/72 [==============================] - 0s 5ms/step\n",
            "72/72 [==============================] - 0s 5ms/step\n",
            "72/72 [==============================] - 0s 5ms/step\n",
            "72/72 [==============================] - 0s 5ms/step\n",
            "72/72 [==============================] - 0s 5ms/step\n",
            "72/72 [==============================] - 0s 5ms/step\n",
            "72/72 [==============================] - 0s 5ms/step\n",
            "72/72 [==============================] - 0s 5ms/step\n",
            "72/72 [==============================] - 0s 5ms/step\n",
            "72/72 [==============================] - 0s 5ms/step\n",
            "72/72 [==============================] - 0s 5ms/step\n",
            "72/72 [==============================] - 0s 5ms/step\n",
            "72/72 [==============================] - 0s 5ms/step\n",
            "72/72 [==============================] - 0s 5ms/step\n",
            "72/72 [==============================] - 1s 7ms/step\n",
            "72/72 [==============================] - 1s 7ms/step\n",
            "72/72 [==============================] - 1s 7ms/step\n",
            "72/72 [==============================] - 0s 5ms/step\n",
            "72/72 [==============================] - 0s 5ms/step\n",
            "72/72 [==============================] - 0s 5ms/step\n",
            "72/72 [==============================] - 0s 5ms/step\n",
            "72/72 [==============================] - 0s 5ms/step\n",
            "72/72 [==============================] - 0s 5ms/step\n",
            "72/72 [==============================] - 0s 5ms/step\n",
            "72/72 [==============================] - 0s 5ms/step\n",
            "72/72 [==============================] - 0s 5ms/step\n",
            "72/72 [==============================] - 0s 5ms/step\n",
            "72/72 [==============================] - 0s 5ms/step\n",
            "72/72 [==============================] - 0s 5ms/step\n",
            "72/72 [==============================] - 0s 5ms/step\n",
            "72/72 [==============================] - 0s 5ms/step\n",
            "72/72 [==============================] - 0s 5ms/step\n",
            "72/72 [==============================] - 0s 5ms/step\n",
            "72/72 [==============================] - 0s 5ms/step\n",
            "72/72 [==============================] - 1s 7ms/step\n",
            "72/72 [==============================] - 1s 7ms/step\n",
            "72/72 [==============================] - 1s 7ms/step\n",
            "72/72 [==============================] - 0s 5ms/step\n",
            "72/72 [==============================] - 0s 5ms/step\n",
            "72/72 [==============================] - 0s 5ms/step\n",
            "72/72 [==============================] - 0s 5ms/step\n",
            "72/72 [==============================] - 0s 5ms/step\n",
            "72/72 [==============================] - 0s 5ms/step\n",
            "72/72 [==============================] - 0s 5ms/step\n",
            "72/72 [==============================] - 0s 5ms/step\n",
            "72/72 [==============================] - 0s 5ms/step\n",
            "72/72 [==============================] - 0s 5ms/step\n",
            "72/72 [==============================] - 0s 5ms/step\n",
            "72/72 [==============================] - 0s 5ms/step\n",
            "72/72 [==============================] - 0s 5ms/step\n",
            "72/72 [==============================] - 0s 5ms/step\n",
            "72/72 [==============================] - 0s 5ms/step\n",
            "72/72 [==============================] - 0s 5ms/step\n",
            "72/72 [==============================] - 0s 5ms/step\n",
            "72/72 [==============================] - 0s 5ms/step\n",
            "72/72 [==============================] - 1s 6ms/step\n",
            "72/72 [==============================] - 1s 7ms/step\n",
            "72/72 [==============================] - 1s 7ms/step\n",
            "72/72 [==============================] - 0s 5ms/step\n",
            "72/72 [==============================] - 0s 5ms/step\n",
            "72/72 [==============================] - 0s 5ms/step\n",
            "72/72 [==============================] - 0s 5ms/step\n",
            "72/72 [==============================] - 0s 5ms/step\n",
            "72/72 [==============================] - 0s 5ms/step\n",
            "72/72 [==============================] - 0s 5ms/step\n",
            "72/72 [==============================] - 0s 5ms/step\n",
            "72/72 [==============================] - 0s 5ms/step\n",
            "72/72 [==============================] - 0s 5ms/step\n",
            "72/72 [==============================] - 0s 5ms/step\n",
            "72/72 [==============================] - 0s 5ms/step\n"
          ]
        }
      ]
    },
    {
      "cell_type": "code",
      "source": [
        "step_weights"
      ],
      "metadata": {
        "id": "BdTpIDFD-YL3",
        "outputId": "f67f6510-af58-429d-c7e7-e4b1c8afaa5c",
        "colab": {
          "base_uri": "https://localhost:8080/"
        }
      },
      "execution_count": 19,
      "outputs": [
        {
          "output_type": "execute_result",
          "data": {
            "text/plain": [
              "array([[[1., 1.],\n",
              "        [1., 1.],\n",
              "        [0., 1.],\n",
              "        [1., 1.],\n",
              "        [0., 1.],\n",
              "        [0., 0.],\n",
              "        [1., 1.],\n",
              "        [1., 1.]]])"
            ]
          },
          "metadata": {},
          "execution_count": 19
        }
      ]
    },
    {
      "cell_type": "code",
      "source": [
        "reset_seeds()\n",
        "cf_model = ModifiedLatentCF(\n",
        "    probability=0.9,tolerance=1e-6, max_iter=500, optimizer=tf.keras.optimizers.legacy.Adam(learning_rate=0.001),autoencoder = autoencoder,\n",
        "    pred_margin_weight=0.7, step_weights = step_weights, random_state= RANDOM_STATE)\n",
        "cf_model.fit(classifier)\n",
        "\n",
        "y_neg = y_classes[y_classes == 0]\n",
        "X_neg = X[y_classes == 0]\n",
        "\n",
        "\n",
        "with warnings.catch_warnings():\n",
        "    warnings.simplefilter(\"ignore\", category=RuntimeWarning) # ignore warning of matrix multiplication: https://stackoverflow.com/questions/29688168/mean-nanmean-and-warning-mean-of-empty-slice\n",
        "    cf_embeddings, losses, weights = cf_model.transform(X_neg, y_neg) #self, x, pred_label\n",
        "cf_pred_labels = classifier.predict(cf_embeddings)[:,1]# predicted probabilities of CFs\n",
        "for idx in range(cf_pred_labels.shape[0]):\n",
        "  if cf_pred_labels[idx] > 0.5:\n",
        "    cf_pred_labels[idx] = 1\n",
        "  else:\n",
        "    cf_pred_labels[idx] = 0\n",
        "\n",
        "print(f'Transformation_finished with validity_score = {validity_score(y_neg,cf_pred_labels)}')"
      ],
      "metadata": {
        "id": "f-Xy39aj8q9S",
        "outputId": "82fcadbf-3375-4973-d544-8b0e824d05d2",
        "colab": {
          "base_uri": "https://localhost:8080/"
        }
      },
      "execution_count": null,
      "outputs": [
        {
          "output_type": "stream",
          "name": "stdout",
          "text": [
            "1 samples been transformed.\n"
          ]
        }
      ]
    },
    {
      "cell_type": "code",
      "source": [
        "for i in range(5):\n",
        "   i=i+30\n",
        "   print(\"actual\")\n",
        "   visualise_digit(X_neg,y_neg,i,figsize = (5,5))\n",
        "   print(\"counterfactual\")\n",
        "   visualise_digit(cf_embeddings,y_neg,i,figsize = (5,5))\n"
      ],
      "metadata": {
        "id": "UbvQjP1RpiYh"
      },
      "execution_count": null,
      "outputs": []
    },
    {
      "cell_type": "code",
      "source": [
        "#Calculating proximity withour absolute\n",
        "from tensorflow.keras.losses import MeanSquaredError\n",
        "total_mse = 0\n",
        "probability = 0.9\n",
        "for idx in range(cf_embeddings.shape[0]):\n",
        "    counterfactual = cf_embeddings[idx,np.newaxis]\n",
        "    prediction = classifier.predict(counterfactual)[:, 1]\n",
        "    mse = MeanSquaredError()\n",
        "    mse_dist = mse(probability, prediction).numpy()\n",
        "    total_mse +=mse_dist\n",
        "mean_mse = total_mse /cf_embeddings.shape[0]\n"
      ],
      "metadata": {
        "id": "Nvlack0n40dJ"
      },
      "execution_count": null,
      "outputs": []
    },
    {
      "cell_type": "code",
      "source": [
        "print(f\"The Mean MSE of the data is: {mean_mse} \")"
      ],
      "metadata": {
        "id": "fRovvsgVk4bG"
      },
      "execution_count": null,
      "outputs": []
    },
    {
      "cell_type": "code",
      "source": [
        "#Calculating proximity with absolute\n",
        "from tensorflow.keras.losses import MeanSquaredError\n",
        "total = 0\n",
        "probability = 0.9\n",
        "for idx in range(cf_embeddings.shape[0]):\n",
        "    counterfactual = cf_embeddings[idx,np.newaxis]\n",
        "    prediction = classifier.predict(counterfactual)[:, 1]\n",
        "    dist = abs(prediction - probability)\n",
        "    total +=dist\n",
        "mean_mse = total /cf_embeddings.shape[0]\n"
      ],
      "metadata": {
        "id": "oK3o9SQB41a9"
      },
      "execution_count": null,
      "outputs": []
    },
    {
      "cell_type": "code",
      "source": [
        "print(f\"The Mean MSE of the data is: {mean_mse} \")"
      ],
      "metadata": {
        "id": "TTVEgQNkk6Aj"
      },
      "execution_count": null,
      "outputs": []
    },
    {
      "cell_type": "code",
      "source": [
        "#Proximity\n",
        "def euclidean_distance(X, cf_samples):\n",
        "    paired_distances = np.linalg.norm(X - cf_samples, axis=1)\n",
        "    return np.mean(paired_distances)\n",
        "euclidean_distance(X_neg, cf_embeddings)"
      ],
      "metadata": {
        "id": "ZTsPvh1lotsk"
      },
      "execution_count": null,
      "outputs": []
    },
    {
      "cell_type": "code",
      "source": [
        "from scipy.stats import gaussian_kde\n",
        "\n",
        "diffrences_from_abnormal = []\n",
        "diffrences_from_normal = []\n",
        "for dimention in range(cf_embeddings.shape[2]):\n",
        "\n",
        "\n",
        "  abnormal_data = X[y_classes == 1][:,:,dimention]\n",
        "  normal_data = X[y_classes == 0][:,:,dimention]\n",
        "  counterf_data = cf_embeddings[:,:,dimention]\n",
        "\n",
        "  #get the kernel for every dimention of the trained\n",
        "  kernel = gaussian_kde(abnormal_data.T,bw_method=None)\n",
        "\n",
        "  #get all the log likelihoods\n",
        "  log_likelihood_abnormal = np.mean(kernel.logpdf(abnormal_data.T))\n",
        "  log_likelihood_normal = np.mean(kernel.logpdf(normal_data.T))\n",
        "  log_likelihood_counterfactual = np.mean(kernel.logpdf(counterf_data.T))\n",
        "\n",
        "  #get the diffrences from the counterfactuals\n",
        "  diff_from_abnormal = abs(log_likelihood_counterfactual-log_likelihood_abnormal)\n",
        "  diffrences_from_abnormal.append(diff_from_abnormal)\n",
        "\n",
        "  diff_from_normal = abs(log_likelihood_counterfactual-log_likelihood_normal)\n",
        "  diffrences_from_normal.append(diff_from_normal)\n"
      ],
      "metadata": {
        "id": "7GSjwx8w4liQ"
      },
      "execution_count": null,
      "outputs": []
    },
    {
      "cell_type": "code",
      "source": [
        "diffrences_from_normal"
      ],
      "metadata": {
        "id": "G6rd-6JvFLP1"
      },
      "execution_count": null,
      "outputs": []
    },
    {
      "cell_type": "code",
      "source": [
        "diffrences_from_abnormal"
      ],
      "metadata": {
        "id": "7j6tO69OFNdv"
      },
      "execution_count": null,
      "outputs": []
    }
  ]
}