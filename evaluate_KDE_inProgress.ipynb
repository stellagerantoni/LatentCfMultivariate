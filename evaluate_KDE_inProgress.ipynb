{
  "nbformat": 4,
  "nbformat_minor": 0,
  "metadata": {
    "colab": {
      "provenance": [],
      "include_colab_link": true
    },
    "kernelspec": {
      "name": "python3",
      "display_name": "Python 3"
    },
    "language_info": {
      "name": "python"
    }
  },
  "cells": [
    {
      "cell_type": "markdown",
      "metadata": {
        "id": "view-in-github",
        "colab_type": "text"
      },
      "source": [
        "<a href=\"https://colab.research.google.com/github/stellagerantoni/LatentCfMultivariate/blob/main/evaluate_KDE_inProgress.ipynb\" target=\"_parent\"><img src=\"https://colab.research.google.com/assets/colab-badge.svg\" alt=\"Open In Colab\"/></a>"
      ]
    },
    {
      "cell_type": "code",
      "source": [
        "! git clone https://github.com/stellagerantoni/LatentCfMultivariate"
      ],
      "metadata": {
        "id": "1fwOXGEl_ine"
      },
      "execution_count": null,
      "outputs": []
    },
    {
      "cell_type": "code",
      "source": [
        "!pip install -q wildboar\n",
        "!pip install -q scikit-learn\n",
        "!pip install -q stumpy\n",
        "!pip install -q fastdtw"
      ],
      "metadata": {
        "id": "89L3kts7CCan"
      },
      "execution_count": null,
      "outputs": []
    },
    {
      "cell_type": "code",
      "source": [
        "!pip install aeon"
      ],
      "metadata": {
        "id": "qZh6v946Bhq8"
      },
      "execution_count": null,
      "outputs": []
    },
    {
      "cell_type": "code",
      "source": [
        "import logging\n",
        "import os\n",
        "import warnings\n",
        "from argparse import ArgumentParser\n",
        "from aeon.datasets import load_classification\n",
        "\n",
        "from tensorflow import keras\n",
        "import matplotlib.pyplot as plt\n",
        "import numpy as np\n",
        "import pandas as pd\n",
        "import tensorflow as tf\n",
        "from scipy.spatial import distance_matrix\n",
        "from sklearn.metrics import balanced_accuracy_score, confusion_matrix\n",
        "from sklearn.model_selection import train_test_split\n",
        "from sklearn.neighbors import KDTree, KNeighborsClassifier\n",
        "from sklearn.preprocessing import MinMaxScaler\n",
        "from wildboar.datasets import load_dataset\n",
        "from wildboar.ensemble import ShapeletForestClassifier\n",
        "from wildboar.explain.counterfactual import counterfactuals\n",
        "%cd '/content/LatentCfMultivariate'\n",
        "from _guided import ModifiedLatentCF\n",
        "from help_functions import *\n",
        "from keras_models import *"
      ],
      "metadata": {
        "colab": {
          "base_uri": "https://localhost:8080/"
        },
        "id": "Bdkpan5lCGRH",
        "outputId": "c7346f6f-a53a-477e-8ae7-d936873e0384"
      },
      "execution_count": 4,
      "outputs": [
        {
          "output_type": "stream",
          "name": "stdout",
          "text": [
            "/content/LatentCfMultivariate\n"
          ]
        }
      ]
    },
    {
      "cell_type": "code",
      "source": [
        "os.environ['TF_DETERMINISTIC_OPS'] = '1'\n",
        "config = tf.compat.v1.ConfigProto()\n",
        "config.gpu_options.allow_growth = True\n",
        "session = tf.compat.v1.Session(config=config)\n",
        "RANDOM_STATE = 39"
      ],
      "metadata": {
        "id": "GJE1AxFnE51S"
      },
      "execution_count": 5,
      "outputs": []
    },
    {
      "cell_type": "markdown",
      "source": [
        "## **FUNCTIONS**"
      ],
      "metadata": {
        "id": "IHBw9E_4Zm5b"
      }
    },
    {
      "cell_type": "code",
      "source": [
        "def load_dataset(dataset):\n",
        "  X, y, meta_data = load_classification(dataset)\n",
        "  if dataset == 'Heartbeat':\n",
        "    pos = 'normal'\n",
        "    neg = 'abnormal'\n",
        "    X = X.transpose(0,2,1)\n",
        "  if dataset == 'SelfRegulationSCP1':\n",
        "    pos = 'positivity'\n",
        "    neg = 'negativity'\n",
        "    X = X.transpose(0,2,1)\n",
        "  if dataset == 'Cricket':\n",
        "    return X,y,meta_data\n",
        "  if dataset == 'SpokenArabicDigits':\n",
        "    return X,y,meta_data\n",
        "  if dataset == 'PenDigits':\n",
        "    return X,y,meta_data\n",
        "\n",
        "  print(\" Shape of X = \", X.shape)\n",
        "  print(\" Shape of y = \", y.shape)\n",
        "  print(\" Meta data = \", meta_data)\n",
        "  # Convert positive and negative labels to 1 and 0\n",
        "  pos_label, neg_label = 1, 0\n",
        "  if pos != pos_label:\n",
        "      y[y==pos] = pos_label # convert/normalize positive label to 1\n",
        "  if neg != neg_label:\n",
        "      y[y==neg] = neg_label # convert negative label to 0\n",
        "\n",
        "  y = y.astype(int)\n",
        "  print(f\"\\n X[:1] = \\n{X[:1]}\")\n",
        "  return X,y,pos_label, neg_label"
      ],
      "metadata": {
        "id": "QsJJktx22dXs"
      },
      "execution_count": 6,
      "outputs": []
    },
    {
      "cell_type": "markdown",
      "source": [
        "# **ACTUALL CODE**\n"
      ],
      "metadata": {
        "id": "6vVfmpyuZyC6"
      }
    },
    {
      "cell_type": "code",
      "source": [
        "#Getting the dataset\n",
        "\n",
        "RANDOM_STATE = 39\n",
        "X,y = load_classification('PenDigits')\n",
        "X = X.transpose(0,2,1)\n",
        "print(f'shape of X = {X.shape}')\n",
        "print(f'shape of y = {y.shape}')\n",
        "#print(f'data imformation = {data_information}')\n",
        "X_train, X_test, y_train, y_test = train_test_split(X, y, test_size=0.2, random_state=RANDOM_STATE, stratify=y)\n",
        "print(f'shape of X train = {X_train.shape}')\n",
        "print(f'shape of y train = {y_train.shape}')"
      ],
      "metadata": {
        "id": "W4m9pwqyVY1b",
        "outputId": "770627cf-3baf-4f76-9fb3-c64c49571328",
        "colab": {
          "base_uri": "https://localhost:8080/"
        }
      },
      "execution_count": 69,
      "outputs": [
        {
          "output_type": "stream",
          "name": "stdout",
          "text": [
            "shape of X = (10992, 8, 2)\n",
            "shape of y = (10992,)\n",
            "shape of X train = (8793, 8, 2)\n",
            "shape of y train = (8793,)\n"
          ]
        }
      ]
    },
    {
      "cell_type": "code",
      "source": [
        "#Upsample the minority class\n",
        "\n",
        "unique_classes, class_counts = np.unique(y_train, return_counts=True)\n",
        "print(f'before: {class_counts}')\n",
        "X_train,y_train = upsample_minority_multivariate(X_train,y_train)\n",
        "X,y = upsample_minority_multivariate(X, y)\n",
        "unique_classes, class_counts = np.unique(y_train, return_counts=True)\n",
        "print(f'after: {class_counts}')"
      ],
      "metadata": {
        "id": "Q2v7QdrHieA8",
        "outputId": "054d2728-88e6-4202-eabc-c37b2c219e70",
        "colab": {
          "base_uri": "https://localhost:8080/"
        }
      },
      "execution_count": 70,
      "outputs": [
        {
          "output_type": "stream",
          "name": "stdout",
          "text": [
            "before: [914 914 915 844 915 844 845 914 844 844]\n",
            "after: [915 915 915 915 915 915 915 915 915 915]\n"
          ]
        }
      ]
    },
    {
      "cell_type": "code",
      "source": [
        "#Processing and Padding all our data\n",
        "#Padding needed for autoencoder\n",
        "\n",
        "n_training,n_timesteps, n_features= X_train.shape\n",
        "\n",
        "X, trained_scaler =  normalize_multivariate(data=X, n_timesteps=n_timesteps, n_features = n_features)\n",
        "X_train_processed, trained_scaler =  normalize_multivariate(data=X_train, n_timesteps=n_timesteps, n_features = n_features)\n",
        "X_test_processed, _ =  normalize_multivariate(data=X_test, n_timesteps=n_timesteps, scaler=trained_scaler, n_features = n_features)\n",
        "\n",
        "X, padding_size = conditional_pad_multivariate(X)\n",
        "X_train_processed_padded, padding_size = conditional_pad_multivariate(X_train_processed) # add extra padding zeros if n_timesteps cannot be divided by 4, required for 1dCNN autoencoder structure\n",
        "X_test_processed_padded, _ = conditional_pad_multivariate(X_test_processed)\n",
        "\n",
        "n_timesteps_padded = X_train_processed_padded.shape[1]\n",
        "print(f\"Data pre-processed, original #timesteps={n_timesteps}, padded #timesteps={n_timesteps_padded}.\")\n",
        "\n",
        "#check the processing (0,1) min should be min 0 and max should be max 1\n",
        "print(f\"\\nmin value = {np.min(X_train)}, max value = {np.max(X_train)}\")\n",
        "print(f\"min value normalized = {np.min(X_train_processed)}, max value normalized= {np.max(X_train_processed)}\")\n",
        "\n",
        "#check that padding paddes the right dimention\n",
        "print(f\"\\nX_train.shape = {X_train.shape}\" )\n",
        "print(f\"X_train_processed_padded.shape = {X_train_processed_padded.shape}\")\n"
      ],
      "metadata": {
        "id": "00Q9QjKy7wEZ",
        "outputId": "c07c6e91-ac55-4776-bb32-135806d23341",
        "colab": {
          "base_uri": "https://localhost:8080/"
        }
      },
      "execution_count": 71,
      "outputs": [
        {
          "output_type": "stream",
          "name": "stdout",
          "text": [
            "Data pre-processed, original #timesteps=8, padded #timesteps=8.\n",
            "\n",
            "min value = 0.0, max value = 100.0\n",
            "min value normalized = 0.0, max value normalized= 1.0\n",
            "\n",
            "X_train.shape = (9150, 8, 2)\n",
            "X_train_processed_padded.shape = (9150, 8, 2)\n"
          ]
        }
      ]
    },
    {
      "cell_type": "code",
      "source": [
        "def extract_two_digits(X,y,n_1,n_2, RANDOM_STATE):\n",
        "  #get the normal and abnormal label\n",
        "  #abnormal is the target label for the latentCF++ model\n",
        "  normal_label = n_1\n",
        "  abnormal_label = n_2\n",
        "\n",
        "  #Get the indices\n",
        "  normal_indices = np.where(y == normal_label)[0]\n",
        "  abnormal_indices = np.where(y == abnormal_label)[0]\n",
        "\n",
        "  #Use the indices to get the wanted data points\n",
        "  X_abnormal = X[abnormal_indices]\n",
        "  y_abnormal = y[abnormal_indices]\n",
        "\n",
        "  X_normal = X[normal_indices]\n",
        "  y_normal = y[normal_indices]\n",
        "\n",
        "  #stack all the data together again\n",
        "  X = np.concatenate([X_abnormal,X_normal])\n",
        "  y = np.concatenate([y_abnormal,y_normal])\n",
        "\n",
        "  #shuffle them\n",
        "  X, y = shuffle(X, y, random_state=RANDOM_STATE)\n",
        "\n",
        "  #iterate over the dataset to make the labels 0 for abnormal and 1 for normal\n",
        "\n",
        "  for i in range(y.shape[0]):\n",
        "    if y[i] == n_2:\n",
        "      y[i]=1\n",
        "    else:\n",
        "      y [i]=0\n",
        "\n",
        "  y = y.astype(int)\n",
        "  print(f'Class 0 represents number {n_1}. [1.,0.]')\n",
        "  print(f'Class 1 represents number {n_2}. [0.,1.]\\n')\n",
        "\n",
        "  return X,y"
      ],
      "metadata": {
        "id": "FlK_y26-7avq"
      },
      "execution_count": 72,
      "outputs": []
    },
    {
      "cell_type": "code",
      "source": [
        "#Get only two classes from the dataset (only too needed for counterfactuals)\n",
        "\n",
        "X, y = extract_two_digits(X,y,'0','8', RANDOM_STATE)\n",
        "X_train, y_train = extract_two_digits(X_train_processed_padded,y_train,'0','8', RANDOM_STATE)\n",
        "X_test, y_test = extract_two_digits(X_test_processed_padded,y_test,'0','8', RANDOM_STATE)"
      ],
      "metadata": {
        "id": "xQ7Aha3TAf5o",
        "outputId": "002b269d-b6a9-437e-993f-4bccc6abeebc",
        "colab": {
          "base_uri": "https://localhost:8080/"
        }
      },
      "execution_count": 73,
      "outputs": [
        {
          "output_type": "stream",
          "name": "stdout",
          "text": [
            "Class 0 represents number 0. [1.,0.]\n",
            "Class 1 represents number 8. [0.,1.]\n",
            "\n",
            "Class 0 represents number 0. [1.,0.]\n",
            "Class 1 represents number 8. [0.,1.]\n",
            "\n",
            "Class 0 represents number 0. [1.,0.]\n",
            "Class 1 represents number 8. [0.,1.]\n",
            "\n"
          ]
        }
      ]
    },
    {
      "cell_type": "code",
      "source": [
        "#splitting the dataset\n",
        "\n",
        "from sklearn.model_selection import train_test_split\n",
        "X_train,X_validation, y_train, y_validation = train_test_split(X_train, y_train, test_size=0.2, random_state=RANDOM_STATE, stratify=y_train)"
      ],
      "metadata": {
        "id": "1mYFZmsvtB9q"
      },
      "execution_count": 74,
      "outputs": []
    },
    {
      "cell_type": "code",
      "source": [
        "#Getting the two forms of labels needed\n",
        "#-the y_classes (1,0,1,0,...)\n",
        "#-the y (one hot encoded)\n",
        "\n",
        "print(f'X_train = {X_train.shape}')\n",
        "print(f'X_validation = {X_validation.shape}')\n",
        "print(f'X_test = {X_test.shape}')\n",
        "\n",
        "y_classes = y\n",
        "y_train_classes = y_train\n",
        "y_validation_classes = y_validation\n",
        "y_test_classes = y_test\n",
        "\n",
        "from tensorflow.keras.utils import to_categorical\n",
        "y = to_categorical(y, len(np.unique(y)))\n",
        "y_train = to_categorical(y_train, len(np.unique(y_train)))\n",
        "y_validation = to_categorical(y_validation, len(np.unique(y_validation)))\n",
        "y_test = to_categorical(y_test, len(np.unique(y_test)))\n",
        "\n",
        "print(f'\\ny_train_classes = {y_train_classes.shape}, y_validation_classes = {y_validation_classes.shape}, y_test_classes = {y_test_classes.shape}')\n",
        "print(f'y_train = {y_train.shape}, y_validation = {y_validation.shape}, y_test= {y_test.shape}')"
      ],
      "metadata": {
        "colab": {
          "base_uri": "https://localhost:8080/"
        },
        "id": "x9b2F-vytxzU",
        "outputId": "bfd76454-c47b-44b1-894d-f9d4d00d7055"
      },
      "execution_count": 75,
      "outputs": [
        {
          "output_type": "stream",
          "name": "stdout",
          "text": [
            "X_train = (1464, 8, 2)\n",
            "X_validation = (366, 8, 2)\n",
            "X_test = (440, 8, 2)\n",
            "\n",
            "y_train_classes = (1464,), y_validation_classes = (366,), y_test_classes = (440,)\n",
            "y_train = (1464, 2), y_validation = (366, 2), y_test= (440, 2)\n"
          ]
        }
      ]
    },
    {
      "cell_type": "code",
      "source": [
        "\n",
        "\n",
        "# ## LatentCF++ models\n",
        "# reset seeds for numpy, tensorflow, python random package and python environment seed\n",
        "reset_seeds()\n",
        "###############################################\n",
        "# ### 1dCNN classifier\n",
        "\n",
        "cnnClassifier = Classifier(\n",
        "    n_timesteps_padded, n_features, n_output=2, add_dense_layer = False\n",
        ")\n",
        "\n",
        "optimizer = keras.optimizers.Adam(lr=0.001)\n",
        "cnnClassifier.compile(\n",
        "    optimizer=optimizer, loss=\"binary_crossentropy\", metrics=[\"accuracy\"]\n",
        ")\n",
        "\n",
        "# Define the early stopping criteria\n",
        "early_stopping_accuracy = keras.callbacks.EarlyStopping(\n",
        "    monitor=\"val_accuracy\", patience=15, restore_best_weights=True\n",
        ")\n",
        "# Train the model\n",
        "reset_seeds()\n",
        "print(\"Training log for LSTM-FCN classifier:\")\n",
        "classifier_history = cnnClassifier.fit(\n",
        "    X_train,\n",
        "    y_train,\n",
        "    epochs=150,\n",
        "    batch_size=12,\n",
        "    shuffle=True,\n",
        "    verbose=True,\n",
        "    validation_data=(X_validation, y_validation),\n",
        "    callbacks=[early_stopping_accuracy],\n",
        ")\n",
        "\n",
        "y_pred = cnnClassifier.predict(X_test)\n",
        "y_pred_classes = np.argmax(y_pred, axis=1)\n",
        "acc = balanced_accuracy_score(y_true=y_test_classes, y_pred=y_pred_classes)\n",
        "print(f\"LSTM-FCN classifier trained, with validation accuracy {acc}.\")\n",
        "\n",
        "confusion_matrix_df = pd.DataFrame(\n",
        "    confusion_matrix(y_true=y_test_classes, y_pred=y_pred_classes, labels=[1, 0]),\n",
        "    index=[\"True:8\", \"True:0\"],\n",
        "    columns=[\"Pred:8\", \"Pred:0\"],\n",
        ")\n",
        "print(confusion_matrix_df)\n"
      ],
      "metadata": {
        "id": "yNkKTXe6IIyF",
        "outputId": "b35f3310-b92c-41d8-d05a-9ff06c0bae5e",
        "colab": {
          "base_uri": "https://localhost:8080/"
        }
      },
      "execution_count": 76,
      "outputs": [
        {
          "output_type": "stream",
          "name": "stderr",
          "text": [
            "WARNING:absl:`lr` is deprecated in Keras optimizer, please use `learning_rate` or use the legacy optimizer, e.g.,tf.keras.optimizers.legacy.Adam.\n"
          ]
        },
        {
          "output_type": "stream",
          "name": "stdout",
          "text": [
            "Training log for LSTM-FCN classifier:\n",
            "Epoch 1/150\n",
            "122/122 [==============================] - 2s 7ms/step - loss: 0.2726 - accuracy: 0.9392 - val_loss: 0.5335 - val_accuracy: 0.9863\n",
            "Epoch 2/150\n",
            "122/122 [==============================] - 0s 3ms/step - loss: 0.1063 - accuracy: 0.9870 - val_loss: 0.3347 - val_accuracy: 0.9836\n",
            "Epoch 3/150\n",
            "122/122 [==============================] - 0s 3ms/step - loss: 0.0818 - accuracy: 0.9918 - val_loss: 0.1819 - val_accuracy: 0.9863\n",
            "Epoch 4/150\n",
            "122/122 [==============================] - 0s 3ms/step - loss: 0.0686 - accuracy: 0.9959 - val_loss: 0.1000 - val_accuracy: 0.9918\n",
            "Epoch 5/150\n",
            "122/122 [==============================] - 0s 3ms/step - loss: 0.0628 - accuracy: 0.9966 - val_loss: 0.0732 - val_accuracy: 0.9918\n",
            "Epoch 6/150\n",
            "122/122 [==============================] - 0s 2ms/step - loss: 0.0562 - accuracy: 0.9966 - val_loss: 0.0636 - val_accuracy: 0.9918\n",
            "Epoch 7/150\n",
            "122/122 [==============================] - 0s 3ms/step - loss: 0.0510 - accuracy: 0.9973 - val_loss: 0.0560 - val_accuracy: 0.9918\n",
            "Epoch 8/150\n",
            "122/122 [==============================] - 0s 3ms/step - loss: 0.0472 - accuracy: 0.9986 - val_loss: 0.0529 - val_accuracy: 0.9918\n",
            "Epoch 9/150\n",
            "122/122 [==============================] - 0s 4ms/step - loss: 0.0455 - accuracy: 0.9973 - val_loss: 0.0482 - val_accuracy: 0.9918\n",
            "Epoch 10/150\n",
            "122/122 [==============================] - 0s 4ms/step - loss: 0.0408 - accuracy: 0.9980 - val_loss: 0.0444 - val_accuracy: 0.9945\n",
            "Epoch 11/150\n",
            "122/122 [==============================] - 1s 4ms/step - loss: 0.0397 - accuracy: 0.9986 - val_loss: 0.0413 - val_accuracy: 0.9945\n",
            "Epoch 12/150\n",
            "122/122 [==============================] - 1s 4ms/step - loss: 0.0364 - accuracy: 0.9986 - val_loss: 0.0402 - val_accuracy: 0.9945\n",
            "Epoch 13/150\n",
            "122/122 [==============================] - 0s 4ms/step - loss: 0.0349 - accuracy: 0.9986 - val_loss: 0.0389 - val_accuracy: 0.9918\n",
            "Epoch 14/150\n",
            "122/122 [==============================] - 0s 3ms/step - loss: 0.0332 - accuracy: 0.9986 - val_loss: 0.0402 - val_accuracy: 0.9918\n",
            "Epoch 15/150\n",
            "122/122 [==============================] - 0s 3ms/step - loss: 0.0331 - accuracy: 0.9986 - val_loss: 0.0346 - val_accuracy: 0.9945\n",
            "Epoch 16/150\n",
            "122/122 [==============================] - 0s 3ms/step - loss: 0.0313 - accuracy: 0.9986 - val_loss: 0.0346 - val_accuracy: 0.9945\n",
            "Epoch 17/150\n",
            "122/122 [==============================] - 1s 5ms/step - loss: 0.0309 - accuracy: 0.9986 - val_loss: 0.0332 - val_accuracy: 0.9945\n",
            "Epoch 18/150\n",
            "122/122 [==============================] - 0s 4ms/step - loss: 0.0292 - accuracy: 0.9986 - val_loss: 0.0334 - val_accuracy: 0.9945\n",
            "Epoch 19/150\n",
            "122/122 [==============================] - 0s 3ms/step - loss: 0.0308 - accuracy: 0.9980 - val_loss: 0.0328 - val_accuracy: 0.9945\n",
            "Epoch 20/150\n",
            "122/122 [==============================] - 0s 3ms/step - loss: 0.0288 - accuracy: 0.9986 - val_loss: 0.0307 - val_accuracy: 0.9945\n",
            "Epoch 21/150\n",
            "122/122 [==============================] - 0s 3ms/step - loss: 0.0285 - accuracy: 0.9986 - val_loss: 0.0304 - val_accuracy: 0.9945\n",
            "Epoch 22/150\n",
            "122/122 [==============================] - 0s 3ms/step - loss: 0.0263 - accuracy: 0.9986 - val_loss: 0.0286 - val_accuracy: 0.9945\n",
            "Epoch 23/150\n",
            "122/122 [==============================] - 0s 3ms/step - loss: 0.0268 - accuracy: 0.9986 - val_loss: 0.0301 - val_accuracy: 0.9945\n",
            "Epoch 24/150\n",
            "122/122 [==============================] - 0s 4ms/step - loss: 0.0263 - accuracy: 0.9986 - val_loss: 0.0281 - val_accuracy: 0.9945\n",
            "Epoch 25/150\n",
            "122/122 [==============================] - 1s 4ms/step - loss: 0.0261 - accuracy: 0.9986 - val_loss: 0.0275 - val_accuracy: 0.9945\n",
            "14/14 [==============================] - 0s 2ms/step\n",
            "LSTM-FCN classifier trained, with validation accuracy 0.9928909952606635.\n",
            "        Pred:8  Pred:0\n",
            "True:8     208       3\n",
            "True:0       0     229\n"
          ]
        }
      ]
    },
    {
      "cell_type": "code",
      "source": [
        "reset_seeds()\n",
        "\n",
        "# ### 1dCNN autoencoder\n",
        "autoencoder = Autoencoder( n_timesteps_padded,n_features,32)\n",
        "optimizer = keras.optimizers.Adam(lr=0.0005)\n",
        "autoencoder.compile(optimizer=optimizer, loss=\"mse\")\n",
        "\n",
        "# Define the early stopping criteria\n",
        "early_stopping = keras.callbacks.EarlyStopping(monitor='val_loss', min_delta=0.0001, patience=5, restore_best_weights=True)\n",
        "# Train the model\n",
        "reset_seeds()\n",
        "print(\"Training log for 1dCNN autoencoder:\")\n",
        "autoencoder_history = autoencoder.fit(\n",
        "    X_train,\n",
        "    X_train,\n",
        "    epochs=50,\n",
        "    batch_size=12,\n",
        "    shuffle=True,\n",
        "    verbose=2,\n",
        "    validation_data=(X_validation, X_validation),\n",
        "    callbacks=[early_stopping])\n",
        "\n",
        "ae_val_loss = np.min(autoencoder_history.history['val_loss'])\n",
        "print(f\"1dCNN autoencoder trained, with validation loss: {ae_val_loss}.\")\n"
      ],
      "metadata": {
        "id": "E6IxH8BLEKFG",
        "outputId": "18f10cab-acb7-488f-aa24-664942ea20b3",
        "colab": {
          "base_uri": "https://localhost:8080/"
        }
      },
      "execution_count": 78,
      "outputs": [
        {
          "output_type": "stream",
          "name": "stderr",
          "text": [
            "WARNING:absl:`lr` is deprecated in Keras optimizer, please use `learning_rate` or use the legacy optimizer, e.g.,tf.keras.optimizers.legacy.Adam.\n"
          ]
        },
        {
          "output_type": "stream",
          "name": "stdout",
          "text": [
            "(None, 8, 2)\n",
            "(None, 8, 32)\n",
            "(None, 4, 32)\n",
            "(None, 4, 16)\n",
            "(None, 2, 16)\n",
            "(None, 2, 16)\n",
            "(None, 4, 16)\n",
            "(None, 4, 32)\n",
            "(None, 8, 32)\n",
            "(None, 8, 2)\n",
            "Training log for 1dCNN autoencoder:\n",
            "Epoch 1/50\n",
            "122/122 - 2s - loss: 0.1458 - val_loss: 0.0514 - 2s/epoch - 17ms/step\n",
            "Epoch 2/50\n",
            "122/122 - 0s - loss: 0.0338 - val_loss: 0.0234 - 364ms/epoch - 3ms/step\n",
            "Epoch 3/50\n",
            "122/122 - 0s - loss: 0.0174 - val_loss: 0.0143 - 308ms/epoch - 3ms/step\n",
            "Epoch 4/50\n",
            "122/122 - 0s - loss: 0.0114 - val_loss: 0.0103 - 321ms/epoch - 3ms/step\n",
            "Epoch 5/50\n",
            "122/122 - 0s - loss: 0.0086 - val_loss: 0.0082 - 312ms/epoch - 3ms/step\n",
            "Epoch 6/50\n",
            "122/122 - 0s - loss: 0.0070 - val_loss: 0.0069 - 312ms/epoch - 3ms/step\n",
            "Epoch 7/50\n",
            "122/122 - 0s - loss: 0.0059 - val_loss: 0.0059 - 299ms/epoch - 2ms/step\n",
            "Epoch 8/50\n",
            "122/122 - 0s - loss: 0.0052 - val_loss: 0.0053 - 327ms/epoch - 3ms/step\n",
            "Epoch 9/50\n",
            "122/122 - 0s - loss: 0.0046 - val_loss: 0.0045 - 428ms/epoch - 4ms/step\n",
            "Epoch 10/50\n",
            "122/122 - 1s - loss: 0.0041 - val_loss: 0.0041 - 533ms/epoch - 4ms/step\n",
            "Epoch 11/50\n",
            "122/122 - 0s - loss: 0.0037 - val_loss: 0.0036 - 298ms/epoch - 2ms/step\n",
            "Epoch 12/50\n",
            "122/122 - 0s - loss: 0.0034 - val_loss: 0.0035 - 293ms/epoch - 2ms/step\n",
            "Epoch 13/50\n",
            "122/122 - 0s - loss: 0.0032 - val_loss: 0.0033 - 301ms/epoch - 2ms/step\n",
            "Epoch 14/50\n",
            "122/122 - 0s - loss: 0.0030 - val_loss: 0.0030 - 306ms/epoch - 3ms/step\n",
            "Epoch 15/50\n",
            "122/122 - 0s - loss: 0.0028 - val_loss: 0.0030 - 289ms/epoch - 2ms/step\n",
            "Epoch 16/50\n",
            "122/122 - 0s - loss: 0.0027 - val_loss: 0.0027 - 334ms/epoch - 3ms/step\n",
            "Epoch 17/50\n",
            "122/122 - 0s - loss: 0.0026 - val_loss: 0.0028 - 335ms/epoch - 3ms/step\n",
            "Epoch 18/50\n",
            "122/122 - 1s - loss: 0.0024 - val_loss: 0.0026 - 536ms/epoch - 4ms/step\n",
            "Epoch 19/50\n",
            "122/122 - 0s - loss: 0.0023 - val_loss: 0.0023 - 432ms/epoch - 4ms/step\n",
            "Epoch 20/50\n",
            "122/122 - 0s - loss: 0.0022 - val_loss: 0.0022 - 399ms/epoch - 3ms/step\n",
            "Epoch 21/50\n",
            "122/122 - 0s - loss: 0.0022 - val_loss: 0.0022 - 450ms/epoch - 4ms/step\n",
            "Epoch 22/50\n",
            "122/122 - 1s - loss: 0.0022 - val_loss: 0.0021 - 707ms/epoch - 6ms/step\n",
            "Epoch 23/50\n",
            "122/122 - 1s - loss: 0.0020 - val_loss: 0.0021 - 789ms/epoch - 6ms/step\n",
            "Epoch 24/50\n",
            "122/122 - 0s - loss: 0.0019 - val_loss: 0.0021 - 481ms/epoch - 4ms/step\n",
            "Epoch 25/50\n",
            "122/122 - 0s - loss: 0.0019 - val_loss: 0.0020 - 333ms/epoch - 3ms/step\n",
            "Epoch 26/50\n",
            "122/122 - 0s - loss: 0.0018 - val_loss: 0.0019 - 304ms/epoch - 2ms/step\n",
            "Epoch 27/50\n",
            "122/122 - 0s - loss: 0.0018 - val_loss: 0.0018 - 325ms/epoch - 3ms/step\n",
            "Epoch 28/50\n",
            "122/122 - 0s - loss: 0.0016 - val_loss: 0.0017 - 290ms/epoch - 2ms/step\n",
            "Epoch 29/50\n",
            "122/122 - 0s - loss: 0.0016 - val_loss: 0.0017 - 305ms/epoch - 2ms/step\n",
            "Epoch 30/50\n",
            "122/122 - 0s - loss: 0.0015 - val_loss: 0.0016 - 281ms/epoch - 2ms/step\n",
            "Epoch 31/50\n",
            "122/122 - 0s - loss: 0.0015 - val_loss: 0.0017 - 295ms/epoch - 2ms/step\n",
            "Epoch 32/50\n",
            "122/122 - 0s - loss: 0.0015 - val_loss: 0.0016 - 306ms/epoch - 3ms/step\n",
            "Epoch 33/50\n",
            "122/122 - 0s - loss: 0.0014 - val_loss: 0.0015 - 296ms/epoch - 2ms/step\n",
            "Epoch 34/50\n",
            "122/122 - 0s - loss: 0.0014 - val_loss: 0.0014 - 345ms/epoch - 3ms/step\n",
            "Epoch 35/50\n",
            "122/122 - 0s - loss: 0.0014 - val_loss: 0.0014 - 284ms/epoch - 2ms/step\n",
            "Epoch 36/50\n",
            "122/122 - 0s - loss: 0.0013 - val_loss: 0.0014 - 315ms/epoch - 3ms/step\n",
            "Epoch 37/50\n",
            "122/122 - 0s - loss: 0.0013 - val_loss: 0.0013 - 342ms/epoch - 3ms/step\n",
            "Epoch 38/50\n",
            "122/122 - 0s - loss: 0.0013 - val_loss: 0.0014 - 359ms/epoch - 3ms/step\n",
            "Epoch 39/50\n",
            "122/122 - 0s - loss: 0.0012 - val_loss: 0.0013 - 447ms/epoch - 4ms/step\n",
            "Epoch 40/50\n",
            "122/122 - 0s - loss: 0.0012 - val_loss: 0.0014 - 449ms/epoch - 4ms/step\n",
            "Epoch 41/50\n",
            "122/122 - 0s - loss: 0.0012 - val_loss: 0.0013 - 282ms/epoch - 2ms/step\n",
            "Epoch 42/50\n",
            "122/122 - 0s - loss: 0.0011 - val_loss: 0.0012 - 309ms/epoch - 3ms/step\n",
            "1dCNN autoencoder trained, with validation loss: 0.0012172076385468245.\n"
          ]
        }
      ]
    },
    {
      "cell_type": "code",
      "source": [
        "#Testing the autoencoder results\n",
        "idx = 0\n",
        "sample = X_test[idx:idx+1]\n",
        "sample_label = y_test[idx:idx+1]\n",
        "autoencoded_sample = autoencoder.predict(sample)\n",
        "visualise_decoded_digit(autoencoded_sample,sample_label)\n",
        "visualise_digit(X_test,y_test,idx)"
      ],
      "metadata": {
        "id": "KGldOuWp06wB",
        "outputId": "fe38e6cd-df9b-40df-d46e-cbaae90acfeb",
        "colab": {
          "base_uri": "https://localhost:8080/",
          "height": 1000
        }
      },
      "execution_count": 79,
      "outputs": [
        {
          "output_type": "stream",
          "name": "stdout",
          "text": [
            "1/1 [==============================] - 0s 134ms/step\n",
            "y = [[1. 0.]]\n"
          ]
        },
        {
          "output_type": "display_data",
          "data": {
            "text/plain": [
              "<Figure size 500x500 with 1 Axes>"
            ],
            "image/png": "[encoded data removed]"
          },
          "metadata": {}
        },
        {
          "output_type": "stream",
          "name": "stdout",
          "text": [
            "y = [1. 0.]\n"
          ]
        },
        {
          "output_type": "display_data",
          "data": {
            "text/plain": [
              "<Figure size 500x500 with 1 Axes>"
            ],
            "image/png": "[encoded data removed]"
          },
          "metadata": {}
        }
      ]
    },
    {
      "cell_type": "code",
      "source": [
        "#Gettting the Global weights, needed for counterfactuals\n",
        "\n",
        "from _guided import get_global_weights\n",
        "from help_functions import evaluate\n",
        "pos_label = 1\n",
        "neg_label = 0\n",
        "\n",
        "step_weights = get_global_weights(\n",
        "        X,\n",
        "        y_classes,\n",
        "        cnnClassifier,\n",
        "        n_timesteps= n_timesteps,\n",
        "        n_features=n_features,\n",
        "        random_state=RANDOM_STATE,\n",
        ")\n"
      ],
      "metadata": {
        "id": "hysd9dxSsx9h",
        "outputId": "15061ae6-d28d-4e9f-e5c0-0d91a86ada72",
        "colab": {
          "base_uri": "https://localhost:8080/"
        }
      },
      "execution_count": 77,
      "outputs": [
        {
          "output_type": "stream",
          "name": "stdout",
          "text": [
            "72/72 [==============================] - 0s 2ms/step\n",
            "72/72 [==============================] - 0s 2ms/step\n",
            "72/72 [==============================] - 0s 2ms/step\n",
            "72/72 [==============================] - 0s 3ms/step\n",
            "72/72 [==============================] - 0s 2ms/step\n",
            "72/72 [==============================] - 0s 3ms/step\n",
            "72/72 [==============================] - 0s 3ms/step\n",
            "72/72 [==============================] - 0s 2ms/step\n",
            "72/72 [==============================] - 0s 3ms/step\n",
            "72/72 [==============================] - 0s 4ms/step\n",
            "72/72 [==============================] - 0s 2ms/step\n",
            "72/72 [==============================] - 0s 2ms/step\n",
            "72/72 [==============================] - 0s 2ms/step\n",
            "72/72 [==============================] - 0s 2ms/step\n",
            "72/72 [==============================] - 0s 2ms/step\n",
            "72/72 [==============================] - 0s 2ms/step\n",
            "72/72 [==============================] - 0s 2ms/step\n",
            "72/72 [==============================] - 0s 3ms/step\n",
            "72/72 [==============================] - 0s 3ms/step\n",
            "72/72 [==============================] - 0s 2ms/step\n",
            "72/72 [==============================] - 0s 3ms/step\n",
            "72/72 [==============================] - 0s 2ms/step\n",
            "72/72 [==============================] - 0s 3ms/step\n",
            "72/72 [==============================] - 0s 2ms/step\n",
            "72/72 [==============================] - 0s 2ms/step\n",
            "72/72 [==============================] - 0s 2ms/step\n",
            "72/72 [==============================] - 0s 2ms/step\n",
            "72/72 [==============================] - 0s 2ms/step\n",
            "72/72 [==============================] - 0s 3ms/step\n",
            "72/72 [==============================] - 0s 2ms/step\n",
            "72/72 [==============================] - 0s 2ms/step\n",
            "72/72 [==============================] - 0s 2ms/step\n",
            "72/72 [==============================] - 0s 3ms/step\n",
            "72/72 [==============================] - 0s 2ms/step\n",
            "72/72 [==============================] - 0s 2ms/step\n",
            "72/72 [==============================] - 0s 2ms/step\n",
            "72/72 [==============================] - 0s 3ms/step\n",
            "72/72 [==============================] - 0s 4ms/step\n",
            "72/72 [==============================] - 0s 2ms/step\n",
            "72/72 [==============================] - 0s 3ms/step\n",
            "72/72 [==============================] - 0s 4ms/step\n",
            "72/72 [==============================] - 0s 2ms/step\n",
            "72/72 [==============================] - 0s 2ms/step\n",
            "72/72 [==============================] - 0s 2ms/step\n",
            "72/72 [==============================] - 0s 2ms/step\n",
            "72/72 [==============================] - 0s 3ms/step\n",
            "72/72 [==============================] - 0s 3ms/step\n",
            "72/72 [==============================] - 0s 2ms/step\n",
            "72/72 [==============================] - 0s 2ms/step\n",
            "72/72 [==============================] - 0s 2ms/step\n",
            "72/72 [==============================] - 0s 2ms/step\n",
            "72/72 [==============================] - 0s 2ms/step\n",
            "72/72 [==============================] - 0s 2ms/step\n",
            "72/72 [==============================] - 0s 2ms/step\n",
            "72/72 [==============================] - 0s 2ms/step\n",
            "72/72 [==============================] - 0s 2ms/step\n",
            "72/72 [==============================] - 0s 2ms/step\n",
            "72/72 [==============================] - 0s 2ms/step\n",
            "72/72 [==============================] - 0s 2ms/step\n",
            "72/72 [==============================] - 0s 2ms/step\n",
            "72/72 [==============================] - 0s 2ms/step\n",
            "72/72 [==============================] - 0s 2ms/step\n",
            "72/72 [==============================] - 0s 2ms/step\n",
            "72/72 [==============================] - 0s 2ms/step\n",
            "72/72 [==============================] - 0s 2ms/step\n",
            "72/72 [==============================] - 0s 2ms/step\n",
            "72/72 [==============================] - 0s 2ms/step\n",
            "72/72 [==============================] - 0s 2ms/step\n",
            "72/72 [==============================] - 0s 2ms/step\n",
            "72/72 [==============================] - 0s 2ms/step\n",
            "72/72 [==============================] - 0s 2ms/step\n",
            "72/72 [==============================] - 0s 2ms/step\n",
            "72/72 [==============================] - 0s 2ms/step\n",
            "72/72 [==============================] - 0s 2ms/step\n",
            "72/72 [==============================] - 0s 3ms/step\n",
            "72/72 [==============================] - 0s 4ms/step\n",
            "72/72 [==============================] - 0s 4ms/step\n",
            "72/72 [==============================] - 0s 5ms/step\n",
            "72/72 [==============================] - 0s 3ms/step\n",
            "72/72 [==============================] - 0s 3ms/step\n",
            "72/72 [==============================] - 0s 2ms/step\n"
          ]
        }
      ]
    },
    {
      "cell_type": "code",
      "source": [
        "# @title Default title text\n",
        "import warnings\n",
        "\n",
        "import numpy as np\n",
        "import tensorflow as tf\n",
        "from tensorflow import keras\n",
        "\n",
        "from wildboar.explain import IntervalImportance\n",
        "#from LIMESegment.Utils.explanations import LIMESegment\n",
        "\n",
        "\n",
        "class ModifiedLatentCF:\n",
        "    \"\"\"Explanations by generating a counterfacutal sample in the latent space of\n",
        "    any autoencoder.\n",
        "\n",
        "    References\n",
        "    ----------\n",
        "    Learning Time Series Counterfactuals via Latent Space Representations,\n",
        "    Wang, Z., Samsten, I., Mochaourab, R., Papapetrou, P., 2021.\n",
        "    in: International Conference on Discovery Science, pp. 369–384. https://doi.org/10.1007/978-3-030-88942-5_29\n",
        "    \"\"\"\n",
        "\n",
        "    def __init__(\n",
        "        self,\n",
        "        probability=0.5,\n",
        "        *,\n",
        "        tolerance=1e-6,\n",
        "        max_iter=100,\n",
        "        optimizer=None,\n",
        "        autoencoder=None,\n",
        "        margin_weight=1.0,  # weighted_steps_weight = 1 - pred_margin_weight\n",
        "        random_state=None,\n",
        "        bandwidth,\n",
        "        weighted_steps_weight,\n",
        "        data,\n",
        "        step_weights\n",
        "    ):\n",
        "        self.optimizer_ = (\n",
        "            tf.optimizers.Adam(learning_rate=1e-4) if optimizer is None else optimizer\n",
        "        )\n",
        "        #self.x_axis_eights = x_axis_eights\n",
        "        #self.y_axis_eights = y_axis_eights\n",
        "        self.data = data\n",
        "        self.mse_loss_ = keras.losses.MeanSquaredError()\n",
        "        self.probability_ = tf.constant([probability])\n",
        "        self.tolerance_ = tf.constant(tolerance)\n",
        "        self.max_iter = max_iter\n",
        "        self.autoencoder = autoencoder\n",
        "        self.random_state = random_state\n",
        "        self.weighted_steps_weight = weighted_steps_weight\n",
        "        self.step_weights = step_weights\n",
        "\n",
        "        # Weights of the different loss components\n",
        "        self.margin_weight = margin_weight\n",
        "        self.kde_weight = tf.cast(1 - self.margin_weight-self.weighted_steps_weight,tf.float32)\n",
        "        if (self.weighted_steps_weight+self.margin_weight)>1.0:\n",
        "           raise ValueError(\"(weighted_steps_weight + margin_weight) should be less that 1.0\")\n",
        "\n",
        "        self.bandwidth = bandwidth\n",
        "\n",
        "    def fit(self, model):\n",
        "        \"\"\"Fit a new counterfactual explainer to the model\n",
        "\n",
        "        Paramaters\n",
        "        ----------\n",
        "\n",
        "        model : keras.Model\n",
        "            The model\n",
        "        \"\"\"\n",
        "        if self.autoencoder:\n",
        "            (\n",
        "                encode_input,\n",
        "                encode_output,\n",
        "                decode_input,\n",
        "                decode_output,\n",
        "            ) = extract_encoder_decoder(self.autoencoder)\n",
        "            self.decoder_ = keras.Model(inputs=decode_input, outputs=decode_output)\n",
        "            self.encoder_ = keras.Model(inputs=encode_input, outputs=encode_output)\n",
        "        else:\n",
        "            self.decoder_ = None\n",
        "            self.encoder_ = None\n",
        "        self.model_ = model\n",
        "        return self\n",
        "\n",
        "    def predict(self, x):\n",
        "        \"\"\"Compute the difference between the desired and actual probability\n",
        "\n",
        "        Parameters\n",
        "        ---------\n",
        "        x : Variable\n",
        "            Variable of the sample\n",
        "        \"\"\"\n",
        "        if self.autoencoder is None:\n",
        "            z = x\n",
        "        else:\n",
        "            z = self.decoder_(x)\n",
        "\n",
        "        return self.model_(z)\n",
        "\n",
        "    # The \"pred_margin_loss\" is designed to measure the prediction probability to the desired decision boundary\n",
        "    def pred_margin_mse(self, prediction):\n",
        "        return self.mse_loss_(self.probability_, prediction)\n",
        "\n",
        "    # An auxiliary MAE loss function to measure the proximity with step_weights\n",
        "    def weighted_mae(self, original_sample, cf_sample, step_weights):\n",
        "        return tf.math.reduce_mean(\n",
        "            tf.math.multiply(tf.math.abs(original_sample - cf_sample), step_weights)\n",
        "        )\n",
        "\n",
        "    # An auxiliary normalized L2 loss function to measure the proximity with step_weights\n",
        "    def weighted_normalized_l2(self, original_sample, cf_sample, step_weights):\n",
        "        var_diff = tf.math.reduce_variance(original_sample - cf_sample)\n",
        "        var_orig = tf.math.reduce_variance(original_sample)\n",
        "        var_cf = tf.math.reduce_variance(cf_sample)\n",
        "\n",
        "        normalized_l2 = 0.5 * var_diff / (var_orig + var_cf)\n",
        "        return tf.math.reduce_mean(\n",
        "            tf.math.multiply(\n",
        "                normalized_l2,\n",
        "                step_weights,\n",
        "            )\n",
        "        )\n",
        "    #x_axis_eights*self.step_weights_x,use_scotts_rule=False,use_silvermans_rule=True,manual_bandwidth = 0.1\n",
        "    def train_gaussian_kde(self, data, use_scotts_rule,use_silvermans_rule, manual_bandwidth ):\n",
        "      \"\"\"\n",
        "      Train a Gaussian KDE on the provided data.\n",
        "\n",
        "      :param data: Multivariate data points used for KDE (2D Tensor).\n",
        "      :param bandwidth: The bandwidth of the kernel (float).\n",
        "      :return: A function that represents the trained KDE.\n",
        "      \"\"\"\n",
        "\n",
        "      n = tf.cast(tf.shape(data)[0], tf.float32)\n",
        "      d = tf.cast(tf.shape(data)[1], tf.float32)\n",
        "      def kde_fn( x_points):\n",
        "        \"\"\"\n",
        "        Compute the density estimation for given points using the trained KDE.\n",
        "\n",
        "        :param x_points: Points where the density should be estimated (2D Tensor).\n",
        "        :return: Density estimates (Tensor).\n",
        "        \"\"\"\n",
        "        d = tf.cast(tf.shape(data)[1], tf.float32)\n",
        "        #print(f'data.shape = {data.shape}')\n",
        "        #data.shape = (732, 8)\n",
        "\n",
        "        data_exp =  tf.expand_dims(data, axis=0)\n",
        "        #print(f'data dimentions = {data_exp.shape}')\n",
        "        #data dimentions = (1, 732, 8)\n",
        "\n",
        "        x_points_exp = tf.reshape(x_points, (tf.shape(x_points)[0], 8, 1))\n",
        "        #print(f'x_points dimentions = {x_points_exp.shape}')\n",
        "        #x_points dimentions = (732, 8, 1)\n",
        "\n",
        "        x_points_exp = tf.expand_dims(x_points_exp, axis=1)\n",
        "        #print(f'x_points dimentions = {x_points_exp.shape}')\n",
        "\n",
        "        if use_scotts_rule:\n",
        "          sigma = tf.math.reduce_std(data)\n",
        "          sigma = tf.cast(sigma,tf.float32)\n",
        "          bandwidth = n ** (-1.0 / (d + 4)) * sigma\n",
        "        elif use_silvermans_rule:\n",
        "          sigma = tf.math.reduce_std(data)\n",
        "          bandwidth = (4 * sigma**5 / (3 * n)) ** (1/5)\n",
        "        else:\n",
        "          if manual_bandwidth is None:\n",
        "            raise ValueError(\"Manual bandwidth must be provided if not using Scott's Rule.\")\n",
        "          bandwidth = manual_bandwidth\n",
        "\n",
        "        bandwidth = tf.cast(bandwidth, tf.float32)\n",
        "        #print(f'n = {n}')\n",
        "        #print(f'd = {d}')\n",
        "        #print(f'bandwidth = {bandwidth}')\n",
        "        x_points_exp = tf.cast(x_points_exp,tf.float32)\n",
        "        data_exp= tf.cast(data_exp, tf.float32)\n",
        "        #print(x_points_exp.dtype, data_exp.dtype)\n",
        "        diff = x_points_exp - data_exp\n",
        "        norm = tf.reduce_sum(diff ** 2, axis=2)\n",
        "        kernel_val = tf.exp(-norm / (2.0 * bandwidth ** 2))\n",
        "\n",
        "\n",
        "        d = tf.constant(d,tf.float32)\n",
        "        density = tf.reduce_mean(kernel_val, axis=1) / (bandwidth * tf.sqrt(2.0 * np.pi * d))\n",
        "        return density\n",
        "\n",
        "      return kde_fn\n",
        "\n",
        "    def gaussian_kde_logpdf(self, kde_fn, x_points):\n",
        "      \"\"\"\n",
        "      Evaluate the logpdf of the given points using the trained KDE function.\n",
        "\n",
        "      :param kde_fn: Trained KDE function.\n",
        "      :param x_points: Points to evaluate the logpdf (2D Tensor).\n",
        "      :return: Log of the density estimates (Tensor).\n",
        "      \"\"\"\n",
        "      #print(f'x_points.shape in gaussian kde lofpdf= {x_points.shape}')\n",
        "      density = kde_fn(x_points)\n",
        "      return tf.math.log(density)\n",
        "\n",
        "\n",
        "    # additional input of step_weights\n",
        "    def compute_loss(self,original_sample, z_search, target_label, kde_stop):\n",
        "        loss = tf.zeros(shape=())\n",
        "        decoded = self.decoder_(z_search) if self.autoencoder is not None else z_search\n",
        "        pred = self.model_(decoded)[:, target_label]\n",
        "\n",
        "        #margin loss (y-τ)\n",
        "        margin_loss = self.pred_margin_mse(pred)\n",
        "        loss += self.margin_weight * margin_loss\n",
        "\n",
        "        kde_diffrences = []\n",
        "        for dimention in range(decoded.shape[2]):\n",
        "          data_dimention = self.data[:,:,dimention]\n",
        "          data_dimention = data_dimention[:,:,np.newaxis]\n",
        "          #print(f'data_dimention in compute loss = {data_dimention.shape}')\n",
        "          kde = self.train_gaussian_kde(data = data_dimention,use_scotts_rule=False,use_silvermans_rule=False,manual_bandwidth = self.bandwidth)\n",
        "          mean_log_likelihood = tf.cast(tf.reduce_mean(self.gaussian_kde_logpdf(kde, x_points = (data_dimention))),tf.float32)\n",
        "\n",
        "          decoded_dimention = decoded[:,:,dimention]\n",
        "          decoded_dimention = decoded_dimention[:,:,np.newaxis]\n",
        "          #print(f'decoded_dimention in compute loss = {decoded_dimention.shape}')\n",
        "          log_likelihood_of_sample = tf.cast(self.gaussian_kde_logpdf(kde, x_points = (decoded_dimention)),tf.float32)\n",
        "\n",
        "          # kde_x = self.train_gaussian_kde(data = self.x_axis_eights,use_scotts_rule=False,use_silvermans_rule=False,manual_bandwidth = self.bandwidth)\n",
        "          # kde_y = self.train_gaussian_kde(data = self.y_axis_eights,use_scotts_rule=False,use_silvermans_rule=False,manual_bandwidth = self.bandwidth)\n",
        "          # mean_log_likelihood_ofData_x = tf.cast(tf.reduce_mean(self.gaussian_kde_logpdf(kde_x, x_points = ( self.x_axis_eights))),tf.float32)\n",
        "          # mean_log_likelihood_ofData_y = tf.cast(tf.reduce_mean(self.gaussian_kde_logpdf(kde_y, x_points = ( self.y_axis_eights))),tf.float32)\n",
        "\n",
        "\n",
        "          #The likelihood of the distribution beeing neer to the mean of the distributions of the known data (mean.likelihood(d) - likelihood(sample))\n",
        "          # decoded_x =  decoded [:,:,0:1]\n",
        "          # decoded_y =  decoded [:,:,1:2]\n",
        "          # log_likelihood_ofSample_x = tf.cast(self.gaussian_kde_logpdf(kde_x, x_points = (decoded_x)),tf.float32)\n",
        "          # log_likelihood_ofSample_y = tf.cast(self.gaussian_kde_logpdf(kde_y, x_points = (decoded_y)),tf.float32)\n",
        "          # print(log_likelihood_ofSample_x.dtype)\n",
        "          #print(f'mean_log_likelihood = {mean_log_likelihood}')\n",
        "          #print(f'log_likelihood_of_sample.shape = {log_likelihood_of_sample.shape}')\n",
        "          kde_loss = tf.cast((mean_log_likelihood - log_likelihood_of_sample),tf.float32)\n",
        "          #kde_loss = tf.math.abs(kde_loss)\n",
        "          #print(kde_loss)\n",
        "          kde_diffrences.append(kde_loss)\n",
        "        #print(kde_diffrences)\n",
        "        #kde_total_loss = tf.reduce_mean(kde_diffrences)\n",
        "        kde_total_loss = tf.math.add_n(kde_diffrences)\n",
        "        kde_total_loss = tf.math.abs(kde_total_loss)\n",
        "        print(kde_total_loss)\n",
        "        loss +=self.kde_weight *kde_total_loss\n",
        "\n",
        "\n",
        "        weighted_steps_loss = self.weighted_mae(\n",
        "            original_sample=tf.cast(original_sample, dtype=tf.float32),\n",
        "            cf_sample=tf.cast(decoded, dtype=tf.float32),\n",
        "            step_weights=tf.cast(step_weights, tf.float32),\n",
        "        )\n",
        "        loss += self.weighted_steps_weight * weighted_steps_loss\n",
        "\n",
        "        return loss, margin_loss, kde_loss, kde_stop\n",
        "\n",
        "    # TODO: compatible with the counterfactuals of wildboar\n",
        "    #       i.e., define the desired output target per label\n",
        "\n",
        "\n",
        "    def transform(self, x, pred_labels):\n",
        "        \"\"\"Generate counterfactual explanations\n",
        "\n",
        "        x : array-like of shape [n_samples, n_timestep, n_dims]\n",
        "            The samples\n",
        "        \"\"\"\n",
        "\n",
        "        result_samples = np.empty(x.shape)\n",
        "        losses = np.empty(x.shape[0])\n",
        "        # `weights_all` needed for debugging\n",
        "        weights_all = np.empty((x.shape[0], 1, x.shape[1], x.shape[2]))\n",
        "        for i in range(x.shape[0]):\n",
        "            print(f\"sample {i+1} is beeing transformed.\")\n",
        "            kde_stop = False\n",
        "\n",
        "            x_sample, loss = self._transform_sample(\n",
        "                x[np.newaxis, i], pred_labels[i],kde_stop\n",
        "            )\n",
        "\n",
        "            result_samples[i] = x_sample\n",
        "            losses[i] = loss\n",
        "            weights_all[i] = step_weights\n",
        "\n",
        "        print(f\"{i+1} samples been transformed, in total.\")\n",
        "\n",
        "        return result_samples, losses, weights_all\n",
        "\n",
        "    def _transform_sample(self, x, pred_label,kde_stop):\n",
        "        \"\"\"Generate counterfactual explanations(z))\"\"\"\n",
        "        # TODO: check_is_fitted(self)\n",
        "        if self.autoencoder is not None:\n",
        "            z = tf.Variable(self.encoder_(x))\n",
        "        else:\n",
        "            z = tf.Variable(x, dtype=tf.float32)\n",
        "\n",
        "        it = 0\n",
        "        target_label = 1 - pred_label  # for binary classification\n",
        "\n",
        "        #def compute_loss(self,original_sample, z_search, target_label)\n",
        "        with tf.GradientTape(persistent = True) as tape:\n",
        "            loss, pred_margin_loss, kde_loss, kde_stop = self.compute_loss(\n",
        "                x, z,  target_label,kde_stop\n",
        "            )\n",
        "        if self.autoencoder is not None:\n",
        "            pred = self.model_(self.decoder_(z))\n",
        "        else:\n",
        "            pred = self.model_(z)\n",
        "\n",
        "        # # uncomment for debug\n",
        "        # print(\n",
        "        #     f\"current loss: {loss}, pred_margin_loss: {pred_margin_loss}, weighted_steps_loss: {weighted_steps_loss}, pred prob:{pred}, iter: {it}.\"\n",
        "        # )\n",
        "\n",
        "        # TODO: modify the loss to check both validity and proximity; how to design the condition here?\n",
        "        # while (pred_margin_loss > self.tolerance_ or pred[:, 1] < self.probability_ or weighted_steps_loss > self.step_tolerance_)?\n",
        "        # loss > tf.multiply(self.tolerance_rate_, loss_original)\n",
        "\n",
        "\n",
        "        while (\n",
        "            (loss > self.tolerance_\n",
        "            and pred[:, target_label] < self.probability_)\n",
        "            and (it < self.max_iter if self.max_iter else True)\n",
        "            ) :\n",
        "            # Get gradients of loss wrt the sample\n",
        "            grads = tape.gradient(loss, z)\n",
        "            # Update the weights of the sample\n",
        "            self.optimizer_.apply_gradients([(grads, z)])\n",
        "            del tape\n",
        "\n",
        "            #self,original_sample, z_search, target_label\n",
        "            with tf.GradientTape(persistent=True) as tape:\n",
        "                loss, pred_margin_loss, kde_loss, kde_stop = self.compute_loss(\n",
        "                    x, z,  target_label,kde_stop\n",
        "                )\n",
        "\n",
        "            kde_loss = tf.convert_to_tensor(kde_loss, dtype=tf.float32)\n",
        "            grads = tape.gradient(loss, z)\n",
        "            # Optionally, compute and log gradients for individual components\n",
        "            kde_grads = tape.gradient(kde_loss, z)\n",
        "            margin_grads = tape.gradient(pred_margin_loss, z)\n",
        "\n",
        "\n",
        "            it += 1\n",
        "            # if it % 50 == 0:\n",
        "            #   # print(f'Currently on iteration: {it}.')\n",
        "            #   # print(f'kde loss : {kde_loss}')\n",
        "            #   # print(f'margin loss : {pred_margin_loss}')\n",
        "            #   # print(f'loss : {loss}')\n",
        "\n",
        "            #   if kde_grads is  None:\n",
        "            #     print(\"KDE Gradients are None.\")\n",
        "            if self.autoencoder is not None:\n",
        "                pred = self.model_(self.decoder_(z))\n",
        "            else:\n",
        "                pred = self.model_(z)\n",
        "\n",
        "        # # uncomment for debug\n",
        "        # print(\n",
        "        #     f\"current loss: {loss}, pred_margin_loss: {pred_margin_loss}, weighted_steps_loss: {weighted_steps_loss}, pred prob:{pred}, iter: {it}. \\n\"\n",
        "        # )\n",
        "\n",
        "        res = z.numpy() if self.autoencoder is None else self.decoder_(z).numpy()\n",
        "        return res, float(loss)\n"
      ],
      "metadata": {
        "id": "y-Qj3FXoAKpF"
      },
      "execution_count": 137,
      "outputs": []
    },
    {
      "cell_type": "code",
      "source": [
        "reset_seeds()\n",
        "\n",
        "cf_model = ModifiedLatentCF(\n",
        "    probability=0.9,\n",
        "    tolerance=1e-6,\n",
        "    max_iter=500,\n",
        "    optimizer=tf.keras.optimizers.legacy.Adam(learning_rate=0.001),\n",
        "    autoencoder = autoencoder,\n",
        "    margin_weight=0.6,\n",
        "    random_state= RANDOM_STATE,\n",
        "    bandwidth = 0.5,\n",
        "    weighted_steps_weight = 0.2,\n",
        "    data = X_train[y_train_classes == 1],\n",
        "    step_weights = step_weights\n",
        "    )\n",
        "cf_model.fit(cnnClassifier)\n",
        "\n",
        "\n",
        "y_neg = y_train_classes[y_train_classes == 0][10:11]\n",
        "X_neg = X_train[y_train_classes == 0][10:11]\n",
        "\n",
        "#y_neg = y_classes[y_classes == 0][10:12]\n",
        "#X_neg = X[y_classes == 0][10:12]\n",
        "\n",
        "with warnings.catch_warnings():\n",
        "    warnings.simplefilter(\"ignore\", category=RuntimeWarning)\n",
        "    cf_embeddings, losses, weights = cf_model.transform(x = X_neg,pred_labels = y_neg)\n"
      ],
      "metadata": {
        "id": "f-Xy39aj8q9S",
        "colab": {
          "base_uri": "https://localhost:8080/",
          "height": 581
        },
        "outputId": "86759c27-413c-48b9-f182-00aadc7b5a14"
      },
      "execution_count": 139,
      "outputs": [
        {
          "output_type": "stream",
          "name": "stdout",
          "text": [
            "sample 1 is beeing transformed.\n",
            "tf.Tensor([[1.5034826]], shape=(1, 1), dtype=float32)\n",
            "tf.Tensor([[1.4831867]], shape=(1, 1), dtype=float32)\n",
            "tf.Tensor([[1.462996]], shape=(1, 1), dtype=float32)\n",
            "tf.Tensor([[1.4429128]], shape=(1, 1), dtype=float32)\n",
            "tf.Tensor([[1.4229388]], shape=(1, 1), dtype=float32)\n",
            "tf.Tensor([[1.403074]], shape=(1, 1), dtype=float32)\n",
            "tf.Tensor([[1.3833213]], shape=(1, 1), dtype=float32)\n",
            "tf.Tensor([[1.3636935]], shape=(1, 1), dtype=float32)\n",
            "tf.Tensor([[1.3441906]], shape=(1, 1), dtype=float32)\n",
            "tf.Tensor([[1.3243825]], shape=(1, 1), dtype=float32)\n"
          ]
        },
        {
          "output_type": "error",
          "ename": "KeyboardInterrupt",
          "evalue": "",
          "traceback": [
            "\u001b[0;31m---------------------------------------------------------------------------\u001b[0m",
            "\u001b[0;31mKeyboardInterrupt\u001b[0m                         Traceback (most recent call last)",
            "\u001b[0;32m<ipython-input-139-92739349e602>\u001b[0m in \u001b[0;36m<cell line: 25>\u001b[0;34m()\u001b[0m\n\u001b[1;32m     25\u001b[0m \u001b[0;32mwith\u001b[0m \u001b[0mwarnings\u001b[0m\u001b[0;34m.\u001b[0m\u001b[0mcatch_warnings\u001b[0m\u001b[0;34m(\u001b[0m\u001b[0;34m)\u001b[0m\u001b[0;34m:\u001b[0m\u001b[0;34m\u001b[0m\u001b[0;34m\u001b[0m\u001b[0m\n\u001b[1;32m     26\u001b[0m     \u001b[0mwarnings\u001b[0m\u001b[0;34m.\u001b[0m\u001b[0msimplefilter\u001b[0m\u001b[0;34m(\u001b[0m\u001b[0;34m\"ignore\"\u001b[0m\u001b[0;34m,\u001b[0m \u001b[0mcategory\u001b[0m\u001b[0;34m=\u001b[0m\u001b[0mRuntimeWarning\u001b[0m\u001b[0;34m)\u001b[0m\u001b[0;34m\u001b[0m\u001b[0;34m\u001b[0m\u001b[0m\n\u001b[0;32m---> 27\u001b[0;31m     \u001b[0mcf_embeddings\u001b[0m\u001b[0;34m,\u001b[0m \u001b[0mlosses\u001b[0m\u001b[0;34m,\u001b[0m \u001b[0mweights\u001b[0m \u001b[0;34m=\u001b[0m \u001b[0mcf_model\u001b[0m\u001b[0;34m.\u001b[0m\u001b[0mtransform\u001b[0m\u001b[0;34m(\u001b[0m\u001b[0mx\u001b[0m \u001b[0;34m=\u001b[0m \u001b[0mX_neg\u001b[0m\u001b[0;34m,\u001b[0m\u001b[0mpred_labels\u001b[0m \u001b[0;34m=\u001b[0m \u001b[0my_neg\u001b[0m\u001b[0;34m)\u001b[0m\u001b[0;34m\u001b[0m\u001b[0;34m\u001b[0m\u001b[0m\n\u001b[0m",
            "\u001b[0;32m<ipython-input-137-2938948feb65>\u001b[0m in \u001b[0;36mtransform\u001b[0;34m(self, x, pred_labels)\u001b[0m\n\u001b[1;32m    275\u001b[0m             \u001b[0mkde_stop\u001b[0m \u001b[0;34m=\u001b[0m \u001b[0;32mFalse\u001b[0m\u001b[0;34m\u001b[0m\u001b[0;34m\u001b[0m\u001b[0m\n\u001b[1;32m    276\u001b[0m \u001b[0;34m\u001b[0m\u001b[0m\n\u001b[0;32m--> 277\u001b[0;31m             x_sample, loss = self._transform_sample(\n\u001b[0m\u001b[1;32m    278\u001b[0m                 \u001b[0mx\u001b[0m\u001b[0;34m[\u001b[0m\u001b[0mnp\u001b[0m\u001b[0;34m.\u001b[0m\u001b[0mnewaxis\u001b[0m\u001b[0;34m,\u001b[0m \u001b[0mi\u001b[0m\u001b[0;34m]\u001b[0m\u001b[0;34m,\u001b[0m \u001b[0mpred_labels\u001b[0m\u001b[0;34m[\u001b[0m\u001b[0mi\u001b[0m\u001b[0;34m]\u001b[0m\u001b[0;34m,\u001b[0m\u001b[0mkde_stop\u001b[0m\u001b[0;34m\u001b[0m\u001b[0;34m\u001b[0m\u001b[0m\n\u001b[1;32m    279\u001b[0m             )\n",
            "\u001b[0;32m<ipython-input-137-2938948feb65>\u001b[0m in \u001b[0;36m_transform_sample\u001b[0;34m(self, x, pred_label, kde_stop)\u001b[0m\n\u001b[1;32m    331\u001b[0m             \u001b[0;31m#self,original_sample, z_search, target_label\u001b[0m\u001b[0;34m\u001b[0m\u001b[0;34m\u001b[0m\u001b[0m\n\u001b[1;32m    332\u001b[0m             \u001b[0;32mwith\u001b[0m \u001b[0mtf\u001b[0m\u001b[0;34m.\u001b[0m\u001b[0mGradientTape\u001b[0m\u001b[0;34m(\u001b[0m\u001b[0mpersistent\u001b[0m\u001b[0;34m=\u001b[0m\u001b[0;32mTrue\u001b[0m\u001b[0;34m)\u001b[0m \u001b[0;32mas\u001b[0m \u001b[0mtape\u001b[0m\u001b[0;34m:\u001b[0m\u001b[0;34m\u001b[0m\u001b[0;34m\u001b[0m\u001b[0m\n\u001b[0;32m--> 333\u001b[0;31m                 loss, pred_margin_loss, kde_loss, kde_stop = self.compute_loss(\n\u001b[0m\u001b[1;32m    334\u001b[0m                     \u001b[0mx\u001b[0m\u001b[0;34m,\u001b[0m \u001b[0mz\u001b[0m\u001b[0;34m,\u001b[0m  \u001b[0mtarget_label\u001b[0m\u001b[0;34m,\u001b[0m\u001b[0mkde_stop\u001b[0m\u001b[0;34m\u001b[0m\u001b[0;34m\u001b[0m\u001b[0m\n\u001b[1;32m    335\u001b[0m                 )\n",
            "\u001b[0;32m<ipython-input-137-2938948feb65>\u001b[0m in \u001b[0;36mcompute_loss\u001b[0;34m(self, original_sample, z_search, target_label, kde_stop)\u001b[0m\n\u001b[1;32m    214\u001b[0m           \u001b[0;31m#print(f'data_dimention in compute loss = {data_dimention.shape}')\u001b[0m\u001b[0;34m\u001b[0m\u001b[0;34m\u001b[0m\u001b[0m\n\u001b[1;32m    215\u001b[0m           \u001b[0mkde\u001b[0m \u001b[0;34m=\u001b[0m \u001b[0mself\u001b[0m\u001b[0;34m.\u001b[0m\u001b[0mtrain_gaussian_kde\u001b[0m\u001b[0;34m(\u001b[0m\u001b[0mdata\u001b[0m \u001b[0;34m=\u001b[0m \u001b[0mdata_dimention\u001b[0m\u001b[0;34m,\u001b[0m\u001b[0muse_scotts_rule\u001b[0m\u001b[0;34m=\u001b[0m\u001b[0;32mFalse\u001b[0m\u001b[0;34m,\u001b[0m\u001b[0muse_silvermans_rule\u001b[0m\u001b[0;34m=\u001b[0m\u001b[0;32mFalse\u001b[0m\u001b[0;34m,\u001b[0m\u001b[0mmanual_bandwidth\u001b[0m \u001b[0;34m=\u001b[0m \u001b[0mself\u001b[0m\u001b[0;34m.\u001b[0m\u001b[0mbandwidth\u001b[0m\u001b[0;34m)\u001b[0m\u001b[0;34m\u001b[0m\u001b[0;34m\u001b[0m\u001b[0m\n\u001b[0;32m--> 216\u001b[0;31m           \u001b[0mmean_log_likelihood\u001b[0m \u001b[0;34m=\u001b[0m \u001b[0mtf\u001b[0m\u001b[0;34m.\u001b[0m\u001b[0mcast\u001b[0m\u001b[0;34m(\u001b[0m\u001b[0mtf\u001b[0m\u001b[0;34m.\u001b[0m\u001b[0mreduce_mean\u001b[0m\u001b[0;34m(\u001b[0m\u001b[0mself\u001b[0m\u001b[0;34m.\u001b[0m\u001b[0mgaussian_kde_logpdf\u001b[0m\u001b[0;34m(\u001b[0m\u001b[0mkde\u001b[0m\u001b[0;34m,\u001b[0m \u001b[0mx_points\u001b[0m \u001b[0;34m=\u001b[0m \u001b[0;34m(\u001b[0m\u001b[0mdata_dimention\u001b[0m\u001b[0;34m)\u001b[0m\u001b[0;34m)\u001b[0m\u001b[0;34m)\u001b[0m\u001b[0;34m,\u001b[0m\u001b[0mtf\u001b[0m\u001b[0;34m.\u001b[0m\u001b[0mfloat32\u001b[0m\u001b[0;34m)\u001b[0m\u001b[0;34m\u001b[0m\u001b[0;34m\u001b[0m\u001b[0m\n\u001b[0m\u001b[1;32m    217\u001b[0m \u001b[0;34m\u001b[0m\u001b[0m\n\u001b[1;32m    218\u001b[0m           \u001b[0mdecoded_dimention\u001b[0m \u001b[0;34m=\u001b[0m \u001b[0mdecoded\u001b[0m\u001b[0;34m[\u001b[0m\u001b[0;34m:\u001b[0m\u001b[0;34m,\u001b[0m\u001b[0;34m:\u001b[0m\u001b[0;34m,\u001b[0m\u001b[0mdimention\u001b[0m\u001b[0;34m]\u001b[0m\u001b[0;34m\u001b[0m\u001b[0;34m\u001b[0m\u001b[0m\n",
            "\u001b[0;32m<ipython-input-137-2938948feb65>\u001b[0m in \u001b[0;36mgaussian_kde_logpdf\u001b[0;34m(self, kde_fn, x_points)\u001b[0m\n\u001b[1;32m    194\u001b[0m       \"\"\"\n\u001b[1;32m    195\u001b[0m       \u001b[0;31m#print(f'x_points.shape in gaussian kde lofpdf= {x_points.shape}')\u001b[0m\u001b[0;34m\u001b[0m\u001b[0;34m\u001b[0m\u001b[0m\n\u001b[0;32m--> 196\u001b[0;31m       \u001b[0mdensity\u001b[0m \u001b[0;34m=\u001b[0m \u001b[0mkde_fn\u001b[0m\u001b[0;34m(\u001b[0m\u001b[0mx_points\u001b[0m\u001b[0;34m)\u001b[0m\u001b[0;34m\u001b[0m\u001b[0;34m\u001b[0m\u001b[0m\n\u001b[0m\u001b[1;32m    197\u001b[0m       \u001b[0;32mreturn\u001b[0m \u001b[0mtf\u001b[0m\u001b[0;34m.\u001b[0m\u001b[0mmath\u001b[0m\u001b[0;34m.\u001b[0m\u001b[0mlog\u001b[0m\u001b[0;34m(\u001b[0m\u001b[0mdensity\u001b[0m\u001b[0;34m)\u001b[0m\u001b[0;34m\u001b[0m\u001b[0;34m\u001b[0m\u001b[0m\n\u001b[1;32m    198\u001b[0m \u001b[0;34m\u001b[0m\u001b[0m\n",
            "\u001b[0;32m<ipython-input-137-2938948feb65>\u001b[0m in \u001b[0;36mkde_fn\u001b[0;34m(x_points)\u001b[0m\n\u001b[1;32m    176\u001b[0m         \u001b[0mdiff\u001b[0m \u001b[0;34m=\u001b[0m \u001b[0mx_points_exp\u001b[0m \u001b[0;34m-\u001b[0m \u001b[0mdata_exp\u001b[0m\u001b[0;34m\u001b[0m\u001b[0;34m\u001b[0m\u001b[0m\n\u001b[1;32m    177\u001b[0m         \u001b[0mnorm\u001b[0m \u001b[0;34m=\u001b[0m \u001b[0mtf\u001b[0m\u001b[0;34m.\u001b[0m\u001b[0mreduce_sum\u001b[0m\u001b[0;34m(\u001b[0m\u001b[0mdiff\u001b[0m \u001b[0;34m**\u001b[0m \u001b[0;36m2\u001b[0m\u001b[0;34m,\u001b[0m \u001b[0maxis\u001b[0m\u001b[0;34m=\u001b[0m\u001b[0;36m2\u001b[0m\u001b[0;34m)\u001b[0m\u001b[0;34m\u001b[0m\u001b[0;34m\u001b[0m\u001b[0m\n\u001b[0;32m--> 178\u001b[0;31m         \u001b[0mkernel_val\u001b[0m \u001b[0;34m=\u001b[0m \u001b[0mtf\u001b[0m\u001b[0;34m.\u001b[0m\u001b[0mexp\u001b[0m\u001b[0;34m(\u001b[0m\u001b[0;34m-\u001b[0m\u001b[0mnorm\u001b[0m \u001b[0;34m/\u001b[0m \u001b[0;34m(\u001b[0m\u001b[0;36m2.0\u001b[0m \u001b[0;34m*\u001b[0m \u001b[0mbandwidth\u001b[0m \u001b[0;34m**\u001b[0m \u001b[0;36m2\u001b[0m\u001b[0;34m)\u001b[0m\u001b[0;34m)\u001b[0m\u001b[0;34m\u001b[0m\u001b[0;34m\u001b[0m\u001b[0m\n\u001b[0m\u001b[1;32m    179\u001b[0m \u001b[0;34m\u001b[0m\u001b[0m\n\u001b[1;32m    180\u001b[0m \u001b[0;34m\u001b[0m\u001b[0m\n",
            "\u001b[0;32m/usr/local/lib/python3.10/dist-packages/tensorflow/python/ops/gen_math_ops.py\u001b[0m in \u001b[0;36mneg\u001b[0;34m(x, name)\u001b[0m\n\u001b[1;32m   6928\u001b[0m   \u001b[0;32mif\u001b[0m \u001b[0mtld\u001b[0m\u001b[0;34m.\u001b[0m\u001b[0mis_eager\u001b[0m\u001b[0;34m:\u001b[0m\u001b[0;34m\u001b[0m\u001b[0;34m\u001b[0m\u001b[0m\n\u001b[1;32m   6929\u001b[0m     \u001b[0;32mtry\u001b[0m\u001b[0;34m:\u001b[0m\u001b[0;34m\u001b[0m\u001b[0;34m\u001b[0m\u001b[0m\n\u001b[0;32m-> 6930\u001b[0;31m       _result = pywrap_tfe.TFE_Py_FastPathExecute(\n\u001b[0m\u001b[1;32m   6931\u001b[0m         _ctx, \"Neg\", name, x)\n\u001b[1;32m   6932\u001b[0m       \u001b[0;32mreturn\u001b[0m \u001b[0m_result\u001b[0m\u001b[0;34m\u001b[0m\u001b[0;34m\u001b[0m\u001b[0m\n",
            "\u001b[0;31mKeyboardInterrupt\u001b[0m: "
          ]
        }
      ]
    },
    {
      "cell_type": "code",
      "source": [
        "#with learning rate = 0.001, 500 iterations, bandwidth = 0.1,margin_weight=0.6,weighted_steps_weight = 0.2,kse_weight = 0.2\n",
        "for i in range(5):\n",
        "  print(\"actual\")\n",
        "  visualise_digit(X_pred_neg,y_pred_neg,i,figsize = (5,5))\n",
        "  print(\"counterfactual\")\n",
        "  visualise_digit(cf_embeddings,y_neg,i,figsize = (5,5))\n"
      ],
      "metadata": {
        "id": "UbvQjP1RpiYh",
        "colab": {
          "base_uri": "https://localhost:8080/",
          "height": 1000
        },
        "outputId": "cded9522-dbee-4749-9a39-da9f4c548b76"
      },
      "execution_count": 135,
      "outputs": [
        {
          "output_type": "stream",
          "name": "stdout",
          "text": [
            "actual\n",
            "y = 0\n"
          ]
        },
        {
          "output_type": "display_data",
          "data": {
            "text/plain": [
              "<Figure size 500x500 with 1 Axes>"
            ],
            "image/png": "[encoded data removed]"
          },
          "metadata": {}
        },
        {
          "output_type": "stream",
          "name": "stdout",
          "text": [
            "counterfactual\n",
            "y = 0\n"
          ]
        },
        {
          "output_type": "display_data",
          "data": {
            "text/plain": [
              "<Figure size 500x500 with 1 Axes>"
            ],
            "image/png": "[encoded data removed]"
          },
          "metadata": {}
        },
        {
          "output_type": "stream",
          "name": "stdout",
          "text": [
            "actual\n",
            "y = 0\n"
          ]
        },
        {
          "output_type": "display_data",
          "data": {
            "text/plain": [
              "<Figure size 500x500 with 1 Axes>"
            ],
            "image/png": "[encoded data removed]"
          },
          "metadata": {}
        },
        {
          "output_type": "stream",
          "name": "stdout",
          "text": [
            "counterfactual\n",
            "y = 0\n"
          ]
        },
        {
          "output_type": "display_data",
          "data": {
            "text/plain": [
              "<Figure size 500x500 with 1 Axes>"
            ],
            "image/png": "[encoded data removed]"
          },
          "metadata": {}
        },
        {
          "output_type": "stream",
          "name": "stdout",
          "text": [
            "actual\n",
            "y = 0\n"
          ]
        },
        {
          "output_type": "display_data",
          "data": {
            "text/plain": [
              "<Figure size 500x500 with 1 Axes>"
            ],
            "image/png": "[encoded data removed]"
          },
          "metadata": {}
        },
        {
          "output_type": "stream",
          "name": "stdout",
          "text": [
            "counterfactual\n"
          ]
        },
        {
          "output_type": "error",
          "ename": "IndexError",
          "evalue": "index 2 is out of bounds for axis 0 with size 2",
          "traceback": [
            "\u001b[0;31m---------------------------------------------------------------------------\u001b[0m",
            "\u001b[0;31mIndexError\u001b[0m                                Traceback (most recent call last)",
            "\u001b[0;32m<ipython-input-135-1fe3b622e884>\u001b[0m in \u001b[0;36m<cell line: 2>\u001b[0;34m()\u001b[0m\n\u001b[1;32m      4\u001b[0m   \u001b[0mvisualise_digit\u001b[0m\u001b[0;34m(\u001b[0m\u001b[0mX_pred_neg\u001b[0m\u001b[0;34m,\u001b[0m\u001b[0my_pred_neg\u001b[0m\u001b[0;34m,\u001b[0m\u001b[0mi\u001b[0m\u001b[0;34m,\u001b[0m\u001b[0mfigsize\u001b[0m \u001b[0;34m=\u001b[0m \u001b[0;34m(\u001b[0m\u001b[0;36m5\u001b[0m\u001b[0;34m,\u001b[0m\u001b[0;36m5\u001b[0m\u001b[0;34m)\u001b[0m\u001b[0;34m)\u001b[0m\u001b[0;34m\u001b[0m\u001b[0;34m\u001b[0m\u001b[0m\n\u001b[1;32m      5\u001b[0m   \u001b[0mprint\u001b[0m\u001b[0;34m(\u001b[0m\u001b[0;34m\"counterfactual\"\u001b[0m\u001b[0;34m)\u001b[0m\u001b[0;34m\u001b[0m\u001b[0;34m\u001b[0m\u001b[0m\n\u001b[0;32m----> 6\u001b[0;31m   \u001b[0mvisualise_digit\u001b[0m\u001b[0;34m(\u001b[0m\u001b[0mcf_embeddings\u001b[0m\u001b[0;34m,\u001b[0m\u001b[0my_neg\u001b[0m\u001b[0;34m,\u001b[0m\u001b[0mi\u001b[0m\u001b[0;34m,\u001b[0m\u001b[0mfigsize\u001b[0m \u001b[0;34m=\u001b[0m \u001b[0;34m(\u001b[0m\u001b[0;36m5\u001b[0m\u001b[0;34m,\u001b[0m\u001b[0;36m5\u001b[0m\u001b[0;34m)\u001b[0m\u001b[0;34m)\u001b[0m\u001b[0;34m\u001b[0m\u001b[0;34m\u001b[0m\u001b[0m\n\u001b[0m",
            "\u001b[0;32m/content/LatentCfMultivariate/help_functions.py\u001b[0m in \u001b[0;36mvisualise_digit\u001b[0;34m(X, y, idx, figsize)\u001b[0m\n\u001b[1;32m     75\u001b[0m \u001b[0;34m\u001b[0m\u001b[0m\n\u001b[1;32m     76\u001b[0m \u001b[0;32mdef\u001b[0m \u001b[0mvisualise_digit\u001b[0m\u001b[0;34m(\u001b[0m\u001b[0mX\u001b[0m\u001b[0;34m,\u001b[0m\u001b[0my\u001b[0m\u001b[0;34m,\u001b[0m\u001b[0midx\u001b[0m\u001b[0;34m,\u001b[0m\u001b[0mfigsize\u001b[0m \u001b[0;34m=\u001b[0m \u001b[0;32mNone\u001b[0m\u001b[0;34m)\u001b[0m\u001b[0;34m:\u001b[0m\u001b[0;34m\u001b[0m\u001b[0;34m\u001b[0m\u001b[0m\n\u001b[0;32m---> 77\u001b[0;31m   \u001b[0mprint\u001b[0m\u001b[0;34m(\u001b[0m\u001b[0;34mf'y = {y[idx]}'\u001b[0m\u001b[0;34m)\u001b[0m\u001b[0;34m\u001b[0m\u001b[0;34m\u001b[0m\u001b[0m\n\u001b[0m\u001b[1;32m     78\u001b[0m   \u001b[0mX\u001b[0m \u001b[0;34m=\u001b[0m \u001b[0mX\u001b[0m\u001b[0;34m.\u001b[0m\u001b[0mtranspose\u001b[0m \u001b[0;34m(\u001b[0m\u001b[0;36m0\u001b[0m\u001b[0;34m,\u001b[0m\u001b[0;36m2\u001b[0m\u001b[0;34m,\u001b[0m\u001b[0;36m1\u001b[0m\u001b[0;34m)\u001b[0m\u001b[0;34m\u001b[0m\u001b[0;34m\u001b[0m\u001b[0m\n\u001b[1;32m     79\u001b[0m   \u001b[0mx_coords\u001b[0m \u001b[0;34m=\u001b[0m \u001b[0mX\u001b[0m\u001b[0;34m[\u001b[0m\u001b[0midx\u001b[0m\u001b[0;34m,\u001b[0m \u001b[0;36m0\u001b[0m\u001b[0;34m]\u001b[0m\u001b[0;34m\u001b[0m\u001b[0;34m\u001b[0m\u001b[0m\n",
            "\u001b[0;31mIndexError\u001b[0m: index 2 is out of bounds for axis 0 with size 2"
          ]
        }
      ]
    },
    {
      "cell_type": "code",
      "source": [
        "#Validity\n",
        "cf_pred = cnnClassifier.predict(cf_embeddings)[:, 1] # predicted probabilities of CFs\n",
        "cf_pred_labels = cf_pred\n",
        "for idx in range(cf_pred_labels.shape[0]):\n",
        "  if cf_pred_labels[idx] > 0.5:\n",
        "    cf_pred_labels[idx] = 1\n",
        "  else:\n",
        "    cf_pred_labels[idx] = 0\n",
        "\n",
        "\n",
        "print(f'Transformation_finished with validity_score = {validity_score(y_neg,cf_pred_labels)}')"
      ],
      "metadata": {
        "id": "Ov4igLqcorG9",
        "outputId": "0d5a867b-cd1c-4dab-ddd7-0f830f31a3fd",
        "colab": {
          "base_uri": "https://localhost:8080/"
        }
      },
      "execution_count": 131,
      "outputs": [
        {
          "output_type": "stream",
          "name": "stdout",
          "text": [
            "1/1 [==============================] - 0s 84ms/step\n",
            "Transformation_finished with validity_score = 1.0\n"
          ]
        }
      ]
    },
    {
      "cell_type": "code",
      "source": [
        "#Calculating proximity withour absolute\n",
        "from tensorflow.keras.losses import MeanSquaredError\n",
        "total_mse = 0\n",
        "probability = 0.9\n",
        "for idx in range(cf_embeddings.shape[0]):\n",
        "    counterfactual = cf_embeddings[idx,np.newaxis]\n",
        "    prediction = cnnClassifier.predict(counterfactual)[:, 1]\n",
        "    mse = MeanSquaredError()\n",
        "    mse_dist = mse(probability, prediction).numpy()\n",
        "    total_mse +=mse_dist\n",
        "mean_mse = total_mse /cf_embeddings.shape[0]\n",
        "print(f\"The Mean MSE of the data is: {mean_mse} \")"
      ],
      "metadata": {
        "id": "Nvlack0n40dJ",
        "outputId": "7a05ed84-b729-49e3-9121-ec88af6719c7",
        "colab": {
          "base_uri": "https://localhost:8080/"
        }
      },
      "execution_count": 84,
      "outputs": [
        {
          "output_type": "stream",
          "name": "stdout",
          "text": [
            "1/1 [==============================] - 0s 40ms/step\n",
            "1/1 [==============================] - 0s 38ms/step\n",
            "1/1 [==============================] - 0s 37ms/step\n",
            "1/1 [==============================] - 0s 34ms/step\n",
            "1/1 [==============================] - 0s 32ms/step\n",
            "The Mean MSE of the data is: 0.00011891535161225874 \n"
          ]
        }
      ]
    },
    {
      "cell_type": "code",
      "source": [
        "#Calculating proximity with absolute\n",
        "from tensorflow.keras.losses import MeanSquaredError\n",
        "total = 0\n",
        "probability = 0.9\n",
        "for idx in range(cf_embeddings.shape[0]):\n",
        "    counterfactual = cf_embeddings[idx,np.newaxis]\n",
        "    prediction = cnnClassifier.predict(counterfactual)[:, 1]\n",
        "    dist = abs(prediction - probability)\n",
        "    total +=dist\n",
        "mean_mse = total /cf_embeddings.shape[0]\n",
        "print(f\"The Mean MSE of the data is: {mean_mse} \")"
      ],
      "metadata": {
        "id": "oK3o9SQB41a9",
        "outputId": "a4cf86d2-68b0-4cac-89cc-3051208adaba",
        "colab": {
          "base_uri": "https://localhost:8080/"
        }
      },
      "execution_count": 85,
      "outputs": [
        {
          "output_type": "stream",
          "name": "stdout",
          "text": [
            "1/1 [==============================] - 0s 39ms/step\n",
            "1/1 [==============================] - 0s 45ms/step\n",
            "1/1 [==============================] - 0s 40ms/step\n",
            "1/1 [==============================] - 0s 53ms/step\n",
            "1/1 [==============================] - 0s 59ms/step\n",
            "The Mean MSE of the data is: [0.00871607] \n"
          ]
        }
      ]
    },
    {
      "cell_type": "code",
      "source": [
        "#Proximity\n",
        "def euclidean_distance(X, cf_samples):\n",
        "    paired_distances = np.linalg.norm(X - cf_samples, axis=1)\n",
        "    return np.mean(paired_distances)\n",
        "euclidean_distance(X_neg, cf_embeddings)"
      ],
      "metadata": {
        "id": "ZTsPvh1lotsk",
        "outputId": "8f645007-d5c2-4958-e5e2-be727f7a7d06",
        "colab": {
          "base_uri": "https://localhost:8080/"
        }
      },
      "execution_count": 86,
      "outputs": [
        {
          "output_type": "execute_result",
          "data": {
            "text/plain": [
              "0.5088542462387406"
            ]
          },
          "metadata": {},
          "execution_count": 86
        }
      ]
    },
    {
      "cell_type": "code",
      "source": [
        "from scipy.stats import gaussian_kde\n",
        "\n",
        "diffrences_from_abnormal = []\n",
        "diffrences_from_normal = []\n",
        "for dimention in range(cf_embeddings.shape[2]):\n",
        "\n",
        "\n",
        "  abnormal_data = X[y_classes == 1][:,:,dimention]\n",
        "  normal_data = X[y_classes == 0][:,:,dimention]\n",
        "  counterf_data = cf_embeddings[:,:,dimention]\n",
        "\n",
        "  #get the kernel for every dimention of the trained\n",
        "  kernel = gaussian_kde(abnormal_data.T,bw_method=None)\n",
        "\n",
        "  #get all the log likelihoods\n",
        "  log_likelihood_abnormal = np.mean(kernel.logpdf(abnormal_data.T))\n",
        "  log_likelihood_normal = np.mean(kernel.logpdf(normal_data.T))\n",
        "  log_likelihood_counterfactual = np.mean(kernel.logpdf(counterf_data.T))\n",
        "\n",
        "  #get the diffrences from the counterfactuals\n",
        "  diff_from_abnormal = abs(log_likelihood_counterfactual-log_likelihood_abnormal)\n",
        "  diffrences_from_abnormal.append(diff_from_abnormal)\n",
        "\n",
        "  diff_from_normal = abs(log_likelihood_counterfactual-log_likelihood_normal)\n",
        "  diffrences_from_normal.append(diff_from_normal)\n"
      ],
      "metadata": {
        "id": "7GSjwx8w4liQ"
      },
      "execution_count": 96,
      "outputs": []
    },
    {
      "cell_type": "code",
      "source": [
        "diffrences_from_normal"
      ],
      "metadata": {
        "id": "G6rd-6JvFLP1",
        "outputId": "dbc6bd42-1c5c-4ac2-f817-bcad42ca6893",
        "colab": {
          "base_uri": "https://localhost:8080/"
        }
      },
      "execution_count": 97,
      "outputs": [
        {
          "output_type": "execute_result",
          "data": {
            "text/plain": [
              "[2.9794700378210055, 1.0723748620498486]"
            ]
          },
          "metadata": {},
          "execution_count": 97
        }
      ]
    },
    {
      "cell_type": "code",
      "source": [
        "diffrences_from_abnormal"
      ],
      "metadata": {
        "id": "7j6tO69OFNdv",
        "outputId": "5c7c419d-7555-4f5b-dce8-7200172815a8",
        "colab": {
          "base_uri": "https://localhost:8080/"
        }
      },
      "execution_count": 98,
      "outputs": [
        {
          "output_type": "execute_result",
          "data": {
            "text/plain": [
              "[5.188390835021883, 9.03752555363434]"
            ]
          },
          "metadata": {},
          "execution_count": 98
        }
      ]
    },
    {
      "cell_type": "code",
      "source": [
        "x_eights_train = X_train[y_train_classes == 1][:,:,0]\n",
        "y_eights_train = X_train[y_train_classes == 1][:,:,1]\n",
        "print(f\"shape of eights_train = {x_eights_train.shape}\")\n",
        "\n",
        "x_eights_test = X_test[y_test_classes == 1][:,:,0]\n",
        "y_eights_test = X_test[y_test_classes == 1][:,:,1]\n",
        "print(f\"shape of eights_test = {x_eights_test.shape}\")\n",
        "\n",
        "x_zeros_test = X_test[y_test_classes == 0][:,:,0]\n",
        "y_zeros_test = X_test[y_test_classes == 0][:,:,1]\n",
        "print(f\"shape of zeros_test = {x_zeros_test.shape}\")\n",
        "\n",
        "x_eights_cf = cf_embeddings[:,:,0]\n",
        "y_eights_cf = cf_embeddings[:,:,1]\n",
        "print(f\"shape of eights_cf = {x_eights_cf.shape}\")"
      ],
      "metadata": {
        "id": "S3tJ9lTYotyk",
        "outputId": "588ce9c2-1768-4e76-d0d5-5d6eabb83afa",
        "colab": {
          "base_uri": "https://localhost:8080/"
        }
      },
      "execution_count": 91,
      "outputs": [
        {
          "output_type": "stream",
          "name": "stdout",
          "text": [
            "shape of eights_train = (732, 8)\n",
            "shape of eights_test = (211, 8)\n",
            "shape of zeros_test = (229, 8)\n",
            "shape of eights_cf = (5, 8)\n"
          ]
        }
      ]
    },
    {
      "cell_type": "code",
      "source": [
        "from scipy.stats import gaussian_kde\n",
        "\n",
        "kernel_x = gaussian_kde(x_eights_train.T,bw_method=None)\n",
        "\n",
        "\n",
        "log_likelihood_of_xtest_eights = np.mean(kernel_x.logpdf(x_eights_test.T))\n",
        "print(f\"log_likelihood_of_xtest_eights = {log_likelihood_of_xtest_eights}\")\n",
        "\n",
        "log_likelihood_of_xtest_zeroes = np.mean(kernel_x.logpdf(x_zeros_test.T))\n",
        "print(f\"log_likelihood_of_xtest_zeroes = {log_likelihood_of_xtest_zeroes}\")\n",
        "\n",
        "\n",
        "log_likelihood_of_xcf = np.mean(kernel_x.logpdf(x_eights_cf.T))\n",
        "print(f\"log_likelihood_of_xcf = {log_likelihood_of_xcf}\\n\")\n",
        "\n",
        "kernel_y = gaussian_kde(y_eights_train.T,bw_method=None)\n",
        "\n",
        "\n",
        "log_likelihood_of_ytest_eights = np.mean(kernel_y.logpdf(y_eights_test.T))\n",
        "print(f\"log_likelihood_of_ytest_eights = {log_likelihood_of_ytest_eights}\")\n",
        "\n",
        "log_likelihood_of_ytest_zeroes = np.mean(kernel_y.logpdf(y_zeros_test.T))\n",
        "print(f\"log_likelihood_of_ytest_zeroes = {log_likelihood_of_ytest_zeroes}\")\n",
        "\n",
        "\n",
        "log_likelihood_of_ycf = np.mean(kernel_y.logpdf(y_eights_cf.T))\n",
        "print(f\"log_likelihood_of_ycf = {log_likelihood_of_ycf}\")"
      ],
      "metadata": {
        "id": "RUtl2NOGot13",
        "outputId": "1a91acab-8b75-481c-8b2b-eb45420bd966",
        "colab": {
          "base_uri": "https://localhost:8080/"
        }
      },
      "execution_count": 92,
      "outputs": [
        {
          "output_type": "stream",
          "name": "stdout",
          "text": [
            "log_likelihood_of_xtest_eights = 1.280974123064098\n",
            "log_likelihood_of_xtest_zeroes = -5.943418349543539\n",
            "log_likelihood_of_xcf = -3.674268187520673\n",
            "\n",
            "log_likelihood_of_ytest_eights = 7.350994365536629\n",
            "log_likelihood_of_ytest_zeroes = 1.2296819825097975\n",
            "log_likelihood_of_ycf = 4.659762073560167\n"
          ]
        }
      ]
    },
    {
      "cell_type": "code",
      "source": [
        "#Calculating proximity\n",
        "from tensorflow.keras.losses import MeanSquaredError\n",
        "total = 0\n",
        "probability = 0.9\n",
        "for idx in range(cf_embeddings.shape[0]):\n",
        "    counterfactual = cf_embeddings[idx,np.newaxis]\n",
        "    prediction = cnnClassifier.predict(counterfactual)[:, 1]\n",
        "    dist = abs(prediction - probability)\n",
        "    total +=dist\n",
        "mean_mse = total /cf_embeddings.shape[0]\n",
        "print(f\"The Mean MSE of the data is: {mean_mse} \")"
      ],
      "metadata": {
        "id": "zBmm3yh-ot8M"
      },
      "execution_count": null,
      "outputs": []
    }
  ]
}