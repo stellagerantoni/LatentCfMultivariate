{
  "nbformat": 4,
  "nbformat_minor": 0,
  "metadata": {
    "colab": {
      "provenance": [],
      "gpuType": "T4",
      "include_colab_link": true
    },
    "kernelspec": {
      "name": "python3",
      "display_name": "Python 3"
    },
    "language_info": {
      "name": "python"
    },
    "accelerator": "GPU"
  },
  "cells": [
    {
      "cell_type": "markdown",
      "metadata": {
        "id": "view-in-github",
        "colab_type": "text"
      },
      "source": [
        "<a href=\"https://colab.research.google.com/github/stellagerantoni/LatentCfMultivariate/blob/main/multivariate_pendigits_with_KDE.ipynb\" target=\"_parent\"><img src=\"https://colab.research.google.com/assets/colab-badge.svg\" alt=\"Open In Colab\"/></a>"
      ]
    },
    {
      "cell_type": "code",
      "source": [
        "! git clone https://github.com/stellagerantoni/LatentCfMultivariate"
      ],
      "metadata": {
        "id": "1fwOXGEl_ine",
        "outputId": "33ee9357-7131-475e-cb1b-2dee1bf2442f",
        "colab": {
          "base_uri": "https://localhost:8080/"
        }
      },
      "execution_count": 1,
      "outputs": [
        {
          "output_type": "stream",
          "name": "stdout",
          "text": [
            "Cloning into 'LatentCfMultivariate'...\n",
            "remote: Enumerating objects: 89, done.\u001b[K\n",
            "remote: Counting objects: 100% (89/89), done.\u001b[K\n",
            "remote: Compressing objects: 100% (87/87), done.\u001b[K\n",
            "Receiving objects: 100% (89/89), 3.94 MiB | 7.58 MiB/s, done.\n",
            "remote: Total 89 (delta 49), reused 0 (delta 0), pack-reused 0\u001b[K\n",
            "Resolving deltas: 100% (49/49), done.\n"
          ]
        }
      ]
    },
    {
      "cell_type": "code",
      "source": [
        "!pip install -q wildboar\n",
        "!pip install -q scikit-learn\n",
        "!pip install -q stumpy\n",
        "!pip install -q fastdtw\n"
      ],
      "metadata": {
        "id": "89L3kts7CCan",
        "outputId": "f4ffc087-7e96-4067-c341-e392d42b0299",
        "colab": {
          "base_uri": "https://localhost:8080/"
        }
      },
      "execution_count": 2,
      "outputs": [
        {
          "output_type": "stream",
          "name": "stdout",
          "text": [
            "\u001b[2K     \u001b[90m━━━━━━━━━━━━━━━━━━━━━━━━━━━━━━━━━━━━━━━━\u001b[0m \u001b[32m7.3/7.3 MB\u001b[0m \u001b[31m20.1 MB/s\u001b[0m eta \u001b[36m0:00:00\u001b[0m\n",
            "\u001b[2K     \u001b[90m━━━━━━━━━━━━━━━━━━━━━━━━━━━━━━━━━━━━━━━━\u001b[0m \u001b[32m169.1/169.1 kB\u001b[0m \u001b[31m3.9 MB/s\u001b[0m eta \u001b[36m0:00:00\u001b[0m\n",
            "\u001b[2K     \u001b[90m━━━━━━━━━━━━━━━━━━━━━━━━━━━━━━━━━━━━━━━━\u001b[0m \u001b[32m133.4/133.4 kB\u001b[0m \u001b[31m3.6 MB/s\u001b[0m eta \u001b[36m0:00:00\u001b[0m\n",
            "\u001b[?25h  Preparing metadata (setup.py) ... \u001b[?25l\u001b[?25hdone\n",
            "  Building wheel for fastdtw (setup.py) ... \u001b[?25l\u001b[?25hdone\n"
          ]
        }
      ]
    },
    {
      "cell_type": "code",
      "source": [
        "!pip install aeon"
      ],
      "metadata": {
        "id": "qZh6v946Bhq8",
        "outputId": "f26e57d6-948a-4993-919a-563f9b32a48c",
        "colab": {
          "base_uri": "https://localhost:8080/"
        }
      },
      "execution_count": 3,
      "outputs": [
        {
          "output_type": "stream",
          "name": "stdout",
          "text": [
            "Collecting aeon\n",
            "  Downloading aeon-0.5.0-py3-none-any.whl (45.2 MB)\n",
            "\u001b[2K     \u001b[90m━━━━━━━━━━━━━━━━━━━━━━━━━━━━━━━━━━━━━━━━\u001b[0m \u001b[32m45.2/45.2 MB\u001b[0m \u001b[31m19.6 MB/s\u001b[0m eta \u001b[36m0:00:00\u001b[0m\n",
            "\u001b[?25hRequirement already satisfied: attrs>=19.2.0 in /usr/local/lib/python3.10/dist-packages (from aeon) (23.1.0)\n",
            "Collecting deprecated>=1.2.13 (from aeon)\n",
            "  Downloading Deprecated-1.2.14-py2.py3-none-any.whl (9.6 kB)\n",
            "Requirement already satisfied: numba>=0.55 in /usr/local/lib/python3.10/dist-packages (from aeon) (0.58.1)\n",
            "Requirement already satisfied: numpy<1.25.0,>=1.21.0 in /usr/local/lib/python3.10/dist-packages (from aeon) (1.23.5)\n",
            "Requirement already satisfied: packaging>=20.0 in /usr/local/lib/python3.10/dist-packages (from aeon) (23.2)\n",
            "Requirement already satisfied: pandas<2.1.0,>=1.5.3 in /usr/local/lib/python3.10/dist-packages (from aeon) (1.5.3)\n",
            "Requirement already satisfied: scikit-learn<1.3.0,>=1.0.0 in /usr/local/lib/python3.10/dist-packages (from aeon) (1.2.2)\n",
            "Requirement already satisfied: scipy<2.0.0,>=1.2.0 in /usr/local/lib/python3.10/dist-packages (from aeon) (1.11.3)\n",
            "Requirement already satisfied: wrapt<2,>=1.10 in /usr/local/lib/python3.10/dist-packages (from deprecated>=1.2.13->aeon) (1.14.1)\n",
            "Requirement already satisfied: llvmlite<0.42,>=0.41.0dev0 in /usr/local/lib/python3.10/dist-packages (from numba>=0.55->aeon) (0.41.1)\n",
            "Requirement already satisfied: python-dateutil>=2.8.1 in /usr/local/lib/python3.10/dist-packages (from pandas<2.1.0,>=1.5.3->aeon) (2.8.2)\n",
            "Requirement already satisfied: pytz>=2020.1 in /usr/local/lib/python3.10/dist-packages (from pandas<2.1.0,>=1.5.3->aeon) (2023.3.post1)\n",
            "Requirement already satisfied: joblib>=1.1.1 in /usr/local/lib/python3.10/dist-packages (from scikit-learn<1.3.0,>=1.0.0->aeon) (1.3.2)\n",
            "Requirement already satisfied: threadpoolctl>=2.0.0 in /usr/local/lib/python3.10/dist-packages (from scikit-learn<1.3.0,>=1.0.0->aeon) (3.2.0)\n",
            "Requirement already satisfied: six>=1.5 in /usr/local/lib/python3.10/dist-packages (from python-dateutil>=2.8.1->pandas<2.1.0,>=1.5.3->aeon) (1.16.0)\n",
            "Installing collected packages: deprecated, aeon\n",
            "Successfully installed aeon-0.5.0 deprecated-1.2.14\n"
          ]
        }
      ]
    },
    {
      "cell_type": "code",
      "source": [
        "import logging\n",
        "import os\n",
        "import warnings\n",
        "from argparse import ArgumentParser\n",
        "from aeon.datasets import load_classification\n",
        "\n",
        "from tensorflow import keras\n",
        "import matplotlib.pyplot as plt\n",
        "import numpy as np\n",
        "import pandas as pd\n",
        "import tensorflow as tf\n",
        "from scipy.spatial import distance_matrix\n",
        "from sklearn.metrics import balanced_accuracy_score, confusion_matrix\n",
        "from sklearn.model_selection import train_test_split\n",
        "from sklearn.neighbors import KDTree, KNeighborsClassifier\n",
        "from sklearn.preprocessing import MinMaxScaler\n",
        "from wildboar.datasets import load_dataset\n",
        "from wildboar.ensemble import ShapeletForestClassifier\n",
        "from wildboar.explain.counterfactual import counterfactuals\n",
        "%cd '/content/LatentCfMultivariate'\n",
        "from _guided import ModifiedLatentCF\n",
        "from help_functions import *\n",
        "from keras_models import *"
      ],
      "metadata": {
        "colab": {
          "base_uri": "https://localhost:8080/"
        },
        "id": "Bdkpan5lCGRH",
        "outputId": "61cb74a7-b7b3-47a8-caea-67b8481e574a"
      },
      "execution_count": 4,
      "outputs": [
        {
          "output_type": "stream",
          "name": "stdout",
          "text": [
            "/content/LatentCfMultivariate\n"
          ]
        }
      ]
    },
    {
      "cell_type": "code",
      "source": [
        "os.environ['TF_DETERMINISTIC_OPS'] = '1'\n",
        "config = tf.compat.v1.ConfigProto()\n",
        "config.gpu_options.allow_growth = True\n",
        "session = tf.compat.v1.Session(config=config)\n",
        "RANDOM_STATE = 39"
      ],
      "metadata": {
        "id": "GJE1AxFnE51S"
      },
      "execution_count": 5,
      "outputs": []
    },
    {
      "cell_type": "markdown",
      "source": [
        "## **FUNCTIONS**"
      ],
      "metadata": {
        "id": "IHBw9E_4Zm5b"
      }
    },
    {
      "cell_type": "code",
      "source": [
        "def load_dataset(dataset):\n",
        "  X, y, meta_data = load_classification(dataset)\n",
        "  if dataset == 'Heartbeat':\n",
        "    pos = 'normal'\n",
        "    neg = 'abnormal'\n",
        "    X = X.transpose(0,2,1)\n",
        "  if dataset == 'SelfRegulationSCP1':\n",
        "    pos = 'positivity'\n",
        "    neg = 'negativity'\n",
        "    X = X.transpose(0,2,1)\n",
        "  if dataset == 'Cricket':\n",
        "    return X,y,meta_data\n",
        "  if dataset == 'SpokenArabicDigits':\n",
        "    return X,y,meta_data\n",
        "  if dataset == 'PenDigits':\n",
        "    return X,y,meta_data\n",
        "\n",
        "  print(\" Shape of X = \", X.shape)\n",
        "  print(\" Shape of y = \", y.shape)\n",
        "  print(\" Meta data = \", meta_data)\n",
        "  # Convert positive and negative labels to 1 and 0\n",
        "  pos_label, neg_label = 1, 0\n",
        "  if pos != pos_label:\n",
        "      y[y==pos] = pos_label # convert/normalize positive label to 1\n",
        "  if neg != neg_label:\n",
        "      y[y==neg] = neg_label # convert negative label to 0\n",
        "\n",
        "  y = y.astype(int)\n",
        "  print(f\"\\n X[:1] = \\n{X[:1]}\")\n",
        "  return X,y,pos_label, neg_label"
      ],
      "metadata": {
        "id": "QsJJktx22dXs"
      },
      "execution_count": 6,
      "outputs": []
    },
    {
      "cell_type": "markdown",
      "source": [
        "# **ACTUALL CODE**\n",
        "datasets available : 'Heartbeat', 'SelfRegulationSCP1'"
      ],
      "metadata": {
        "id": "6vVfmpyuZyC6"
      }
    },
    {
      "cell_type": "code",
      "source": [
        "RANDOM_STATE = 39\n",
        "X,y,data_information = load_classification('PenDigits')\n",
        "print(f'shape of X = {X.shape}')\n",
        "print(f'shape of y = {y.shape}')\n",
        "print(f'data imformation = {data_information}')\n",
        "X_train, X_test, y_train, y_test = train_test_split(X, y, test_size=0.2, random_state=RANDOM_STATE, stratify=y)\n",
        "print(f'shape of X train = {X_train.shape}')\n",
        "print(f'shape of y train = {y_train.shape}')"
      ],
      "metadata": {
        "id": "W4m9pwqyVY1b",
        "outputId": "a42d4d70-00d8-4ba3-b053-9dff2ba0da3b",
        "colab": {
          "base_uri": "https://localhost:8080/"
        }
      },
      "execution_count": 7,
      "outputs": [
        {
          "output_type": "stream",
          "name": "stdout",
          "text": [
            "shape of X = (10992, 2, 8)\n",
            "shape of y = (10992,)\n",
            "data imformation = {'problemname': 'pendigits', 'timestamps': False, 'missing': False, 'univariate': False, 'equallength': True, 'classlabel': True, 'targetlabel': False, 'class_values': ['0', '1', '2', '3', '4', '5', '6', '7', '8', '9']}\n",
            "shape of X train = (8793, 2, 8)\n",
            "shape of y train = (8793,)\n"
          ]
        }
      ]
    },
    {
      "cell_type": "code",
      "source": [
        "# Upsample the minority class\n",
        "unique_classes, class_counts = np.unique(y_train, return_counts=True)\n",
        "print(f'before: {class_counts}')\n",
        "X_train,y_train = upsample_minority_multivariate(X_train,y_train)\n",
        "unique_classes, class_counts = np.unique(y_train, return_counts=True)\n",
        "print(f'after: {class_counts}')"
      ],
      "metadata": {
        "id": "Q2v7QdrHieA8",
        "outputId": "7d1e9013-3161-478e-f0e8-474641d68173",
        "colab": {
          "base_uri": "https://localhost:8080/"
        }
      },
      "execution_count": 8,
      "outputs": [
        {
          "output_type": "stream",
          "name": "stdout",
          "text": [
            "before: [914 914 915 844 915 844 845 914 844 844]\n",
            "after: [915 915 915 915 915 915 915 915 915 915]\n"
          ]
        }
      ]
    },
    {
      "cell_type": "code",
      "source": [
        "X_train = X_train.transpose (0,2,1)\n",
        "X_test = X_test.transpose(0,2,1)\n",
        "n_training,n_timesteps, n_features= X_train.shape\n",
        "\n",
        "X_train_processed, trained_scaler =  normalize_multivariate(data=X_train, n_timesteps=n_timesteps, n_features = n_features)\n",
        "X_test_processed, _ =  normalize_multivariate(data=X_test, n_timesteps=n_timesteps, scaler=trained_scaler, n_features = n_features)\n",
        "\n",
        "X_train_processed_padded, padding_size = conditional_pad_multivariate(X_train_processed) # add extra padding zeros if n_timesteps cannot be divided by 4, required for 1dCNN autoencoder structure\n",
        "X_test_processed_padded, _ = conditional_pad_multivariate(X_test_processed)\n",
        "\n",
        "n_timesteps_padded = X_train_processed_padded.shape[1]\n",
        "print(f\"Data pre-processed, original #timesteps={n_timesteps}, padded #timesteps={n_timesteps_padded}.\")\n",
        "\n",
        "#check the processing (0,1) min should be min 0 and max should be max 1\n",
        "print(f\"\\nmin value = {np.min(X_train)}, max value = {np.max(X_train)}\")\n",
        "print(f\"min value normalized = {np.min(X_train_processed)}, max value normalized= {np.max(X_train_processed)}\")\n",
        "\n",
        "#check that padding paddes the right dimention\n",
        "print(f\"\\nX_train.shape = {X_train.shape}\" )\n",
        "print(f\"X_train_processed_padded.shape = {X_train_processed_padded.shape}\")\n"
      ],
      "metadata": {
        "id": "00Q9QjKy7wEZ",
        "outputId": "1236f82f-405f-4dfc-8d8d-baa086c8d404",
        "colab": {
          "base_uri": "https://localhost:8080/"
        }
      },
      "execution_count": 9,
      "outputs": [
        {
          "output_type": "stream",
          "name": "stdout",
          "text": [
            "Data pre-processed, original #timesteps=8, padded #timesteps=8.\n",
            "\n",
            "min value = 0.0, max value = 100.0\n",
            "min value normalized = 0.0, max value normalized= 1.0\n",
            "\n",
            "X_train.shape = (9150, 8, 2)\n",
            "X_train_processed_padded.shape = (9150, 8, 2)\n"
          ]
        }
      ]
    },
    {
      "cell_type": "code",
      "source": [
        "visualise_digit(X_train,y_train,9100)"
      ],
      "metadata": {
        "colab": {
          "base_uri": "https://localhost:8080/",
          "height": 504
        },
        "id": "JCcZ6Uai6huz",
        "outputId": "e7d1d81d-3c06-4c7f-8586-5d0b92dcbad3"
      },
      "execution_count": 10,
      "outputs": [
        {
          "output_type": "stream",
          "name": "stdout",
          "text": [
            "y = 9\n"
          ]
        },
        {
          "output_type": "display_data",
          "data": {
            "text/plain": [
              "<Figure size 500x500 with 1 Axes>"
            ],
            "image/png": "[encoded data removed]"
          },
          "metadata": {}
        }
      ]
    },
    {
      "cell_type": "code",
      "source": [
        "X_train, y_train, X_test, y_test= extract_two_digits(X_train_processed_padded,y_train,X_test_processed_padded,y_test,'0','8',RANDOM_STATE)"
      ],
      "metadata": {
        "colab": {
          "base_uri": "https://localhost:8080/"
        },
        "id": "raRgWg7xpPvO",
        "outputId": "eb023e60-3df1-487b-ba05-3142d21afbbe"
      },
      "execution_count": 11,
      "outputs": [
        {
          "output_type": "stream",
          "name": "stdout",
          "text": [
            "Class 0 represents number 0. [1.,0.]\n",
            "Class 1 represents number 8. [0.,1.]\n"
          ]
        }
      ]
    },
    {
      "cell_type": "code",
      "source": [
        "visualise_digit(X_train,y_train,100)"
      ],
      "metadata": {
        "colab": {
          "base_uri": "https://localhost:8080/",
          "height": 504
        },
        "id": "S5EVZu2e639l",
        "outputId": "0116d9bc-7810-4dd3-8806-88797621b87f"
      },
      "execution_count": 12,
      "outputs": [
        {
          "output_type": "stream",
          "name": "stdout",
          "text": [
            "y = 0\n"
          ]
        },
        {
          "output_type": "display_data",
          "data": {
            "text/plain": [
              "<Figure size 500x500 with 1 Axes>"
            ],
            "image/png": "[encoded data removed]"
          },
          "metadata": {}
        }
      ]
    },
    {
      "cell_type": "code",
      "source": [
        "from sklearn.model_selection import train_test_split\n",
        "X_train,X_validation, y_train, y_validation = train_test_split(X_train, y_train, test_size=0.2, random_state=RANDOM_STATE, stratify=y_train)"
      ],
      "metadata": {
        "id": "1mYFZmsvtB9q"
      },
      "execution_count": 13,
      "outputs": []
    },
    {
      "cell_type": "code",
      "source": [
        "print(f'X_train = {X_train.shape}')\n",
        "print(f'X_validation = {X_validation.shape}')\n",
        "print(f'X_test = {X_test.shape}')\n",
        "\n",
        "y_train_classes = y_train\n",
        "y_validation_classes = y_validation\n",
        "y_test_classes = y_test\n",
        "\n",
        "from tensorflow.keras.utils import to_categorical\n",
        "y_train = to_categorical(y_train, len(np.unique(y_train)))\n",
        "y_validation = to_categorical(y_validation, len(np.unique(y_validation)))\n",
        "y_test = to_categorical(y_test, len(np.unique(y_test)))\n",
        "\n",
        "print(f'\\ny_train_classes = {y_train_classes.shape}, y_validation_classes = {y_validation_classes.shape}, y_test_classes = {y_test_classes.shape}')\n",
        "print(f'y_train = {y_train.shape}, y_validation = {y_validation.shape}, y_test= {y_test.shape}')"
      ],
      "metadata": {
        "colab": {
          "base_uri": "https://localhost:8080/"
        },
        "id": "x9b2F-vytxzU",
        "outputId": "6df2190e-29c1-4039-c903-f30998164ece"
      },
      "execution_count": 14,
      "outputs": [
        {
          "output_type": "stream",
          "name": "stdout",
          "text": [
            "X_train = (1464, 8, 2)\n",
            "X_validation = (366, 8, 2)\n",
            "X_test = (440, 8, 2)\n",
            "\n",
            "y_train_classes = (1464,), y_validation_classes = (366,), y_test_classes = (440,)\n",
            "y_train = (1464, 2), y_validation = (366, 2), y_test= (440, 2)\n"
          ]
        }
      ]
    },
    {
      "cell_type": "code",
      "source": [
        "visualise_digit(X_train,y_train_classes,100)"
      ],
      "metadata": {
        "id": "2p2c44KvJNGv",
        "outputId": "43700d8b-8098-4b13-d9fe-8fc072e6a538",
        "colab": {
          "base_uri": "https://localhost:8080/",
          "height": 504
        }
      },
      "execution_count": 15,
      "outputs": [
        {
          "output_type": "stream",
          "name": "stdout",
          "text": [
            "y = 0\n"
          ]
        },
        {
          "output_type": "display_data",
          "data": {
            "text/plain": [
              "<Figure size 500x500 with 1 Axes>"
            ],
            "image/png": "[encoded data removed]"
          },
          "metadata": {}
        }
      ]
    },
    {
      "cell_type": "code",
      "source": [
        "\n",
        "\n",
        "# ## 2. LatentCF models\n",
        "# reset seeds for numpy, tensorflow, python random package and python environment seed\n",
        "reset_seeds()\n",
        "###############################################\n",
        "# ### 1dCNN classifier\n",
        "\n",
        "cnnClassifier = Classifier(\n",
        "    n_timesteps_padded, n_features, n_output=2, add_dense_layer = False\n",
        ")\n",
        "\n",
        "optimizer = keras.optimizers.Adam(lr=0.001)\n",
        "cnnClassifier.compile(\n",
        "    optimizer=optimizer, loss=\"binary_crossentropy\", metrics=[\"accuracy\"]\n",
        ")\n",
        "\n",
        "# Define the early stopping criteria\n",
        "early_stopping_accuracy = keras.callbacks.EarlyStopping(\n",
        "    monitor=\"val_accuracy\", patience=15, restore_best_weights=True\n",
        ")\n",
        "# Train the model\n",
        "reset_seeds()\n",
        "print(\"Training log for LSTM-FCN classifier:\")\n",
        "classifier_history = cnnClassifier.fit(\n",
        "    X_train,\n",
        "    y_train,\n",
        "    epochs=150,\n",
        "    batch_size=12,\n",
        "    shuffle=True,\n",
        "    verbose=True,\n",
        "    validation_data=(X_validation, y_validation),\n",
        "    callbacks=[early_stopping_accuracy],\n",
        ")\n",
        "\n",
        "y_pred = cnnClassifier.predict(X_test)\n",
        "y_pred_classes = np.argmax(y_pred, axis=1)\n",
        "acc = balanced_accuracy_score(y_true=y_test_classes, y_pred=y_pred_classes)\n",
        "print(f\"LSTM-FCN classifier trained, with validation accuracy {acc}.\")\n",
        "\n",
        "confusion_matrix_df = pd.DataFrame(\n",
        "    confusion_matrix(y_true=y_test_classes, y_pred=y_pred_classes, labels=[1, 0]),\n",
        "    index=[\"True:8\", \"True:0\"],\n",
        "    columns=[\"Pred:8\", \"Pred:0\"],\n",
        ")\n",
        "print(confusion_matrix_df)\n"
      ],
      "metadata": {
        "id": "yNkKTXe6IIyF",
        "outputId": "f2500c8e-38d3-4ac8-a639-b6543f44c0bf",
        "colab": {
          "base_uri": "https://localhost:8080/"
        }
      },
      "execution_count": 16,
      "outputs": [
        {
          "output_type": "stream",
          "name": "stderr",
          "text": [
            "WARNING:absl:`lr` is deprecated in Keras optimizer, please use `learning_rate` or use the legacy optimizer, e.g.,tf.keras.optimizers.legacy.Adam.\n"
          ]
        },
        {
          "output_type": "stream",
          "name": "stdout",
          "text": [
            "Training log for LSTM-FCN classifier:\n",
            "Epoch 1/150\n",
            "122/122 [==============================] - 20s 14ms/step - loss: 0.2667 - accuracy: 0.9351 - val_loss: 0.5367 - val_accuracy: 0.9672\n",
            "Epoch 2/150\n",
            "122/122 [==============================] - 1s 6ms/step - loss: 0.1068 - accuracy: 0.9843 - val_loss: 0.3414 - val_accuracy: 0.9809\n",
            "Epoch 3/150\n",
            "122/122 [==============================] - 1s 8ms/step - loss: 0.0813 - accuracy: 0.9945 - val_loss: 0.1930 - val_accuracy: 0.9973\n",
            "Epoch 4/150\n",
            "122/122 [==============================] - 1s 10ms/step - loss: 0.0698 - accuracy: 0.9952 - val_loss: 0.0992 - val_accuracy: 0.9973\n",
            "Epoch 5/150\n",
            "122/122 [==============================] - 0s 4ms/step - loss: 0.0625 - accuracy: 0.9959 - val_loss: 0.0692 - val_accuracy: 0.9973\n",
            "Epoch 6/150\n",
            "122/122 [==============================] - 1s 5ms/step - loss: 0.0542 - accuracy: 0.9986 - val_loss: 0.0574 - val_accuracy: 0.9973\n",
            "Epoch 7/150\n",
            "122/122 [==============================] - 0s 4ms/step - loss: 0.0500 - accuracy: 1.0000 - val_loss: 0.0513 - val_accuracy: 0.9973\n",
            "Epoch 8/150\n",
            "122/122 [==============================] - 0s 4ms/step - loss: 0.0458 - accuracy: 1.0000 - val_loss: 0.0475 - val_accuracy: 0.9973\n",
            "Epoch 9/150\n",
            "122/122 [==============================] - 1s 4ms/step - loss: 0.0437 - accuracy: 0.9993 - val_loss: 0.0451 - val_accuracy: 0.9973\n",
            "Epoch 10/150\n",
            "122/122 [==============================] - 0s 4ms/step - loss: 0.0395 - accuracy: 1.0000 - val_loss: 0.0432 - val_accuracy: 0.9973\n",
            "Epoch 11/150\n",
            "122/122 [==============================] - 1s 5ms/step - loss: 0.0373 - accuracy: 1.0000 - val_loss: 0.0404 - val_accuracy: 0.9973\n",
            "Epoch 12/150\n",
            "122/122 [==============================] - 1s 5ms/step - loss: 0.0351 - accuracy: 1.0000 - val_loss: 0.0385 - val_accuracy: 0.9973\n",
            "Epoch 13/150\n",
            "122/122 [==============================] - 1s 6ms/step - loss: 0.0338 - accuracy: 1.0000 - val_loss: 0.0376 - val_accuracy: 0.9973\n",
            "Epoch 14/150\n",
            "122/122 [==============================] - 1s 5ms/step - loss: 0.0323 - accuracy: 1.0000 - val_loss: 0.0357 - val_accuracy: 0.9973\n",
            "Epoch 15/150\n",
            "122/122 [==============================] - 1s 5ms/step - loss: 0.0317 - accuracy: 0.9993 - val_loss: 0.0349 - val_accuracy: 0.9973\n",
            "Epoch 16/150\n",
            "122/122 [==============================] - 1s 5ms/step - loss: 0.0309 - accuracy: 1.0000 - val_loss: 0.0367 - val_accuracy: 0.9973\n",
            "Epoch 17/150\n",
            "122/122 [==============================] - 1s 6ms/step - loss: 0.0289 - accuracy: 1.0000 - val_loss: 0.0326 - val_accuracy: 0.9973\n",
            "Epoch 18/150\n",
            "122/122 [==============================] - 0s 4ms/step - loss: 0.0289 - accuracy: 1.0000 - val_loss: 0.0329 - val_accuracy: 0.9973\n",
            "14/14 [==============================] - 0s 2ms/step\n",
            "LSTM-FCN classifier trained, with validation accuracy 0.9861545147871438.\n",
            "        Pred:8  Pred:0\n",
            "True:8     207       4\n",
            "True:0       2     227\n"
          ]
        }
      ]
    },
    {
      "cell_type": "code",
      "source": [
        "reset_seeds()\n",
        "\n",
        "\n",
        "# ### 1dCNN autoencoder\n",
        "autoencoder = Autoencoder( n_timesteps_padded,n_features,32)\n",
        "optimizer = keras.optimizers.Adam(lr=0.0005)\n",
        "autoencoder.compile(optimizer=optimizer, loss=\"mse\")\n",
        "\n",
        "# Define the early stopping criteria\n",
        "early_stopping = keras.callbacks.EarlyStopping(monitor='val_loss', min_delta=0.0001, patience=5, restore_best_weights=True)\n",
        "# Train the model\n",
        "reset_seeds()\n",
        "print(\"Training log for 1dCNN autoencoder:\")\n",
        "autoencoder_history = autoencoder.fit(\n",
        "    X_train,\n",
        "    X_train,\n",
        "    epochs=50,\n",
        "    batch_size=12,\n",
        "    shuffle=True,\n",
        "    verbose=2,\n",
        "    validation_data=(X_validation, X_validation),\n",
        "    callbacks=[early_stopping])\n",
        "\n",
        "ae_val_loss = np.min(autoencoder_history.history['val_loss'])\n",
        "print(f\"1dCNN autoencoder trained, with validation loss: {ae_val_loss}.\")\n"
      ],
      "metadata": {
        "id": "E6IxH8BLEKFG",
        "outputId": "fe27abdc-b75a-49a1-84a7-6d2742df0b20",
        "colab": {
          "base_uri": "https://localhost:8080/"
        }
      },
      "execution_count": 17,
      "outputs": [
        {
          "output_type": "stream",
          "name": "stderr",
          "text": [
            "WARNING:absl:`lr` is deprecated in Keras optimizer, please use `learning_rate` or use the legacy optimizer, e.g.,tf.keras.optimizers.legacy.Adam.\n"
          ]
        },
        {
          "output_type": "stream",
          "name": "stdout",
          "text": [
            "(None, 8, 2)\n",
            "(None, 8, 32)\n",
            "(None, 4, 32)\n",
            "(None, 4, 16)\n",
            "(None, 2, 16)\n",
            "(None, 2, 16)\n",
            "(None, 4, 16)\n",
            "(None, 4, 32)\n",
            "(None, 8, 32)\n",
            "(None, 8, 2)\n",
            "Training log for 1dCNN autoencoder:\n",
            "Epoch 1/50\n",
            "122/122 - 2s - loss: 0.1447 - val_loss: 0.0482 - 2s/epoch - 20ms/step\n",
            "Epoch 2/50\n",
            "122/122 - 1s - loss: 0.0321 - val_loss: 0.0222 - 607ms/epoch - 5ms/step\n",
            "Epoch 3/50\n",
            "122/122 - 0s - loss: 0.0175 - val_loss: 0.0143 - 496ms/epoch - 4ms/step\n",
            "Epoch 4/50\n",
            "122/122 - 1s - loss: 0.0123 - val_loss: 0.0104 - 585ms/epoch - 5ms/step\n",
            "Epoch 5/50\n",
            "122/122 - 1s - loss: 0.0091 - val_loss: 0.0080 - 501ms/epoch - 4ms/step\n",
            "Epoch 6/50\n",
            "122/122 - 0s - loss: 0.0075 - val_loss: 0.0065 - 496ms/epoch - 4ms/step\n",
            "Epoch 7/50\n",
            "122/122 - 1s - loss: 0.0063 - val_loss: 0.0058 - 508ms/epoch - 4ms/step\n",
            "Epoch 8/50\n",
            "122/122 - 1s - loss: 0.0055 - val_loss: 0.0050 - 513ms/epoch - 4ms/step\n",
            "Epoch 9/50\n",
            "122/122 - 0s - loss: 0.0049 - val_loss: 0.0048 - 496ms/epoch - 4ms/step\n",
            "Epoch 10/50\n",
            "122/122 - 1s - loss: 0.0045 - val_loss: 0.0043 - 585ms/epoch - 5ms/step\n",
            "Epoch 11/50\n",
            "122/122 - 1s - loss: 0.0041 - val_loss: 0.0042 - 502ms/epoch - 4ms/step\n",
            "Epoch 12/50\n",
            "122/122 - 1s - loss: 0.0038 - val_loss: 0.0039 - 574ms/epoch - 5ms/step\n",
            "Epoch 13/50\n",
            "122/122 - 1s - loss: 0.0035 - val_loss: 0.0035 - 576ms/epoch - 5ms/step\n",
            "Epoch 14/50\n",
            "122/122 - 1s - loss: 0.0033 - val_loss: 0.0034 - 655ms/epoch - 5ms/step\n",
            "Epoch 15/50\n",
            "122/122 - 1s - loss: 0.0031 - val_loss: 0.0033 - 727ms/epoch - 6ms/step\n",
            "Epoch 16/50\n",
            "122/122 - 1s - loss: 0.0030 - val_loss: 0.0030 - 724ms/epoch - 6ms/step\n",
            "Epoch 17/50\n",
            "122/122 - 1s - loss: 0.0028 - val_loss: 0.0030 - 726ms/epoch - 6ms/step\n",
            "Epoch 18/50\n",
            "122/122 - 1s - loss: 0.0027 - val_loss: 0.0028 - 771ms/epoch - 6ms/step\n",
            "Epoch 19/50\n",
            "122/122 - 1s - loss: 0.0025 - val_loss: 0.0030 - 653ms/epoch - 5ms/step\n",
            "Epoch 20/50\n",
            "122/122 - 0s - loss: 0.0026 - val_loss: 0.0027 - 491ms/epoch - 4ms/step\n",
            "Epoch 21/50\n",
            "122/122 - 1s - loss: 0.0024 - val_loss: 0.0025 - 513ms/epoch - 4ms/step\n",
            "Epoch 22/50\n",
            "122/122 - 0s - loss: 0.0022 - val_loss: 0.0023 - 499ms/epoch - 4ms/step\n",
            "Epoch 23/50\n",
            "122/122 - 0s - loss: 0.0022 - val_loss: 0.0024 - 492ms/epoch - 4ms/step\n",
            "Epoch 24/50\n",
            "122/122 - 0s - loss: 0.0021 - val_loss: 0.0025 - 497ms/epoch - 4ms/step\n",
            "Epoch 25/50\n",
            "122/122 - 1s - loss: 0.0021 - val_loss: 0.0020 - 595ms/epoch - 5ms/step\n",
            "Epoch 26/50\n",
            "122/122 - 0s - loss: 0.0019 - val_loss: 0.0020 - 490ms/epoch - 4ms/step\n",
            "Epoch 27/50\n",
            "122/122 - 1s - loss: 0.0018 - val_loss: 0.0020 - 511ms/epoch - 4ms/step\n",
            "Epoch 28/50\n",
            "122/122 - 0s - loss: 0.0018 - val_loss: 0.0019 - 491ms/epoch - 4ms/step\n",
            "Epoch 29/50\n",
            "122/122 - 0s - loss: 0.0017 - val_loss: 0.0018 - 498ms/epoch - 4ms/step\n",
            "Epoch 30/50\n",
            "122/122 - 1s - loss: 0.0016 - val_loss: 0.0018 - 507ms/epoch - 4ms/step\n",
            "Epoch 31/50\n",
            "122/122 - 1s - loss: 0.0016 - val_loss: 0.0018 - 606ms/epoch - 5ms/step\n",
            "Epoch 32/50\n",
            "122/122 - 1s - loss: 0.0015 - val_loss: 0.0017 - 505ms/epoch - 4ms/step\n",
            "Epoch 33/50\n",
            "122/122 - 0s - loss: 0.0015 - val_loss: 0.0017 - 499ms/epoch - 4ms/step\n",
            "Epoch 34/50\n",
            "122/122 - 1s - loss: 0.0014 - val_loss: 0.0016 - 519ms/epoch - 4ms/step\n",
            "Epoch 35/50\n",
            "122/122 - 1s - loss: 0.0014 - val_loss: 0.0014 - 580ms/epoch - 5ms/step\n",
            "Epoch 36/50\n",
            "122/122 - 1s - loss: 0.0014 - val_loss: 0.0014 - 563ms/epoch - 5ms/step\n",
            "Epoch 37/50\n",
            "122/122 - 1s - loss: 0.0013 - val_loss: 0.0014 - 509ms/epoch - 4ms/step\n",
            "Epoch 38/50\n",
            "122/122 - 1s - loss: 0.0013 - val_loss: 0.0013 - 558ms/epoch - 5ms/step\n",
            "Epoch 39/50\n",
            "122/122 - 1s - loss: 0.0012 - val_loss: 0.0014 - 667ms/epoch - 5ms/step\n",
            "Epoch 40/50\n",
            "122/122 - 1s - loss: 0.0012 - val_loss: 0.0014 - 669ms/epoch - 5ms/step\n",
            "Epoch 41/50\n",
            "122/122 - 1s - loss: 0.0012 - val_loss: 0.0014 - 731ms/epoch - 6ms/step\n",
            "Epoch 42/50\n",
            "122/122 - 1s - loss: 0.0012 - val_loss: 0.0012 - 657ms/epoch - 5ms/step\n",
            "Epoch 43/50\n",
            "122/122 - 1s - loss: 0.0011 - val_loss: 0.0012 - 711ms/epoch - 6ms/step\n",
            "Epoch 44/50\n",
            "122/122 - 1s - loss: 0.0011 - val_loss: 0.0011 - 651ms/epoch - 5ms/step\n",
            "Epoch 45/50\n",
            "122/122 - 1s - loss: 0.0011 - val_loss: 0.0013 - 507ms/epoch - 4ms/step\n",
            "Epoch 46/50\n",
            "122/122 - 1s - loss: 0.0010 - val_loss: 0.0012 - 576ms/epoch - 5ms/step\n",
            "Epoch 47/50\n",
            "122/122 - 0s - loss: 0.0011 - val_loss: 0.0012 - 496ms/epoch - 4ms/step\n",
            "Epoch 48/50\n",
            "122/122 - 1s - loss: 0.0010 - val_loss: 0.0012 - 520ms/epoch - 4ms/step\n",
            "1dCNN autoencoder trained, with validation loss: 0.0011482418049126863.\n"
          ]
        }
      ]
    },
    {
      "cell_type": "code",
      "source": [
        "idx = 0\n",
        "sample = X_test[idx:idx+1]\n",
        "sample_label = y_test[idx:idx+1]\n",
        "autoencoded_sample = autoencoder.predict(sample)\n",
        "visualise_decoded_digit(autoencoded_sample,sample_label)\n",
        "visualise_digit(X_test,y_test,idx)"
      ],
      "metadata": {
        "id": "KGldOuWp06wB",
        "outputId": "480dff0f-8fd5-49c1-d6a3-d1617f0d3471",
        "colab": {
          "base_uri": "https://localhost:8080/",
          "height": 1000
        }
      },
      "execution_count": 18,
      "outputs": [
        {
          "output_type": "stream",
          "name": "stdout",
          "text": [
            "1/1 [==============================] - 0s 119ms/step\n",
            "y = [[0. 1.]]\n"
          ]
        },
        {
          "output_type": "display_data",
          "data": {
            "text/plain": [
              "<Figure size 500x500 with 1 Axes>"
            ],
            "image/png": "[encoded data removed]"
          },
          "metadata": {}
        },
        {
          "output_type": "stream",
          "name": "stdout",
          "text": [
            "y = [0. 1.]\n"
          ]
        },
        {
          "output_type": "display_data",
          "data": {
            "text/plain": [
              "<Figure size 500x500 with 1 Axes>"
            ],
            "image/png": "[encoded data removed]"
          },
          "metadata": {}
        }
      ]
    },
    {
      "cell_type": "code",
      "source": [
        "from _guided import get_global_weights\n",
        "PRED_MARGIN_W_LIST = [1]\n",
        "from help_functions import evaluate\n",
        "w_type = \"global\"\n",
        "pos_label = 1\n",
        "neg_label = 0\n",
        "\n",
        "if w_type == \"global\":\n",
        "    step_weights = get_global_weights(\n",
        "        X_train,\n",
        "        y_train_classes,\n",
        "        cnnClassifier,\n",
        "        n_timesteps= n_timesteps,\n",
        "        n_features=n_features,\n",
        "        random_state=RANDOM_STATE,\n",
        "    )\n",
        "elif w_type == \"uniform\":\n",
        "    step_weights = np.ones((1, n_timesteps_padded, n_features))\n",
        "elif w_type.lower() == \"local\":\n",
        "    step_weights = \"local\"\n",
        "else:\n",
        "    raise NotImplementedError(\n",
        "        \"A.w_type not implemented, please choose 'local', 'global' or 'uniform'.\"\n",
        "    )\n",
        "### Evaluation metrics\n",
        "for pred_margin_weight in PRED_MARGIN_W_LIST:\n",
        "    print(f\"The current prediction margin weight is {pred_margin_weight}.\")\n",
        "\n",
        "    # get the negative predictions, which is class abnormal (0); (normal is class 1)\n",
        "    X_pred_neg = X_test[y_pred_classes == neg_label][20:30]\n",
        "    y_pred_neg = y_pred_classes[y_pred_classes==neg_label][10:20]\n",
        "    lr_list = [0.001]\n"
      ],
      "metadata": {
        "id": "hysd9dxSsx9h",
        "outputId": "fa984e22-ce19-4ebd-b65c-20e281ef5e1e",
        "colab": {
          "base_uri": "https://localhost:8080/"
        }
      },
      "execution_count": 19,
      "outputs": [
        {
          "output_type": "stream",
          "name": "stdout",
          "text": [
            "46/46 [==============================] - 0s 2ms/step\n",
            "46/46 [==============================] - 0s 2ms/step\n",
            "46/46 [==============================] - 0s 2ms/step\n",
            "46/46 [==============================] - 0s 2ms/step\n",
            "46/46 [==============================] - 0s 2ms/step\n",
            "46/46 [==============================] - 0s 2ms/step\n",
            "46/46 [==============================] - 0s 2ms/step\n",
            "46/46 [==============================] - 0s 2ms/step\n",
            "46/46 [==============================] - 0s 2ms/step\n",
            "46/46 [==============================] - 0s 2ms/step\n",
            "46/46 [==============================] - 0s 2ms/step\n",
            "46/46 [==============================] - 0s 2ms/step\n",
            "46/46 [==============================] - 0s 2ms/step\n",
            "46/46 [==============================] - 0s 2ms/step\n",
            "46/46 [==============================] - 0s 2ms/step\n",
            "46/46 [==============================] - 0s 2ms/step\n",
            "46/46 [==============================] - 0s 2ms/step\n",
            "46/46 [==============================] - 0s 2ms/step\n",
            "46/46 [==============================] - 0s 2ms/step\n",
            "46/46 [==============================] - 0s 2ms/step\n",
            "46/46 [==============================] - 0s 2ms/step\n",
            "46/46 [==============================] - 0s 2ms/step\n",
            "46/46 [==============================] - 0s 2ms/step\n",
            "46/46 [==============================] - 0s 2ms/step\n",
            "46/46 [==============================] - 0s 2ms/step\n",
            "46/46 [==============================] - 0s 2ms/step\n",
            "46/46 [==============================] - 0s 2ms/step\n",
            "46/46 [==============================] - 0s 2ms/step\n",
            "46/46 [==============================] - 0s 2ms/step\n",
            "46/46 [==============================] - 0s 2ms/step\n",
            "46/46 [==============================] - 0s 2ms/step\n",
            "46/46 [==============================] - 0s 2ms/step\n",
            "46/46 [==============================] - 0s 2ms/step\n",
            "46/46 [==============================] - 0s 2ms/step\n",
            "46/46 [==============================] - 0s 2ms/step\n",
            "46/46 [==============================] - 0s 2ms/step\n",
            "46/46 [==============================] - 0s 2ms/step\n",
            "46/46 [==============================] - 0s 2ms/step\n",
            "46/46 [==============================] - 0s 2ms/step\n",
            "46/46 [==============================] - 0s 2ms/step\n",
            "46/46 [==============================] - 0s 2ms/step\n",
            "46/46 [==============================] - 0s 2ms/step\n",
            "46/46 [==============================] - 0s 2ms/step\n",
            "46/46 [==============================] - 0s 3ms/step\n",
            "46/46 [==============================] - 0s 3ms/step\n",
            "46/46 [==============================] - 0s 3ms/step\n",
            "46/46 [==============================] - 0s 2ms/step\n",
            "46/46 [==============================] - 0s 3ms/step\n",
            "46/46 [==============================] - 0s 3ms/step\n",
            "46/46 [==============================] - 0s 3ms/step\n",
            "46/46 [==============================] - 0s 2ms/step\n",
            "46/46 [==============================] - 0s 3ms/step\n",
            "46/46 [==============================] - 0s 3ms/step\n",
            "46/46 [==============================] - 0s 3ms/step\n",
            "46/46 [==============================] - 0s 3ms/step\n",
            "46/46 [==============================] - 0s 3ms/step\n",
            "46/46 [==============================] - 0s 2ms/step\n",
            "46/46 [==============================] - 0s 2ms/step\n",
            "46/46 [==============================] - 0s 2ms/step\n",
            "46/46 [==============================] - 0s 2ms/step\n",
            "46/46 [==============================] - 0s 2ms/step\n",
            "46/46 [==============================] - 0s 2ms/step\n",
            "46/46 [==============================] - 0s 2ms/step\n",
            "46/46 [==============================] - 0s 2ms/step\n",
            "46/46 [==============================] - 0s 2ms/step\n",
            "46/46 [==============================] - 0s 2ms/step\n",
            "46/46 [==============================] - 0s 2ms/step\n",
            "46/46 [==============================] - 0s 2ms/step\n",
            "46/46 [==============================] - 0s 2ms/step\n",
            "46/46 [==============================] - 0s 2ms/step\n",
            "46/46 [==============================] - 0s 2ms/step\n",
            "46/46 [==============================] - 0s 2ms/step\n",
            "46/46 [==============================] - 0s 2ms/step\n",
            "46/46 [==============================] - 0s 2ms/step\n",
            "46/46 [==============================] - 0s 2ms/step\n",
            "46/46 [==============================] - 0s 2ms/step\n",
            "46/46 [==============================] - 0s 2ms/step\n",
            "46/46 [==============================] - 0s 2ms/step\n",
            "46/46 [==============================] - 0s 2ms/step\n",
            "46/46 [==============================] - 0s 2ms/step\n",
            "46/46 [==============================] - 0s 2ms/step\n",
            "The current prediction margin weight is 1.\n"
          ]
        }
      ]
    },
    {
      "cell_type": "code",
      "source": [
        "step_weights_x = step_weights[:,:,0]\n",
        "step_weights_y = step_weights[:,:,1]\n",
        "for idx in range(step_weights_x.shape[1]):\n",
        "  if step_weights_x[:,idx] == 0:\n",
        "    step_weights_x[:,idx] = 1\n",
        "  elif step_weights_x[:,idx] == 1:\n",
        "    step_weights_x[:,idx] = 0\n",
        "\n",
        "for idx in range(step_weights_y.shape[1]):\n",
        "  if step_weights_y[:,idx] == 0:\n",
        "    step_weights_y[:,idx] = 1\n",
        "  elif step_weights_y[:,idx] == 1:\n",
        "    step_weights_y[:,idx] = 0\n"
      ],
      "metadata": {
        "id": "56wx0EJTaTak"
      },
      "execution_count": 20,
      "outputs": []
    },
    {
      "cell_type": "code",
      "source": [
        "step_weights_x = np.transpose(step_weights_x, (1,0))\n",
        "step_weights_y = np.transpose(step_weights_y, (1,0))"
      ],
      "metadata": {
        "id": "m9IMcymgrd0D"
      },
      "execution_count": 21,
      "outputs": []
    },
    {
      "cell_type": "code",
      "source": [
        "print(step_weights_x.shape)"
      ],
      "metadata": {
        "colab": {
          "base_uri": "https://localhost:8080/"
        },
        "id": "uLXyGLA41QXn",
        "outputId": "df950086-bdb0-4de8-bd0e-53f50498e81c"
      },
      "execution_count": 22,
      "outputs": [
        {
          "output_type": "stream",
          "name": "stdout",
          "text": [
            "(8, 1)\n"
          ]
        }
      ]
    },
    {
      "cell_type": "code",
      "source": [
        "# @title Default title text\n",
        "import warnings\n",
        "\n",
        "import numpy as np\n",
        "import tensorflow as tf\n",
        "from tensorflow import keras\n",
        "\n",
        "from wildboar.explain import IntervalImportance\n",
        "#from LIMESegment.Utils.explanations import LIMESegment\n",
        "\n",
        "\n",
        "class ModifiedLatentCF:\n",
        "    \"\"\"Explanations by generating a counterfacutal sample in the latent space of\n",
        "    any autoencoder.\n",
        "\n",
        "    References\n",
        "    ----------\n",
        "    Learning Time Series Counterfactuals via Latent Space Representations,\n",
        "    Wang, Z., Samsten, I., Mochaourab, R., Papapetrou, P., 2021.\n",
        "    in: International Conference on Discovery Science, pp. 369–384. https://doi.org/10.1007/978-3-030-88942-5_29\n",
        "    \"\"\"\n",
        "\n",
        "    def __init__(\n",
        "        self,\n",
        "        probability=0.5,\n",
        "        *,\n",
        "        tolerance=1e-6,\n",
        "        max_iter=100,\n",
        "        optimizer=None,\n",
        "        autoencoder=None,\n",
        "        margin_weight=1.0,  # weighted_steps_weight = 1 - pred_margin_weight\n",
        "        random_state=None,\n",
        "        kde_x = None,\n",
        "        kde_y = None,\n",
        "        step_weights_x ,\n",
        "        step_weights_y ,\n",
        "        #mean of loh likelihood of all the data on x and y axis seperetly\n",
        "        mean_log_likelihood_ofData_x,\n",
        "        mean_log_likelihood_ofData_y\n",
        "    ):\n",
        "        self.optimizer_ = (\n",
        "            tf.optimizers.Adam(learning_rate=1e-4) if optimizer is None else optimizer\n",
        "        )\n",
        "        self.mse_loss_ = keras.losses.MeanSquaredError()\n",
        "        self.probability_ = tf.constant([probability])\n",
        "        self.tolerance_ = tf.constant(tolerance)\n",
        "        self.max_iter = max_iter\n",
        "        self.autoencoder = autoencoder\n",
        "        self.random_state = random_state\n",
        "\n",
        "        # Weights of the different loss components\n",
        "        self.margin_weight = margin_weight\n",
        "        self.kde_weight = 1 - self.margin_weight\n",
        "\n",
        "        #step_weights\n",
        "        self.step_weights_x = step_weights_x\n",
        "        self.step_weights_y = step_weights_y\n",
        "\n",
        "        #kde related parameters\n",
        "        self.kde_x = kde_x\n",
        "        self.kde_y = kde_y\n",
        "        self.mean_log_likelihood_ofData_x = mean_log_likelihood_ofData_x\n",
        "        self.mean_log_likelihood_ofData_y = mean_log_likelihood_ofData_y\n",
        "\n",
        "    def fit(self, model):\n",
        "        \"\"\"Fit a new counterfactual explainer to the model\n",
        "\n",
        "        Paramaters\n",
        "        ----------\n",
        "\n",
        "        model : keras.Model\n",
        "            The model\n",
        "        \"\"\"\n",
        "        if self.autoencoder:\n",
        "            (\n",
        "                encode_input,\n",
        "                encode_output,\n",
        "                decode_input,\n",
        "                decode_output,\n",
        "            ) = extract_encoder_decoder(self.autoencoder)\n",
        "            self.decoder_ = keras.Model(inputs=decode_input, outputs=decode_output)\n",
        "            self.encoder_ = keras.Model(inputs=encode_input, outputs=encode_output)\n",
        "        else:\n",
        "            self.decoder_ = None\n",
        "            self.encoder_ = None\n",
        "        self.model_ = model\n",
        "        return self\n",
        "\n",
        "    def predict(self, x):\n",
        "        \"\"\"Compute the difference between the desired and actual probability\n",
        "\n",
        "        Parameters\n",
        "        ---------\n",
        "        x : Variable\n",
        "            Variable of the sample\n",
        "        \"\"\"\n",
        "        if self.autoencoder is None:\n",
        "            z = x\n",
        "        else:\n",
        "            z = self.decoder_(x)\n",
        "\n",
        "        return self.model_(z)\n",
        "\n",
        "    # The \"pred_margin_loss\" is designed to measure the prediction probability to the desired decision boundary\n",
        "    def pred_margin_mse(self, prediction):\n",
        "        return self.mse_loss_(self.probability_, prediction)\n",
        "\n",
        "    # An auxiliary MAE loss function to measure the proximity with step_weights\n",
        "    def weighted_mae(self, original_sample, cf_sample, step_weights):\n",
        "        return tf.math.reduce_mean(\n",
        "            tf.math.multiply(tf.math.abs(original_sample - cf_sample), step_weights)\n",
        "        )\n",
        "\n",
        "    # An auxiliary normalized L2 loss function to measure the proximity with step_weights\n",
        "    def weighted_normalized_l2(self, original_sample, cf_sample, step_weights):\n",
        "        var_diff = tf.math.reduce_variance(original_sample - cf_sample)\n",
        "        var_orig = tf.math.reduce_variance(original_sample)\n",
        "        var_cf = tf.math.reduce_variance(cf_sample)\n",
        "\n",
        "        normalized_l2 = 0.5 * var_diff / (var_orig + var_cf)\n",
        "        return tf.math.reduce_mean(\n",
        "            tf.math.multiply(\n",
        "                normalized_l2,\n",
        "                step_weights,\n",
        "            )\n",
        "        )\n",
        "\n",
        "    def train_gaussian_kde(data,use_scotts_rule=False,use_silvermans_rule=False, manual_bandwidth = None):\n",
        "    \"\"\"\n",
        "    Train a Gaussian KDE on the provided data.\n",
        "\n",
        "    :param data: Multivariate data points used for KDE (2D Tensor).\n",
        "    :param bandwidth: The bandwidth of the kernel (float).\n",
        "    :return: A function that represents the trained KDE.\n",
        "    \"\"\"\n",
        "    n = tf.cast(tf.shape(data)[0], tf.float64)\n",
        "    d = tf.cast(tf.shape(data)[1], tf.float64)\n",
        "\n",
        "    def kde_fn(x_points):\n",
        "        \"\"\"\n",
        "        Compute the density estimation for given points using the trained KDE.\n",
        "\n",
        "        :param x_points: Points where the density should be estimated (2D Tensor).\n",
        "        :return: Density estimates (Tensor).\n",
        "        \"\"\"\n",
        "        d = tf.cast(tf.shape(data)[1], tf.float64)\n",
        "        data_exp =  tf.expand_dims(data, axis=0)\n",
        "        print(f'data dimentions = {data_exp.shape}')\n",
        "        x_points_exp = tf.reshape(x_points, (tf.shape(x_points)[0], 8, 1))\n",
        "        x_points_exp = tf.expand_dims(x_points_exp, axis=1)\n",
        "        print(f'x_points dimentions = {x_points_exp.shape}')\n",
        "\n",
        "        if use_scotts_rule:\n",
        "          sigma = tf.math.reduce_std(data)\n",
        "          bandwidth = n ** (-1.0 / (d + 4)) * sigma\n",
        "        elif use_silvermans_rule:\n",
        "          sigma = tf.math.reduce_std(data)\n",
        "          bandwidth = (4 * sigma**5 / (3 * n)) ** (1/5)\n",
        "        else:\n",
        "          if manual_bandwidth is None:\n",
        "            raise ValueError(\"Manual bandwidth must be provided if not using Scott's Rule.\")\n",
        "          bandwidth = manual_bandwidth\n",
        "        bandwidth = tf.cast(bandwidth, dtype=tf.float64)\n",
        "        diff = x_points_exp - data_exp\n",
        "        norm = tf.reduce_sum(diff ** 2, axis=2)\n",
        "        kernel_val = tf.exp(-norm / (2.0 * bandwidth ** 2))\n",
        "\n",
        "\n",
        "        d = tf.constant(d,tf.float64)\n",
        "        density = tf.reduce_mean(kernel_val, axis=1) / (bandwidth * tf.sqrt(2.0 * np.pi * d))\n",
        "        return density\n",
        "\n",
        "    return kde_fn\n",
        "\n",
        "    def gaussian_kde_logpdf(kde_fn, x_points):\n",
        "      \"\"\"\n",
        "      Evaluate the logpdf of the given points using the trained KDE function.\n",
        "\n",
        "      :param kde_fn: Trained KDE function.\n",
        "      :param x_points: Points to evaluate the logpdf (2D Tensor).\n",
        "      :return: Log of the density estimates (Tensor).\n",
        "      \"\"\"\n",
        "      density = kde_fn(x_points)\n",
        "      return tf.math.log(density)\n",
        "\n",
        "\n",
        "    # additional input of step_weights\n",
        "    def compute_loss(self, z_search, mean_log_likelihood_ofData_x, mean_log_likelihood_ofData_y, target_label):\n",
        "        loss = tf.zeros(shape=())\n",
        "        decoded = self.decoder_(z_search) if self.autoencoder is not None else z_search\n",
        "        pred = self.model_(decoded)[:, target_label]\n",
        "\n",
        "        #margin loss (y-τ)\n",
        "        margin_loss = self.pred_margin_mse(pred)\n",
        "        loss += self.margin_weight * margin_loss\n",
        "\n",
        "        #The likelihood of the distribution beeing neer to the mean of the distributions of the known data (mean.likelihood(d) - likelihood(sample))\n",
        "\n",
        "        log_likelihood_ofSample_x = float(self.gaussian_kde_logpdf(self.kde_x, decoded_x*self.step_weights_x))\n",
        "        log_likelihood_ofSample_y = float(self.gaussian_kde_logpdf(self.kde_y, decoded_y*self.step_weights_y))\n",
        "        kde_loss = (mean_log_likelihood_ofData_x - log_likelihood_ofSample_x) +  ((mean_log_likelihood_ofData_y - log_likelihood_ofSample_y))\n",
        "        loss +=self.kde_weight *kde_loss\n",
        "\n",
        "\n",
        "        return loss, margin_loss, kde_loss\n",
        "\n",
        "    # TODO: compatible with the counterfactuals of wildboar\n",
        "    #       i.e., define the desired output target per label\n",
        "\n",
        "\n",
        "    def transform(self, x, pred_labels):\n",
        "        \"\"\"Generate counterfactual explanations\n",
        "\n",
        "        x : array-like of shape [n_samples, n_timestep, n_dims]\n",
        "            The samples\n",
        "        \"\"\"\n",
        "\n",
        "        result_samples = np.empty(x.shape)\n",
        "        losses = np.empty(x.shape[0])\n",
        "        # `weights_all` needed for debugging\n",
        "        weights_all = np.empty((x.shape[0], 1, x.shape[1], x.shape[2]))\n",
        "\n",
        "        for i in range(x.shape[0]):\n",
        "            print(f\"sample {i+1} is beeing transformed.\")\n",
        "\n",
        "            x_sample, loss = self._transform_sample(\n",
        "                x[np.newaxis, i], step_weights, pred_labels[i]\n",
        "            )\n",
        "\n",
        "            result_samples[i] = x_sample\n",
        "            losses[i] = loss\n",
        "            weights_all[i] = step_weights\n",
        "\n",
        "        print(f\"{i+1} samples been transformed, in total.\")\n",
        "\n",
        "        return result_samples, losses, weights_all\n",
        "\n",
        "    def _transform_sample(self, x, step_weights_x, step_weights_y, pred_label):\n",
        "        \"\"\"Generate counterfactual explanations(z))\"\"\"\n",
        "        # TODO: check_is_fitted(self)\n",
        "        if self.autoencoder is not None:\n",
        "            z = tf.Variable(self.encoder_(x))\n",
        "        else:\n",
        "            z = tf.Variable(x, dtype=tf.float32)\n",
        "\n",
        "        it = 0\n",
        "        target_label = 1 - pred_label  # for binary classification\n",
        "\n",
        "\n",
        "        with tf.GradientTape(persistent=True) as tape:\n",
        "            loss, pred_margin_loss, weighted_steps_loss = self.compute_loss(\n",
        "                x, z, step_weights, target_label\n",
        "            )\n",
        "        if self.autoencoder is not None:\n",
        "            pred = self.model_(self.decoder_(z))\n",
        "        else:\n",
        "            pred = self.model_(z)\n",
        "\n",
        "        # # uncomment for debug\n",
        "        # print(\n",
        "        #     f\"current loss: {loss}, pred_margin_loss: {pred_margin_loss}, weighted_steps_loss: {weighted_steps_loss}, pred prob:{pred}, iter: {it}.\"\n",
        "        # )\n",
        "\n",
        "        # TODO: modify the loss to check both validity and proximity; how to design the condition here?\n",
        "        # while (pred_margin_loss > self.tolerance_ or pred[:, 1] < self.probability_ or weighted_steps_loss > self.step_tolerance_)?\n",
        "        # loss > tf.multiply(self.tolerance_rate_, loss_original)\n",
        "\n",
        "\n",
        "        while (\n",
        "            (pred_margin_loss > self.tolerance_\n",
        "            or pred[:, target_label] < self.probability_)\n",
        "            and (it < self.max_iter if self.max_iter else True)\n",
        "            ) :\n",
        "            # Get gradients of loss wrt the sample\n",
        "            grads = tape.gradient(loss, z)\n",
        "            # Update the weights of the sample\n",
        "            self.optimizer_.apply_gradients([(grads, z)])\n",
        "            del tape\n",
        "\n",
        "            with tf.GradientTape(persistent=True) as tape:\n",
        "                loss, pred_margin_loss, kde_loss = self.compute_loss(\n",
        "                    x, z, step_weights, target_label\n",
        "                )\n",
        "\n",
        "            kde_loss = tf.convert_to_tensor(kde_loss, dtype=tf.float32)\n",
        "            grads = tape.gradient(loss, z)\n",
        "            # Optionally, compute and log gradients for individual components\n",
        "            kde_grads = tape.gradient(kde_loss, z)\n",
        "            margin_grads = tape.gradient(pred_margin_loss, z)\n",
        "\n",
        "\n",
        "            it += 1\n",
        "            if it % 50 == 0:\n",
        "              print(f'kde loss at iteration {it}: {kde_loss}')\n",
        "              if kde_grads is not None:\n",
        "                print(f'KDE Gradients at iteration {it}: Mean: {tf.reduce_mean(kde_grads).numpy()}, Max: {tf.reduce_max(kde_grads).numpy()}, Min: {tf.reduce_min(kde_grads).numpy()}')\n",
        "              else:\n",
        "                print(\"KDE Gradients are None.\")\n",
        "              print(f'Currently on iteration: {it}.')\n",
        "            if self.autoencoder is not None:\n",
        "                pred = self.model_(self.decoder_(z))\n",
        "            else:\n",
        "                pred = self.model_(z)\n",
        "\n",
        "        # # uncomment for debug\n",
        "        # print(\n",
        "        #     f\"current loss: {loss}, pred_margin_loss: {pred_margin_loss}, weighted_steps_loss: {weighted_steps_loss}, pred prob:{pred}, iter: {it}. \\n\"\n",
        "        # )\n",
        "\n",
        "        res = z.numpy() if self.autoencoder is None else self.decoder_(z).numpy()\n",
        "        return res, float(loss)\n",
        "\n",
        "\n",
        "def extract_encoder_decoder(autoencoder):\n",
        "    \"\"\"Extract the encoder and decoder from an autoencoder\n",
        "\n",
        "    autoencoder : keras.Model\n",
        "        The autoencoder of `k` encoders and `k` decoders\n",
        "    \"\"\"\n",
        "    depth = len(autoencoder.layers) // 2\n",
        "    encoder = autoencoder.layers[1](autoencoder.input)\n",
        "    for i in range(2, depth):\n",
        "        encoder = autoencoder.layers[i](encoder)\n",
        "\n",
        "    encode_input = keras.Input(shape=encoder.shape[1:])\n",
        "    decoder = autoencoder.layers[depth](encode_input)\n",
        "    for i in range(depth + 1, len(autoencoder.layers)):\n",
        "        decoder = autoencoder.layers[i](decoder)\n",
        "\n",
        "    return autoencoder.input, encoder, encode_input, decoder"
      ],
      "metadata": {
        "id": "y-Qj3FXoAKpF"
      },
      "execution_count": 23,
      "outputs": []
    },
    {
      "cell_type": "code",
      "source": [
        "step_weights_x"
      ],
      "metadata": {
        "id": "wgdJlhk21AHI"
      },
      "execution_count": null,
      "outputs": []
    },
    {
      "cell_type": "code",
      "source": [
        "print((X_train[:, :, :1]).shape)"
      ],
      "metadata": {
        "id": "gbXXRsVmc-G6"
      },
      "execution_count": null,
      "outputs": []
    },
    {
      "cell_type": "code",
      "source": [
        "print(X_train[:, :, :1])"
      ],
      "metadata": {
        "id": "9ks3Ien80akL"
      },
      "execution_count": null,
      "outputs": []
    },
    {
      "cell_type": "code",
      "source": [
        "print((X_train[:, :, :1]*step_weights_x).shape)"
      ],
      "metadata": {
        "id": "yNPRo_cjsoNS"
      },
      "execution_count": null,
      "outputs": []
    },
    {
      "cell_type": "code",
      "source": [
        "X_train[:, :, :1].shape"
      ],
      "metadata": {
        "id": "DS7_1mB13qHa"
      },
      "execution_count": null,
      "outputs": []
    },
    {
      "cell_type": "code",
      "source": [
        "X_train[y_train_classes == 1][:,:,0].shape"
      ],
      "metadata": {
        "id": "8t0D9POa3skj"
      },
      "execution_count": null,
      "outputs": []
    },
    {
      "cell_type": "code",
      "source": [
        "print(X_train[:, :, :1]*step_weights_x)\n",
        "print(X_train[y_train_classes == 1][:,:,0]*step_weights_x)"
      ],
      "metadata": {
        "id": "sOVxQki00V1Y"
      },
      "execution_count": null,
      "outputs": []
    },
    {
      "cell_type": "code",
      "source": [
        "X_train[y_train_classes == 1][:,:,0]*step_weights_x"
      ],
      "metadata": {
        "id": "cxIRgES73HLo"
      },
      "execution_count": null,
      "outputs": []
    },
    {
      "cell_type": "code",
      "source": [
        "X_train[y_train_classes == 1]"
      ],
      "metadata": {
        "id": "7LHG4XgR5zxt"
      },
      "execution_count": null,
      "outputs": []
    },
    {
      "cell_type": "code",
      "source": [
        "step_weights_y"
      ],
      "metadata": {
        "id": "VhHeUuH75Br9"
      },
      "execution_count": null,
      "outputs": []
    },
    {
      "cell_type": "code",
      "source": [
        "x_axis_eights = X_train[y_train_classes == 1][:,:,0]\n",
        "y_axis_eights = X_train[y_train_classes == 1][:,:,1]\n",
        "x_axis_eights = x_axis_eights[:,:,np.newaxis]\n",
        "y_axis_eights = y_axis_eights[:,:,np.newaxis]\n",
        "\n",
        "kde_x = train_gaussian_kde(x_axis_eights*step_weights_x,use_scotts_rule=False,use_silvermans_rule=True,manual_bandwidth = 0.1)\n",
        "kde_y = train_gaussian_kde(y_axis_eights*step_weights_y,use_scotts_rule=False,use_silvermans_rule=False,manual_bandwidth = 0.1)"
      ],
      "metadata": {
        "id": "R95Xd6vqjmPe"
      },
      "execution_count": null,
      "outputs": []
    },
    {
      "cell_type": "code",
      "source": [
        "#what shape the train and test samples should have\n",
        "print (f'step_weights = {step_weights_x.shape}')\n",
        "x_axis_eights.shape"
      ],
      "metadata": {
        "id": "3TpIWVMxfEaq"
      },
      "execution_count": null,
      "outputs": []
    },
    {
      "cell_type": "code",
      "source": [
        "X_test[y_test_classes == 1][:1, :, :]"
      ],
      "metadata": {
        "id": "gNh2go0UqwvA"
      },
      "execution_count": null,
      "outputs": []
    },
    {
      "cell_type": "code",
      "source": [
        "X_test[y_test_classes == 1][:1, :, 1]"
      ],
      "metadata": {
        "id": "FU2eu-fIgcKz"
      },
      "execution_count": null,
      "outputs": []
    },
    {
      "cell_type": "code",
      "source": [
        "X_test[y_test_classes == 1][:1, :, 0]"
      ],
      "metadata": {
        "id": "2YN_SH1OgcRA"
      },
      "execution_count": null,
      "outputs": []
    },
    {
      "cell_type": "code",
      "source": [
        "print(gaussian_kde_logpdf(kde_y,X_test[y_test_classes == 1][:15, :, 1:2]*step_weights_y))\n",
        "print(np.mean(gaussian_kde_logpdf(kde_y,X_test[y_test_classes == 1][:, :, 1:2]*step_weights_y)))"
      ],
      "metadata": {
        "id": "iaBt44pEfrjZ"
      },
      "execution_count": null,
      "outputs": []
    },
    {
      "cell_type": "code",
      "source": [
        "print(gaussian_kde_logpdf(kde_y,X_test[y_test_classes == 0][:15, :, 1:2]*step_weights_y))\n",
        "print(np.mean(gaussian_kde_logpdf(kde_y,X_test[y_test_classes == 0][:, :, 1:2]*step_weights_y)))"
      ],
      "metadata": {
        "id": "Z_gSlcalf8Bm"
      },
      "execution_count": null,
      "outputs": []
    },
    {
      "cell_type": "code",
      "source": [
        "print(gaussian_kde_logpdf(kde_x,X_test[y_test_classes == 1][:15, :, :1]*step_weights_x))\n",
        "print(np.mean(gaussian_kde_logpdf(kde_x,X_test[y_test_classes == 1][:, :, :1]*step_weights_x)))"
      ],
      "metadata": {
        "id": "Z70y4G2G_g51"
      },
      "execution_count": null,
      "outputs": []
    },
    {
      "cell_type": "code",
      "source": [
        "print(gaussian_kde_logpdf(kde_x,X_test[y_test_classes == 0][:15, :, :1]*step_weights_x))\n",
        "print(np.mean(gaussian_kde_logpdf(kde_x,X_test[y_test_classes == 0][:, :, :1]*step_weights_x)))"
      ],
      "metadata": {
        "id": "jVkDXGDW9tu6"
      },
      "execution_count": null,
      "outputs": []
    },
    {
      "cell_type": "code",
      "source": [
        "def train_gaussian_kde(data,use_scotts_rule=False,use_silvermans_rule=False, manual_bandwidth = None):\n",
        "    \"\"\"\n",
        "    Train a Gaussian KDE on the provided data.\n",
        "\n",
        "    :param data: Multivariate data points used for KDE (2D Tensor).\n",
        "    :param bandwidth: The bandwidth of the kernel (float).\n",
        "    :return: A function that represents the trained KDE.\n",
        "    \"\"\"\n",
        "    n = tf.cast(tf.shape(data)[0], tf.float64)\n",
        "    d = tf.cast(tf.shape(data)[1], tf.float64)\n",
        "\n",
        "    def kde_fn(x_points):\n",
        "        \"\"\"\n",
        "        Compute the density estimation for given points using the trained KDE.\n",
        "\n",
        "        :param x_points: Points where the density should be estimated (2D Tensor).\n",
        "        :return: Density estimates (Tensor).\n",
        "        \"\"\"\n",
        "        d = tf.cast(tf.shape(data)[1], tf.float64)\n",
        "        data_exp =  tf.expand_dims(data, axis=0)\n",
        "        print(f'data dimentions = {data_exp.shape}')\n",
        "        x_points_exp = tf.reshape(x_points, (tf.shape(x_points)[0], 8, 1))\n",
        "        x_points_exp = tf.expand_dims(x_points_exp, axis=1)\n",
        "        print(f'x_points dimentions = {x_points_exp.shape}')\n",
        "\n",
        "        if use_scotts_rule:\n",
        "          sigma = tf.math.reduce_std(data)\n",
        "          bandwidth = n ** (-1.0 / (d + 4)) * sigma\n",
        "        elif use_silvermans_rule:\n",
        "          sigma = tf.math.reduce_std(data)\n",
        "          bandwidth = (4 * sigma**5 / (3 * n)) ** (1/5)\n",
        "        else:\n",
        "          if manual_bandwidth is None:\n",
        "            raise ValueError(\"Manual bandwidth must be provided if not using Scott's Rule.\")\n",
        "          bandwidth = manual_bandwidth\n",
        "        bandwidth = tf.cast(bandwidth, dtype=tf.float64)\n",
        "        diff = x_points_exp - data_exp\n",
        "        norm = tf.reduce_sum(diff ** 2, axis=2)\n",
        "        kernel_val = tf.exp(-norm / (2.0 * bandwidth ** 2))\n",
        "\n",
        "\n",
        "        d = tf.constant(d,tf.float64)\n",
        "        density = tf.reduce_mean(kernel_val, axis=1) / (bandwidth * tf.sqrt(2.0 * np.pi * d))\n",
        "        return density\n",
        "\n",
        "    return kde_fn\n",
        "\n",
        "def gaussian_kde_logpdf(kde_fn, x_points):\n",
        "    \"\"\"\n",
        "    Evaluate the logpdf of the given points using the trained KDE function.\n",
        "\n",
        "    :param kde_fn: Trained KDE function.\n",
        "    :param x_points: Points to evaluate the logpdf (2D Tensor).\n",
        "    :return: Log of the density estimates (Tensor).\n",
        "    \"\"\"\n",
        "    density = kde_fn(x_points)\n",
        "    return tf.math.log(density)"
      ],
      "metadata": {
        "id": "Za39KNptur9W"
      },
      "execution_count": null,
      "outputs": []
    },
    {
      "cell_type": "code",
      "source": [
        "data_exp_eights = tf.expand_dims(X_train[y_train_classes == 1][:2, :, :1], 0)\n",
        "x_points_exp_eights = x_points_exp = tf.expand_dims(X_test[y_test_classes==1][0:1], 1)\n",
        "x_points_exp_zeroes = x_points_exp = tf.expand_dims(X_test[y_test_classes==0][0:2], 1)\n",
        "bandwidth = 0.5"
      ],
      "metadata": {
        "id": "zmhpUM6l9rpK"
      },
      "execution_count": null,
      "outputs": []
    },
    {
      "cell_type": "code",
      "source": [
        "data_exp_eights"
      ],
      "metadata": {
        "id": "Vaun0ESa7QWJ"
      },
      "execution_count": null,
      "outputs": []
    },
    {
      "cell_type": "code",
      "source": [
        "data_exp_eights"
      ],
      "metadata": {
        "id": "sa6s5seo4DN5"
      },
      "execution_count": null,
      "outputs": []
    },
    {
      "cell_type": "code",
      "source": [
        "x_points_exp_eights"
      ],
      "metadata": {
        "id": "9J7xtn5J55Eq"
      },
      "execution_count": null,
      "outputs": []
    },
    {
      "cell_type": "code",
      "source": [
        "diff = x_points_exp_eights - data_exp_eights\n",
        "norm = tf.reduce_sum(diff ** 2, axis=2)\n",
        "kernel_val = tf.exp(-norm / (2.0 * bandwidth ** 2))"
      ],
      "metadata": {
        "id": "1_0Uer-u3Fpx"
      },
      "execution_count": null,
      "outputs": []
    },
    {
      "cell_type": "code",
      "source": [
        "diff"
      ],
      "metadata": {
        "id": "1l5KVWJ_5ouT"
      },
      "execution_count": null,
      "outputs": []
    },
    {
      "cell_type": "code",
      "source": [
        "norm"
      ],
      "metadata": {
        "id": "6SM3CZdd6VxY"
      },
      "execution_count": null,
      "outputs": []
    },
    {
      "cell_type": "code",
      "source": [
        "max_log_likelihood = np.max(kde_1.logpdf(X_train[y_train_classes == 1][:,:,0].T))\n",
        "min_log_likelihood = np.min(kde_1.logpdf(X_train[y_train_classes == 1][:,:,0].T))\n",
        "print(f'Max log_likelihood = {max_log_likelihood}')\n",
        "print(f'Min log_likelihood = {min_log_likelihood}')"
      ],
      "metadata": {
        "id": "QESn-WSUw8vV"
      },
      "execution_count": null,
      "outputs": []
    },
    {
      "cell_type": "code",
      "source": [],
      "metadata": {
        "id": "EvkVFM8t3FNI"
      },
      "execution_count": null,
      "outputs": []
    },
    {
      "cell_type": "code",
      "source": [],
      "metadata": {
        "id": "UGGJxY-yeWU0"
      },
      "execution_count": null,
      "outputs": []
    },
    {
      "cell_type": "code",
      "source": [],
      "metadata": {
        "id": "UQIRimWhe58c"
      },
      "execution_count": null,
      "outputs": []
    },
    {
      "cell_type": "code",
      "source": [
        "reset_seeds()\n",
        "cf_model = ModifiedLatentCF(\n",
        "    probability=0.9,tolerance=1e-6, max_iter=1000, optimizer=tf.keras.optimizers.legacy.Adam(learning_rate=0.001),autoencoder = autoencoder,\n",
        "    margin_weight=0.75, step_weights = step_weights, random_state= RANDOM_STATE,kde = kde_1, min_log_likelihood = min_log_likelihood, max_log_likelihood = max_log_likelihood\n",
        "    )\n",
        "cf_model.fit(cnnClassifier)\n",
        "\n",
        "y_neg = y_train_classes[y_train_classes == 0][10:12]\n",
        "X_neg = X_train[y_train_classes == 0][10:12]\n",
        "\n",
        "\n",
        "with warnings.catch_warnings():\n",
        "    warnings.simplefilter(\"ignore\", category=RuntimeWarning) # ignore warning of matrix multiplication: https://stackoverflow.com/questions/29688168/mean-nanmean-and-warning-mean-of-empty-slice\n",
        "    cf_embeddings, losses, weights = cf_model.transform(X_neg, y_neg) #self, x, pred_label\n",
        "z_pred = cnnClassifier.predict(cf_embeddings)[:, 1] # predicted probabilities of CFs\n",
        "\n",
        "#evaluate_res = evaluate(X_pred_neg, best_cf_samples, z_pred, n_timesteps, tree, max_distance)\n",
        "#evaluate_res #  proximity, validity, cost_mean, cost_std\n",
        "\n",
        "#print(f'Transformation_finished with validity_score = {validity_score(y_neg_classes,cf_pred_labels)}')"
      ],
      "metadata": {
        "id": "f-Xy39aj8q9S"
      },
      "execution_count": null,
      "outputs": []
    },
    {
      "cell_type": "code",
      "source": [
        "#with learning rate = 0.001 and 500 iterations (and 1000)\n",
        "for i in range(5):\n",
        "  print(\"actual\")\n",
        "  visualise_digit(X_pred_neg,y_pred_neg,i,figsize = (5,5))\n",
        "  print(\"counterfactual\")\n",
        "  visualise_digit(cf_embeddings,y_neg,i,figsize = (5,5))\n"
      ],
      "metadata": {
        "id": "UbvQjP1RpiYh"
      },
      "execution_count": null,
      "outputs": []
    },
    {
      "cell_type": "code",
      "source": [
        "#with learning rate = 0.001 and 2000 iterations\n",
        "for i in range(6):\n",
        "  print(\"actual\")\n",
        "  visualise_digit(X_pred_neg,y_pred_neg,i-1,figsize = (5,5))\n",
        "  print(\"counterfactual\")\n",
        "  visualise_digit(cf_embeddings,y_neg,i-1,figsize = (5,5))"
      ],
      "metadata": {
        "id": "2gUPxFnxWAE1"
      },
      "execution_count": null,
      "outputs": []
    },
    {
      "cell_type": "code",
      "source": [
        "#with learning rate = 0.0001 and 500 iterations\n",
        "for i in range(6):\n",
        "  print(\"actual\")\n",
        "  visualise_digit(X_pred_neg,y_pred_neg,i-1,figsize = (5,5))\n",
        "  print(\"counterfactual\")\n",
        "  visualise_digit(cf_embeddings,y_neg,i-1,figsize = (5,5))"
      ],
      "metadata": {
        "id": "KV3gNKN3Q3hE"
      },
      "execution_count": null,
      "outputs": []
    },
    {
      "cell_type": "code",
      "source": [],
      "metadata": {
        "id": "JcXQ65RRV7EB"
      },
      "execution_count": null,
      "outputs": []
    }
  ]
}