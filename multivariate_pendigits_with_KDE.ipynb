{
  "nbformat": 4,
  "nbformat_minor": 0,
  "metadata": {
    "colab": {
      "provenance": [],
      "gpuType": "T4",
      "include_colab_link": true
    },
    "kernelspec": {
      "name": "python3",
      "display_name": "Python 3"
    },
    "language_info": {
      "name": "python"
    },
    "accelerator": "GPU"
  },
  "cells": [
    {
      "cell_type": "markdown",
      "metadata": {
        "id": "view-in-github",
        "colab_type": "text"
      },
      "source": [
        "<a href=\"https://colab.research.google.com/github/stellagerantoni/LatentCfMultivariate/blob/main/multivariate_pendigits_with_KDE.ipynb\" target=\"_parent\"><img src=\"https://colab.research.google.com/assets/colab-badge.svg\" alt=\"Open In Colab\"/></a>"
      ]
    },
    {
      "cell_type": "code",
      "source": [
        "! git clone https://github.com/stellagerantoni/LatentCfMultivariate"
      ],
      "metadata": {
        "id": "1fwOXGEl_ine",
        "outputId": "35bc8d78-85f5-45a3-a01b-5bed55fb0a92",
        "colab": {
          "base_uri": "https://localhost:8080/"
        }
      },
      "execution_count": 1,
      "outputs": [
        {
          "output_type": "stream",
          "name": "stdout",
          "text": [
            "fatal: destination path 'LatentCfMultivariate' already exists and is not an empty directory.\n"
          ]
        }
      ]
    },
    {
      "cell_type": "code",
      "source": [
        "!pip install -q wildboar\n",
        "!pip install -q scikit-learn\n",
        "!pip install -q stumpy\n",
        "!pip install -q fastdtw\n",
        "!pip install aeon[all_extras]"
      ],
      "metadata": {
        "id": "89L3kts7CCan",
        "outputId": "c0f7e839-067d-4fcd-8b3d-ed76b1ce7257",
        "colab": {
          "base_uri": "https://localhost:8080/"
        }
      },
      "execution_count": 2,
      "outputs": [
        {
          "output_type": "stream",
          "name": "stdout",
          "text": [
            "Requirement already satisfied: aeon[all_extras] in /usr/local/lib/python3.10/dist-packages (0.5.0)\n",
            "Requirement already satisfied: attrs>=19.2.0 in /usr/local/lib/python3.10/dist-packages (from aeon[all_extras]) (23.1.0)\n",
            "Requirement already satisfied: deprecated>=1.2.13 in /usr/local/lib/python3.10/dist-packages (from aeon[all_extras]) (1.2.14)\n",
            "Requirement already satisfied: numba>=0.55 in /usr/local/lib/python3.10/dist-packages (from aeon[all_extras]) (0.58.1)\n",
            "Requirement already satisfied: numpy<1.25.0,>=1.21.0 in /usr/local/lib/python3.10/dist-packages (from aeon[all_extras]) (1.23.5)\n",
            "Requirement already satisfied: packaging>=20.0 in /usr/local/lib/python3.10/dist-packages (from aeon[all_extras]) (23.2)\n",
            "Requirement already satisfied: pandas<2.1.0,>=1.5.3 in /usr/local/lib/python3.10/dist-packages (from aeon[all_extras]) (1.5.3)\n",
            "Requirement already satisfied: scikit-learn<1.3.0,>=1.0.0 in /usr/local/lib/python3.10/dist-packages (from aeon[all_extras]) (1.2.2)\n",
            "Requirement already satisfied: scipy<2.0.0,>=1.2.0 in /usr/local/lib/python3.10/dist-packages (from aeon[all_extras]) (1.11.3)\n",
            "Requirement already satisfied: cloudpickle in /usr/local/lib/python3.10/dist-packages (from aeon[all_extras]) (2.2.1)\n",
            "Requirement already satisfied: dask in /usr/local/lib/python3.10/dist-packages (from aeon[all_extras]) (2023.8.1)\n",
            "Requirement already satisfied: filterpy>=1.4.5 in /usr/local/lib/python3.10/dist-packages (from aeon[all_extras]) (1.4.5)\n",
            "Requirement already satisfied: h5py in /usr/local/lib/python3.10/dist-packages (from aeon[all_extras]) (3.9.0)\n",
            "Requirement already satisfied: hmmlearn>=0.2.7 in /usr/local/lib/python3.10/dist-packages (from aeon[all_extras]) (0.3.0)\n",
            "Requirement already satisfied: gluonts>=0.12.4 in /usr/local/lib/python3.10/dist-packages (from aeon[all_extras]) (0.14.1)\n",
            "Requirement already satisfied: keras-self-attention in /usr/local/lib/python3.10/dist-packages (from aeon[all_extras]) (0.51.0)\n",
            "Requirement already satisfied: kotsu>=0.3.1 in /usr/local/lib/python3.10/dist-packages (from aeon[all_extras]) (0.3.3)\n",
            "Requirement already satisfied: matplotlib>=3.3.2 in /usr/local/lib/python3.10/dist-packages (from aeon[all_extras]) (3.7.1)\n",
            "Requirement already satisfied: mne in /usr/local/lib/python3.10/dist-packages (from aeon[all_extras]) (1.5.1)\n",
            "Requirement already satisfied: pmdarima<3.0.0,>=1.8.0 in /usr/local/lib/python3.10/dist-packages (from aeon[all_extras]) (2.0.4)\n",
            "Requirement already satisfied: prophet>=1.1.0 in /usr/local/lib/python3.10/dist-packages (from aeon[all_extras]) (1.1.5)\n",
            "Requirement already satisfied: pyod>=0.8.0 in /usr/local/lib/python3.10/dist-packages (from aeon[all_extras]) (1.1.1)\n",
            "Requirement already satisfied: scikit-posthocs>=0.6.5 in /usr/local/lib/python3.10/dist-packages (from aeon[all_extras]) (0.8.0)\n",
            "Requirement already satisfied: seaborn>=0.11.0 in /usr/local/lib/python3.10/dist-packages (from aeon[all_extras]) (0.12.2)\n",
            "Requirement already satisfied: statsforecast>=0.5.2 in /usr/local/lib/python3.10/dist-packages (from aeon[all_extras]) (1.6.0)\n",
            "Requirement already satisfied: plotly-resampler>=0.9.0 in /usr/local/lib/python3.10/dist-packages (from aeon[all_extras]) (0.9.1)\n",
            "Requirement already satisfied: statsmodels>=0.12.1 in /usr/local/lib/python3.10/dist-packages (from aeon[all_extras]) (0.14.0)\n",
            "Requirement already satisfied: stumpy>=1.5.1 in /usr/local/lib/python3.10/dist-packages (from aeon[all_extras]) (1.12.0)\n",
            "Requirement already satisfied: tbats>=1.1.0 in /usr/local/lib/python3.10/dist-packages (from aeon[all_extras]) (1.1.3)\n",
            "Collecting tensorflow<2.13.0 (from aeon[all_extras])\n",
            "  Using cached tensorflow-2.12.1-cp310-cp310-manylinux_2_17_x86_64.manylinux2014_x86_64.whl (585.9 MB)\n",
            "Requirement already satisfied: tensorflow-probability<0.21.0 in /usr/local/lib/python3.10/dist-packages (from aeon[all_extras]) (0.20.1)\n",
            "Requirement already satisfied: tsfresh>=0.20.0 in /usr/local/lib/python3.10/dist-packages (from aeon[all_extras]) (0.20.1)\n",
            "Requirement already satisfied: tslearn<0.6.0,>=0.5.2 in /usr/local/lib/python3.10/dist-packages (from aeon[all_extras]) (0.5.3.2)\n",
            "Requirement already satisfied: xarray in /usr/local/lib/python3.10/dist-packages (from aeon[all_extras]) (2023.7.0)\n",
            "Requirement already satisfied: mlflow<2.4.0 in /usr/local/lib/python3.10/dist-packages (from aeon[all_extras]) (2.3.2)\n",
            "Requirement already satisfied: esig<0.9.8.3,>=0.9.7 in /usr/local/lib/python3.10/dist-packages (from aeon[all_extras]) (0.9.8.2)\n",
            "Requirement already satisfied: wrapt<2,>=1.10 in /usr/local/lib/python3.10/dist-packages (from deprecated>=1.2.13->aeon[all_extras]) (1.14.1)\n",
            "Requirement already satisfied: pydantic<3,>=1.7 in /usr/local/lib/python3.10/dist-packages (from gluonts>=0.12.4->aeon[all_extras]) (1.10.13)\n",
            "Requirement already satisfied: tqdm~=4.23 in /usr/local/lib/python3.10/dist-packages (from gluonts>=0.12.4->aeon[all_extras]) (4.66.1)\n",
            "Requirement already satisfied: toolz~=0.10 in /usr/local/lib/python3.10/dist-packages (from gluonts>=0.12.4->aeon[all_extras]) (0.12.0)\n",
            "Requirement already satisfied: typing-extensions~=4.0 in /usr/local/lib/python3.10/dist-packages (from gluonts>=0.12.4->aeon[all_extras]) (4.5.0)\n",
            "Requirement already satisfied: contourpy>=1.0.1 in /usr/local/lib/python3.10/dist-packages (from matplotlib>=3.3.2->aeon[all_extras]) (1.2.0)\n",
            "Requirement already satisfied: cycler>=0.10 in /usr/local/lib/python3.10/dist-packages (from matplotlib>=3.3.2->aeon[all_extras]) (0.12.1)\n",
            "Requirement already satisfied: fonttools>=4.22.0 in /usr/local/lib/python3.10/dist-packages (from matplotlib>=3.3.2->aeon[all_extras]) (4.44.0)\n",
            "Requirement already satisfied: kiwisolver>=1.0.1 in /usr/local/lib/python3.10/dist-packages (from matplotlib>=3.3.2->aeon[all_extras]) (1.4.5)\n",
            "Requirement already satisfied: pillow>=6.2.0 in /usr/local/lib/python3.10/dist-packages (from matplotlib>=3.3.2->aeon[all_extras]) (9.4.0)\n",
            "Requirement already satisfied: pyparsing>=2.3.1 in /usr/local/lib/python3.10/dist-packages (from matplotlib>=3.3.2->aeon[all_extras]) (3.1.1)\n",
            "Requirement already satisfied: python-dateutil>=2.7 in /usr/local/lib/python3.10/dist-packages (from matplotlib>=3.3.2->aeon[all_extras]) (2.8.2)\n",
            "Requirement already satisfied: click<9,>=7.0 in /usr/local/lib/python3.10/dist-packages (from mlflow<2.4.0->aeon[all_extras]) (8.1.7)\n",
            "Requirement already satisfied: databricks-cli<1,>=0.8.7 in /usr/local/lib/python3.10/dist-packages (from mlflow<2.4.0->aeon[all_extras]) (0.18.0)\n",
            "Requirement already satisfied: entrypoints<1 in /usr/local/lib/python3.10/dist-packages (from mlflow<2.4.0->aeon[all_extras]) (0.4)\n",
            "Requirement already satisfied: gitpython<4,>=2.1.0 in /usr/local/lib/python3.10/dist-packages (from mlflow<2.4.0->aeon[all_extras]) (3.1.40)\n",
            "Requirement already satisfied: pyyaml<7,>=5.1 in /usr/local/lib/python3.10/dist-packages (from mlflow<2.4.0->aeon[all_extras]) (6.0.1)\n",
            "Requirement already satisfied: protobuf<5,>=3.12.0 in /usr/local/lib/python3.10/dist-packages (from mlflow<2.4.0->aeon[all_extras]) (3.20.3)\n",
            "Requirement already satisfied: pytz<2024 in /usr/local/lib/python3.10/dist-packages (from mlflow<2.4.0->aeon[all_extras]) (2023.3.post1)\n",
            "Requirement already satisfied: requests<3,>=2.17.3 in /usr/local/lib/python3.10/dist-packages (from mlflow<2.4.0->aeon[all_extras]) (2.31.0)\n",
            "Requirement already satisfied: importlib-metadata!=4.7.0,<7,>=3.7.0 in /usr/local/lib/python3.10/dist-packages (from mlflow<2.4.0->aeon[all_extras]) (6.8.0)\n",
            "Requirement already satisfied: sqlparse<1,>=0.4.0 in /usr/local/lib/python3.10/dist-packages (from mlflow<2.4.0->aeon[all_extras]) (0.4.4)\n",
            "Requirement already satisfied: alembic!=1.10.0,<2 in /usr/local/lib/python3.10/dist-packages (from mlflow<2.4.0->aeon[all_extras]) (1.12.1)\n",
            "Requirement already satisfied: docker<7,>=4.0.0 in /usr/local/lib/python3.10/dist-packages (from mlflow<2.4.0->aeon[all_extras]) (6.1.3)\n",
            "Requirement already satisfied: Flask<3 in /usr/local/lib/python3.10/dist-packages (from mlflow<2.4.0->aeon[all_extras]) (2.2.5)\n",
            "Requirement already satisfied: querystring-parser<2 in /usr/local/lib/python3.10/dist-packages (from mlflow<2.4.0->aeon[all_extras]) (1.2.4)\n",
            "Requirement already satisfied: sqlalchemy<3,>=1.4.0 in /usr/local/lib/python3.10/dist-packages (from mlflow<2.4.0->aeon[all_extras]) (2.0.23)\n",
            "Requirement already satisfied: pyarrow<12,>=4.0.0 in /usr/local/lib/python3.10/dist-packages (from mlflow<2.4.0->aeon[all_extras]) (9.0.0)\n",
            "Requirement already satisfied: markdown<4,>=3.3 in /usr/local/lib/python3.10/dist-packages (from mlflow<2.4.0->aeon[all_extras]) (3.5.1)\n",
            "Requirement already satisfied: gunicorn<21 in /usr/local/lib/python3.10/dist-packages (from mlflow<2.4.0->aeon[all_extras]) (20.1.0)\n",
            "Requirement already satisfied: Jinja2<4,>=2.11 in /usr/local/lib/python3.10/dist-packages (from mlflow<2.4.0->aeon[all_extras]) (3.1.2)\n",
            "Requirement already satisfied: llvmlite<0.42,>=0.41.0dev0 in /usr/local/lib/python3.10/dist-packages (from numba>=0.55->aeon[all_extras]) (0.41.1)\n",
            "Requirement already satisfied: dash<3.0.0,>=2.11.0 in /usr/local/lib/python3.10/dist-packages (from plotly-resampler>=0.9.0->aeon[all_extras]) (2.14.1)\n",
            "Requirement already satisfied: orjson<4.0.0,>=3.8.0 in /usr/local/lib/python3.10/dist-packages (from plotly-resampler>=0.9.0->aeon[all_extras]) (3.9.10)\n",
            "Requirement already satisfied: plotly<6.0.0,>=5.5.0 in /usr/local/lib/python3.10/dist-packages (from plotly-resampler>=0.9.0->aeon[all_extras]) (5.15.0)\n",
            "Requirement already satisfied: trace-updater>=0.0.8 in /usr/local/lib/python3.10/dist-packages (from plotly-resampler>=0.9.0->aeon[all_extras]) (0.0.9.1)\n",
            "Requirement already satisfied: tsdownsample==0.1.2 in /usr/local/lib/python3.10/dist-packages (from plotly-resampler>=0.9.0->aeon[all_extras]) (0.1.2)\n",
            "Requirement already satisfied: joblib>=0.11 in /usr/local/lib/python3.10/dist-packages (from pmdarima<3.0.0,>=1.8.0->aeon[all_extras]) (1.3.2)\n",
            "Requirement already satisfied: Cython!=0.29.18,!=0.29.31,>=0.29 in /usr/local/lib/python3.10/dist-packages (from pmdarima<3.0.0,>=1.8.0->aeon[all_extras]) (3.0.5)\n",
            "Requirement already satisfied: urllib3 in /usr/local/lib/python3.10/dist-packages (from pmdarima<3.0.0,>=1.8.0->aeon[all_extras]) (2.0.7)\n",
            "Requirement already satisfied: setuptools!=50.0.0,>=38.6.0 in /usr/local/lib/python3.10/dist-packages (from pmdarima<3.0.0,>=1.8.0->aeon[all_extras]) (67.7.2)\n",
            "Requirement already satisfied: cmdstanpy>=1.0.4 in /usr/local/lib/python3.10/dist-packages (from prophet>=1.1.0->aeon[all_extras]) (1.2.0)\n",
            "Requirement already satisfied: holidays>=0.25 in /usr/local/lib/python3.10/dist-packages (from prophet>=1.1.0->aeon[all_extras]) (0.36)\n",
            "Requirement already satisfied: importlib-resources in /usr/local/lib/python3.10/dist-packages (from prophet>=1.1.0->aeon[all_extras]) (6.1.1)\n",
            "Requirement already satisfied: six in /usr/local/lib/python3.10/dist-packages (from pyod>=0.8.0->aeon[all_extras]) (1.16.0)\n",
            "Requirement already satisfied: threadpoolctl>=2.0.0 in /usr/local/lib/python3.10/dist-packages (from scikit-learn<1.3.0,>=1.0.0->aeon[all_extras]) (3.2.0)\n",
            "Requirement already satisfied: polars in /usr/local/lib/python3.10/dist-packages (from statsforecast>=0.5.2->aeon[all_extras]) (0.17.3)\n",
            "Requirement already satisfied: fugue>=0.8.1 in /usr/local/lib/python3.10/dist-packages (from statsforecast>=0.5.2->aeon[all_extras]) (0.8.7)\n",
            "Requirement already satisfied: patsy>=0.5.2 in /usr/local/lib/python3.10/dist-packages (from statsmodels>=0.12.1->aeon[all_extras]) (0.5.3)\n",
            "Requirement already satisfied: absl-py>=1.0.0 in /usr/local/lib/python3.10/dist-packages (from tensorflow<2.13.0->aeon[all_extras]) (1.4.0)\n",
            "Requirement already satisfied: astunparse>=1.6.0 in /usr/local/lib/python3.10/dist-packages (from tensorflow<2.13.0->aeon[all_extras]) (1.6.3)\n",
            "Requirement already satisfied: flatbuffers>=2.0 in /usr/local/lib/python3.10/dist-packages (from tensorflow<2.13.0->aeon[all_extras]) (23.5.26)\n",
            "Requirement already satisfied: gast<=0.4.0,>=0.2.1 in /usr/local/lib/python3.10/dist-packages (from tensorflow<2.13.0->aeon[all_extras]) (0.4.0)\n",
            "Requirement already satisfied: google-pasta>=0.1.1 in /usr/local/lib/python3.10/dist-packages (from tensorflow<2.13.0->aeon[all_extras]) (0.2.0)\n",
            "Requirement already satisfied: grpcio<2.0,>=1.24.3 in /usr/local/lib/python3.10/dist-packages (from tensorflow<2.13.0->aeon[all_extras]) (1.59.2)\n",
            "Requirement already satisfied: jax>=0.3.15 in /usr/local/lib/python3.10/dist-packages (from tensorflow<2.13.0->aeon[all_extras]) (0.4.20)\n",
            "Collecting keras<2.13,>=2.12.0 (from tensorflow<2.13.0->aeon[all_extras])\n",
            "  Using cached keras-2.12.0-py2.py3-none-any.whl (1.7 MB)\n",
            "Requirement already satisfied: libclang>=13.0.0 in /usr/local/lib/python3.10/dist-packages (from tensorflow<2.13.0->aeon[all_extras]) (16.0.6)\n",
            "Requirement already satisfied: opt-einsum>=2.3.2 in /usr/local/lib/python3.10/dist-packages (from tensorflow<2.13.0->aeon[all_extras]) (3.3.0)\n",
            "Collecting tensorboard<2.13,>=2.12 (from tensorflow<2.13.0->aeon[all_extras])\n",
            "  Using cached tensorboard-2.12.3-py3-none-any.whl (5.6 MB)\n",
            "Collecting tensorflow-estimator<2.13,>=2.12.0 (from tensorflow<2.13.0->aeon[all_extras])\n",
            "  Using cached tensorflow_estimator-2.12.0-py2.py3-none-any.whl (440 kB)\n",
            "Requirement already satisfied: termcolor>=1.1.0 in /usr/local/lib/python3.10/dist-packages (from tensorflow<2.13.0->aeon[all_extras]) (2.3.0)\n",
            "Requirement already satisfied: tensorflow-io-gcs-filesystem>=0.23.1 in /usr/local/lib/python3.10/dist-packages (from tensorflow<2.13.0->aeon[all_extras]) (0.34.0)\n",
            "Requirement already satisfied: decorator in /usr/local/lib/python3.10/dist-packages (from tensorflow-probability<0.21.0->aeon[all_extras]) (4.4.2)\n",
            "Requirement already satisfied: dm-tree in /usr/local/lib/python3.10/dist-packages (from tensorflow-probability<0.21.0->aeon[all_extras]) (0.1.8)\n",
            "Requirement already satisfied: distributed>=2.11.0 in /usr/local/lib/python3.10/dist-packages (from tsfresh>=0.20.0->aeon[all_extras]) (2023.8.1)\n",
            "Requirement already satisfied: fsspec>=2021.09.0 in /usr/local/lib/python3.10/dist-packages (from dask->aeon[all_extras]) (2023.6.0)\n",
            "Requirement already satisfied: partd>=1.2.0 in /usr/local/lib/python3.10/dist-packages (from dask->aeon[all_extras]) (1.4.1)\n",
            "Requirement already satisfied: pooch>=1.5 in /usr/local/lib/python3.10/dist-packages (from mne->aeon[all_extras]) (1.8.0)\n",
            "Requirement already satisfied: Mako in /usr/local/lib/python3.10/dist-packages (from alembic!=1.10.0,<2->mlflow<2.4.0->aeon[all_extras]) (1.3.0)\n",
            "Requirement already satisfied: wheel<1.0,>=0.23.0 in /usr/local/lib/python3.10/dist-packages (from astunparse>=1.6.0->tensorflow<2.13.0->aeon[all_extras]) (0.41.3)\n",
            "Requirement already satisfied: stanio~=0.3.0 in /usr/local/lib/python3.10/dist-packages (from cmdstanpy>=1.0.4->prophet>=1.1.0->aeon[all_extras]) (0.3.0)\n",
            "Requirement already satisfied: Werkzeug<3.1 in /usr/local/lib/python3.10/dist-packages (from dash<3.0.0,>=2.11.0->plotly-resampler>=0.9.0->aeon[all_extras]) (3.0.1)\n",
            "Requirement already satisfied: dash-html-components==2.0.0 in /usr/local/lib/python3.10/dist-packages (from dash<3.0.0,>=2.11.0->plotly-resampler>=0.9.0->aeon[all_extras]) (2.0.0)\n",
            "Requirement already satisfied: dash-core-components==2.0.0 in /usr/local/lib/python3.10/dist-packages (from dash<3.0.0,>=2.11.0->plotly-resampler>=0.9.0->aeon[all_extras]) (2.0.0)\n",
            "Requirement already satisfied: dash-table==5.0.0 in /usr/local/lib/python3.10/dist-packages (from dash<3.0.0,>=2.11.0->plotly-resampler>=0.9.0->aeon[all_extras]) (5.0.0)\n",
            "Requirement already satisfied: retrying in /usr/local/lib/python3.10/dist-packages (from dash<3.0.0,>=2.11.0->plotly-resampler>=0.9.0->aeon[all_extras]) (1.3.4)\n",
            "Requirement already satisfied: ansi2html in /usr/local/lib/python3.10/dist-packages (from dash<3.0.0,>=2.11.0->plotly-resampler>=0.9.0->aeon[all_extras]) (1.8.0)\n",
            "Requirement already satisfied: nest-asyncio in /usr/local/lib/python3.10/dist-packages (from dash<3.0.0,>=2.11.0->plotly-resampler>=0.9.0->aeon[all_extras]) (1.5.8)\n",
            "Requirement already satisfied: pyjwt>=1.7.0 in /usr/lib/python3/dist-packages (from databricks-cli<1,>=0.8.7->mlflow<2.4.0->aeon[all_extras]) (2.3.0)\n",
            "Requirement already satisfied: oauthlib>=3.1.0 in /usr/local/lib/python3.10/dist-packages (from databricks-cli<1,>=0.8.7->mlflow<2.4.0->aeon[all_extras]) (3.2.2)\n",
            "Requirement already satisfied: tabulate>=0.7.7 in /usr/local/lib/python3.10/dist-packages (from databricks-cli<1,>=0.8.7->mlflow<2.4.0->aeon[all_extras]) (0.9.0)\n",
            "Requirement already satisfied: locket>=1.0.0 in /usr/local/lib/python3.10/dist-packages (from distributed>=2.11.0->tsfresh>=0.20.0->aeon[all_extras]) (1.0.0)\n",
            "Requirement already satisfied: msgpack>=1.0.0 in /usr/local/lib/python3.10/dist-packages (from distributed>=2.11.0->tsfresh>=0.20.0->aeon[all_extras]) (1.0.7)\n",
            "Requirement already satisfied: psutil>=5.7.2 in /usr/local/lib/python3.10/dist-packages (from distributed>=2.11.0->tsfresh>=0.20.0->aeon[all_extras]) (5.9.5)\n",
            "Requirement already satisfied: sortedcontainers>=2.0.5 in /usr/local/lib/python3.10/dist-packages (from distributed>=2.11.0->tsfresh>=0.20.0->aeon[all_extras]) (2.4.0)\n",
            "Requirement already satisfied: tblib>=1.6.0 in /usr/local/lib/python3.10/dist-packages (from distributed>=2.11.0->tsfresh>=0.20.0->aeon[all_extras]) (3.0.0)\n",
            "Requirement already satisfied: tornado>=6.0.4 in /usr/local/lib/python3.10/dist-packages (from distributed>=2.11.0->tsfresh>=0.20.0->aeon[all_extras]) (6.3.2)\n",
            "Requirement already satisfied: zict>=2.2.0 in /usr/local/lib/python3.10/dist-packages (from distributed>=2.11.0->tsfresh>=0.20.0->aeon[all_extras]) (3.0.0)\n",
            "Requirement already satisfied: websocket-client>=0.32.0 in /usr/local/lib/python3.10/dist-packages (from docker<7,>=4.0.0->mlflow<2.4.0->aeon[all_extras]) (1.6.4)\n",
            "Requirement already satisfied: itsdangerous>=2.0 in /usr/local/lib/python3.10/dist-packages (from Flask<3->mlflow<2.4.0->aeon[all_extras]) (2.1.2)\n",
            "Requirement already satisfied: triad>=0.9.3 in /usr/local/lib/python3.10/dist-packages (from fugue>=0.8.1->statsforecast>=0.5.2->aeon[all_extras]) (0.9.3)\n",
            "Requirement already satisfied: adagio>=0.2.4 in /usr/local/lib/python3.10/dist-packages (from fugue>=0.8.1->statsforecast>=0.5.2->aeon[all_extras]) (0.2.4)\n",
            "Requirement already satisfied: qpd>=0.4.4 in /usr/local/lib/python3.10/dist-packages (from fugue>=0.8.1->statsforecast>=0.5.2->aeon[all_extras]) (0.4.4)\n",
            "Requirement already satisfied: fugue-sql-antlr>=0.1.6 in /usr/local/lib/python3.10/dist-packages (from fugue>=0.8.1->statsforecast>=0.5.2->aeon[all_extras]) (0.1.8)\n",
            "Requirement already satisfied: sqlglot in /usr/local/lib/python3.10/dist-packages (from fugue>=0.8.1->statsforecast>=0.5.2->aeon[all_extras]) (17.16.2)\n",
            "Requirement already satisfied: gitdb<5,>=4.0.1 in /usr/local/lib/python3.10/dist-packages (from gitpython<4,>=2.1.0->mlflow<2.4.0->aeon[all_extras]) (4.0.11)\n",
            "Requirement already satisfied: zipp>=0.5 in /usr/local/lib/python3.10/dist-packages (from importlib-metadata!=4.7.0,<7,>=3.7.0->mlflow<2.4.0->aeon[all_extras]) (3.17.0)\n",
            "Requirement already satisfied: ml-dtypes>=0.2.0 in /usr/local/lib/python3.10/dist-packages (from jax>=0.3.15->tensorflow<2.13.0->aeon[all_extras]) (0.2.0)\n",
            "Requirement already satisfied: MarkupSafe>=2.0 in /usr/local/lib/python3.10/dist-packages (from Jinja2<4,>=2.11->mlflow<2.4.0->aeon[all_extras]) (2.1.3)\n",
            "Requirement already satisfied: tenacity>=6.2.0 in /usr/local/lib/python3.10/dist-packages (from plotly<6.0.0,>=5.5.0->plotly-resampler>=0.9.0->aeon[all_extras]) (8.2.3)\n",
            "Requirement already satisfied: platformdirs>=2.5.0 in /usr/local/lib/python3.10/dist-packages (from pooch>=1.5->mne->aeon[all_extras]) (3.11.0)\n",
            "Requirement already satisfied: charset-normalizer<4,>=2 in /usr/local/lib/python3.10/dist-packages (from requests<3,>=2.17.3->mlflow<2.4.0->aeon[all_extras]) (3.3.2)\n",
            "Requirement already satisfied: idna<4,>=2.5 in /usr/local/lib/python3.10/dist-packages (from requests<3,>=2.17.3->mlflow<2.4.0->aeon[all_extras]) (3.4)\n",
            "Requirement already satisfied: certifi>=2017.4.17 in /usr/local/lib/python3.10/dist-packages (from requests<3,>=2.17.3->mlflow<2.4.0->aeon[all_extras]) (2023.7.22)\n",
            "Requirement already satisfied: greenlet!=0.4.17 in /usr/local/lib/python3.10/dist-packages (from sqlalchemy<3,>=1.4.0->mlflow<2.4.0->aeon[all_extras]) (3.0.1)\n",
            "Requirement already satisfied: google-auth<3,>=1.6.3 in /usr/local/lib/python3.10/dist-packages (from tensorboard<2.13,>=2.12->tensorflow<2.13.0->aeon[all_extras]) (2.17.3)\n",
            "Requirement already satisfied: google-auth-oauthlib<1.1,>=0.5 in /usr/local/lib/python3.10/dist-packages (from tensorboard<2.13,>=2.12->tensorflow<2.13.0->aeon[all_extras]) (1.0.0)\n",
            "Requirement already satisfied: tensorboard-data-server<0.8.0,>=0.7.0 in /usr/local/lib/python3.10/dist-packages (from tensorboard<2.13,>=2.12->tensorflow<2.13.0->aeon[all_extras]) (0.7.2)\n",
            "Requirement already satisfied: antlr4-python3-runtime<4.12 in /usr/local/lib/python3.10/dist-packages (from fugue-sql-antlr>=0.1.6->fugue>=0.8.1->statsforecast>=0.5.2->aeon[all_extras]) (4.11.1)\n",
            "Requirement already satisfied: smmap<6,>=3.0.1 in /usr/local/lib/python3.10/dist-packages (from gitdb<5,>=4.0.1->gitpython<4,>=2.1.0->mlflow<2.4.0->aeon[all_extras]) (5.0.1)\n",
            "Requirement already satisfied: cachetools<6.0,>=2.0.0 in /usr/local/lib/python3.10/dist-packages (from google-auth<3,>=1.6.3->tensorboard<2.13,>=2.12->tensorflow<2.13.0->aeon[all_extras]) (5.3.2)\n",
            "Requirement already satisfied: pyasn1-modules>=0.2.1 in /usr/local/lib/python3.10/dist-packages (from google-auth<3,>=1.6.3->tensorboard<2.13,>=2.12->tensorflow<2.13.0->aeon[all_extras]) (0.3.0)\n",
            "Requirement already satisfied: rsa<5,>=3.1.4 in /usr/local/lib/python3.10/dist-packages (from google-auth<3,>=1.6.3->tensorboard<2.13,>=2.12->tensorflow<2.13.0->aeon[all_extras]) (4.9)\n",
            "Requirement already satisfied: requests-oauthlib>=0.7.0 in /usr/local/lib/python3.10/dist-packages (from google-auth-oauthlib<1.1,>=0.5->tensorboard<2.13,>=2.12->tensorflow<2.13.0->aeon[all_extras]) (1.3.1)\n",
            "Requirement already satisfied: fs in /usr/local/lib/python3.10/dist-packages (from triad>=0.9.3->fugue>=0.8.1->statsforecast>=0.5.2->aeon[all_extras]) (2.4.16)\n",
            "Requirement already satisfied: pyasn1<0.6.0,>=0.4.6 in /usr/local/lib/python3.10/dist-packages (from pyasn1-modules>=0.2.1->google-auth<3,>=1.6.3->tensorboard<2.13,>=2.12->tensorflow<2.13.0->aeon[all_extras]) (0.5.0)\n",
            "Requirement already satisfied: appdirs~=1.4.3 in /usr/local/lib/python3.10/dist-packages (from fs->triad>=0.9.3->fugue>=0.8.1->statsforecast>=0.5.2->aeon[all_extras]) (1.4.4)\n",
            "Installing collected packages: tensorflow-estimator, keras, tensorboard, tensorflow\n",
            "  Attempting uninstall: tensorflow-estimator\n",
            "    Found existing installation: tensorflow-estimator 2.15.0\n",
            "    Uninstalling tensorflow-estimator-2.15.0:\n",
            "      Successfully uninstalled tensorflow-estimator-2.15.0\n",
            "  Attempting uninstall: keras\n",
            "    Found existing installation: keras 2.15.0\n",
            "    Uninstalling keras-2.15.0:\n",
            "      Successfully uninstalled keras-2.15.0\n",
            "  Attempting uninstall: tensorboard\n",
            "    Found existing installation: tensorboard 2.15.1\n",
            "    Uninstalling tensorboard-2.15.1:\n",
            "      Successfully uninstalled tensorboard-2.15.1\n",
            "  Attempting uninstall: tensorflow\n",
            "    Found existing installation: tensorflow 2.15.0\n",
            "    Uninstalling tensorflow-2.15.0:\n",
            "      Successfully uninstalled tensorflow-2.15.0\n",
            "Successfully installed keras-2.12.0 tensorboard-2.12.3 tensorflow-2.12.1 tensorflow-estimator-2.12.0\n"
          ]
        }
      ]
    },
    {
      "cell_type": "code",
      "source": [
        "import logging\n",
        "import os\n",
        "import warnings\n",
        "from argparse import ArgumentParser\n",
        "from aeon.datasets import load_classification\n",
        "\n",
        "from tensorflow import keras\n",
        "import matplotlib.pyplot as plt\n",
        "import numpy as np\n",
        "import pandas as pd\n",
        "import tensorflow as tf\n",
        "from scipy.spatial import distance_matrix\n",
        "from sklearn.metrics import balanced_accuracy_score, confusion_matrix\n",
        "from sklearn.model_selection import train_test_split\n",
        "from sklearn.neighbors import KDTree, KNeighborsClassifier\n",
        "from sklearn.preprocessing import MinMaxScaler\n",
        "from wildboar.datasets import load_dataset\n",
        "from wildboar.ensemble import ShapeletForestClassifier\n",
        "from wildboar.explain.counterfactual import counterfactuals\n",
        "%cd '/content/LatentCfMultivariate'\n",
        "from _guided import ModifiedLatentCF\n",
        "from help_functions import *\n",
        "from keras_models import *"
      ],
      "metadata": {
        "colab": {
          "base_uri": "https://localhost:8080/"
        },
        "id": "Bdkpan5lCGRH",
        "outputId": "ba067a29-e8b8-4417-f851-0cbacb707e80"
      },
      "execution_count": 3,
      "outputs": [
        {
          "output_type": "stream",
          "name": "stdout",
          "text": [
            "/content/LatentCfMultivariate\n"
          ]
        }
      ]
    },
    {
      "cell_type": "code",
      "source": [
        "os.environ['TF_DETERMINISTIC_OPS'] = '1'\n",
        "config = tf.compat.v1.ConfigProto()\n",
        "config.gpu_options.allow_growth = True\n",
        "session = tf.compat.v1.Session(config=config)\n",
        "RANDOM_STATE = 39"
      ],
      "metadata": {
        "id": "GJE1AxFnE51S"
      },
      "execution_count": 4,
      "outputs": []
    },
    {
      "cell_type": "markdown",
      "source": [
        "## **FUNCTIONS**"
      ],
      "metadata": {
        "id": "IHBw9E_4Zm5b"
      }
    },
    {
      "cell_type": "code",
      "source": [
        "def load_dataset(dataset):\n",
        "  X, y, meta_data = load_classification(dataset)\n",
        "  if dataset == 'Heartbeat':\n",
        "    pos = 'normal'\n",
        "    neg = 'abnormal'\n",
        "    X = X.transpose(0,2,1)\n",
        "  if dataset == 'SelfRegulationSCP1':\n",
        "    pos = 'positivity'\n",
        "    neg = 'negativity'\n",
        "    X = X.transpose(0,2,1)\n",
        "  if dataset == 'Cricket':\n",
        "    return X,y,meta_data\n",
        "  if dataset == 'SpokenArabicDigits':\n",
        "    return X,y,meta_data\n",
        "  if dataset == 'PenDigits':\n",
        "    return X,y,meta_data\n",
        "\n",
        "  print(\" Shape of X = \", X.shape)\n",
        "  print(\" Shape of y = \", y.shape)\n",
        "  print(\" Meta data = \", meta_data)\n",
        "  # Convert positive and negative labels to 1 and 0\n",
        "  pos_label, neg_label = 1, 0\n",
        "  if pos != pos_label:\n",
        "      y[y==pos] = pos_label # convert/normalize positive label to 1\n",
        "  if neg != neg_label:\n",
        "      y[y==neg] = neg_label # convert negative label to 0\n",
        "\n",
        "  y = y.astype(int)\n",
        "  print(f\"\\n X[:1] = \\n{X[:1]}\")\n",
        "  return X,y,pos_label, neg_label"
      ],
      "metadata": {
        "id": "QsJJktx22dXs"
      },
      "execution_count": 5,
      "outputs": []
    },
    {
      "cell_type": "markdown",
      "source": [
        "# **ACTUALL CODE**\n",
        "datasets available : 'Heartbeat', 'SelfRegulationSCP1'"
      ],
      "metadata": {
        "id": "6vVfmpyuZyC6"
      }
    },
    {
      "cell_type": "code",
      "source": [
        "RANDOM_STATE = 39\n",
        "X,y,data_information = load_dataset('PenDigits')\n",
        "print(f'shape of X = {X.shape}')\n",
        "print(f'shape of y = {y.shape}')\n",
        "print(f'data imformation = {data_information}')\n",
        "X_train, X_test, y_train, y_test = train_test_split(X, y, test_size=0.2, random_state=RANDOM_STATE, stratify=y)\n",
        "print(f'shape of X train = {X_train.shape}')\n",
        "print(f'shape of y train = {y_train.shape}')"
      ],
      "metadata": {
        "id": "W4m9pwqyVY1b",
        "outputId": "54467986-152d-42dc-aff6-864199262ff7",
        "colab": {
          "base_uri": "https://localhost:8080/"
        }
      },
      "execution_count": 6,
      "outputs": [
        {
          "output_type": "stream",
          "name": "stdout",
          "text": [
            "shape of X = (10992, 2, 8)\n",
            "shape of y = (10992,)\n",
            "data imformation = {'problemname': 'pendigits', 'timestamps': False, 'missing': False, 'univariate': False, 'equallength': True, 'classlabel': True, 'targetlabel': False, 'class_values': ['0', '1', '2', '3', '4', '5', '6', '7', '8', '9']}\n",
            "shape of X train = (8793, 2, 8)\n",
            "shape of y train = (8793,)\n"
          ]
        }
      ]
    },
    {
      "cell_type": "code",
      "source": [
        "# Upsample the minority class\n",
        "unique_classes, class_counts = np.unique(y_train, return_counts=True)\n",
        "print(f'before: {class_counts}')\n",
        "X_train,y_train = upsample_minority_multivariate(X_train,y_train)\n",
        "unique_classes, class_counts = np.unique(y_train, return_counts=True)\n",
        "print(f'after: {class_counts}')"
      ],
      "metadata": {
        "id": "Q2v7QdrHieA8",
        "outputId": "b10ba234-d63a-41b8-e950-172b19f3ba57",
        "colab": {
          "base_uri": "https://localhost:8080/"
        }
      },
      "execution_count": 7,
      "outputs": [
        {
          "output_type": "stream",
          "name": "stdout",
          "text": [
            "before: [914 914 915 844 915 844 845 914 844 844]\n",
            "after: [915 915 915 915 915 915 915 915 915 915]\n"
          ]
        }
      ]
    },
    {
      "cell_type": "code",
      "source": [
        "X_train = X_train.transpose (0,2,1)\n",
        "X_test = X_test.transpose(0,2,1)\n",
        "n_training,n_timesteps, n_features= X_train.shape\n",
        "\n",
        "X_train_processed, trained_scaler =  normalize_multivariate(data=X_train, n_timesteps=n_timesteps, n_features = n_features)\n",
        "X_test_processed, _ =  normalize_multivariate(data=X_test, n_timesteps=n_timesteps, scaler=trained_scaler, n_features = n_features)\n",
        "\n",
        "X_train_processed_padded, padding_size = conditional_pad_multivariate(X_train_processed) # add extra padding zeros if n_timesteps cannot be divided by 4, required for 1dCNN autoencoder structure\n",
        "X_test_processed_padded, _ = conditional_pad_multivariate(X_test_processed)\n",
        "\n",
        "n_timesteps_padded = X_train_processed_padded.shape[1]\n",
        "print(f\"Data pre-processed, original #timesteps={n_timesteps}, padded #timesteps={n_timesteps_padded}.\")\n",
        "\n",
        "#check the processing (0,1) min should be min 0 and max should be max 1\n",
        "print(f\"\\nmin value = {np.min(X_train)}, max value = {np.max(X_train)}\")\n",
        "print(f\"min value normalized = {np.min(X_train_processed)}, max value normalized= {np.max(X_train_processed)}\")\n",
        "\n",
        "#check that padding paddes the right dimention\n",
        "print(f\"\\nX_train.shape = {X_train.shape}\" )\n",
        "print(f\"X_train_processed_padded.shape = {X_train_processed_padded.shape}\")\n"
      ],
      "metadata": {
        "id": "00Q9QjKy7wEZ",
        "outputId": "260a901a-3ffd-407c-b9f1-37d8ee1ff61c",
        "colab": {
          "base_uri": "https://localhost:8080/"
        }
      },
      "execution_count": 8,
      "outputs": [
        {
          "output_type": "stream",
          "name": "stdout",
          "text": [
            "Data pre-processed, original #timesteps=8, padded #timesteps=8.\n",
            "\n",
            "min value = 0.0, max value = 100.0\n",
            "min value normalized = 0.0, max value normalized= 1.0\n",
            "\n",
            "X_train.shape = (9150, 8, 2)\n",
            "X_train_processed_padded.shape = (9150, 8, 2)\n"
          ]
        }
      ]
    },
    {
      "cell_type": "code",
      "source": [
        "visualise_digit(X_train,y_train,9100)"
      ],
      "metadata": {
        "colab": {
          "base_uri": "https://localhost:8080/",
          "height": 504
        },
        "id": "JCcZ6Uai6huz",
        "outputId": "5a8d990d-8417-4edd-e461-89bb52c56625"
      },
      "execution_count": 9,
      "outputs": [
        {
          "output_type": "stream",
          "name": "stdout",
          "text": [
            "y = 9\n"
          ]
        },
        {
          "output_type": "display_data",
          "data": {
            "text/plain": [
              "<Figure size 500x500 with 1 Axes>"
            ],
            "image/png": "[encoded data removed]"
          },
          "metadata": {}
        }
      ]
    },
    {
      "cell_type": "code",
      "source": [
        "X_train, y_train, X_test, y_test= extract_two_digits(X_train_processed_padded,y_train,X_test_processed_padded,y_test,'0','8',RANDOM_STATE)"
      ],
      "metadata": {
        "colab": {
          "base_uri": "https://localhost:8080/"
        },
        "id": "raRgWg7xpPvO",
        "outputId": "671a05a9-c742-4746-cf38-aec4e302e471"
      },
      "execution_count": 10,
      "outputs": [
        {
          "output_type": "stream",
          "name": "stdout",
          "text": [
            "Class 0 represents number 0. [1.,0.]\n",
            "Class 1 represents number 8. [0.,1.]\n"
          ]
        }
      ]
    },
    {
      "cell_type": "code",
      "source": [
        "visualise_digit(X_train,y_train,100)"
      ],
      "metadata": {
        "colab": {
          "base_uri": "https://localhost:8080/",
          "height": 504
        },
        "id": "S5EVZu2e639l",
        "outputId": "9b0f788b-5e16-4d05-bf07-abda8952633e"
      },
      "execution_count": 11,
      "outputs": [
        {
          "output_type": "stream",
          "name": "stdout",
          "text": [
            "y = 0\n"
          ]
        },
        {
          "output_type": "display_data",
          "data": {
            "text/plain": [
              "<Figure size 500x500 with 1 Axes>"
            ],
            "image/png": "[encoded data removed]"
          },
          "metadata": {}
        }
      ]
    },
    {
      "cell_type": "code",
      "source": [
        "from sklearn.model_selection import train_test_split\n",
        "X_train,X_validation, y_train, y_validation = train_test_split(X_train, y_train, test_size=0.2, random_state=RANDOM_STATE, stratify=y_train)"
      ],
      "metadata": {
        "id": "1mYFZmsvtB9q"
      },
      "execution_count": 12,
      "outputs": []
    },
    {
      "cell_type": "code",
      "source": [
        "print(f'X_train = {X_train.shape}')\n",
        "print(f'X_validation = {X_validation.shape}')\n",
        "print(f'X_test = {X_test.shape}')\n",
        "\n",
        "y_train_classes = y_train\n",
        "y_validation_classes = y_validation\n",
        "y_test_classes = y_test\n",
        "\n",
        "from tensorflow.keras.utils import to_categorical\n",
        "y_train = to_categorical(y_train, len(np.unique(y_train)))\n",
        "y_validation = to_categorical(y_validation, len(np.unique(y_validation)))\n",
        "y_test = to_categorical(y_test, len(np.unique(y_test)))\n",
        "\n",
        "print(f'\\ny_train_classes = {y_train_classes.shape}, y_validation_classes = {y_validation_classes.shape}, y_test_classes = {y_test_classes.shape}')\n",
        "print(f'y_train = {y_train.shape}, y_validation = {y_validation.shape}, y_test= {y_test.shape}')"
      ],
      "metadata": {
        "colab": {
          "base_uri": "https://localhost:8080/"
        },
        "id": "x9b2F-vytxzU",
        "outputId": "208b247a-8b1c-46ae-d17f-f19d62b4e6ab"
      },
      "execution_count": 13,
      "outputs": [
        {
          "output_type": "stream",
          "name": "stdout",
          "text": [
            "X_train = (1464, 8, 2)\n",
            "X_validation = (366, 8, 2)\n",
            "X_test = (440, 8, 2)\n",
            "\n",
            "y_train_classes = (1464,), y_validation_classes = (366,), y_test_classes = (440,)\n",
            "y_train = (1464, 2), y_validation = (366, 2), y_test= (440, 2)\n"
          ]
        }
      ]
    },
    {
      "cell_type": "code",
      "source": [
        "visualise_digit(X_train,y_train_classes,100)"
      ],
      "metadata": {
        "id": "2p2c44KvJNGv",
        "outputId": "cc901f02-c4ec-4dd3-b118-3cbfb9626c76",
        "colab": {
          "base_uri": "https://localhost:8080/",
          "height": 504
        }
      },
      "execution_count": 14,
      "outputs": [
        {
          "output_type": "stream",
          "name": "stdout",
          "text": [
            "y = 0\n"
          ]
        },
        {
          "output_type": "display_data",
          "data": {
            "text/plain": [
              "<Figure size 500x500 with 1 Axes>"
            ],
            "image/png": "[encoded data removed]"
          },
          "metadata": {}
        }
      ]
    },
    {
      "cell_type": "code",
      "source": [
        "\n",
        "\n",
        "# ## 2. LatentCF models\n",
        "# reset seeds for numpy, tensorflow, python random package and python environment seed\n",
        "reset_seeds()\n",
        "###############################################\n",
        "# ### 1dCNN classifier\n",
        "\n",
        "cnnClassifier = Classifier(\n",
        "    n_timesteps_padded, n_features, n_output=2, add_dense_layer = False\n",
        ")\n",
        "\n",
        "optimizer = keras.optimizers.Adam(lr=0.001)\n",
        "cnnClassifier.compile(\n",
        "    optimizer=optimizer, loss=\"binary_crossentropy\", metrics=[\"accuracy\"]\n",
        ")\n",
        "\n",
        "# Define the early stopping criteria\n",
        "early_stopping_accuracy = keras.callbacks.EarlyStopping(\n",
        "    monitor=\"val_accuracy\", patience=15, restore_best_weights=True\n",
        ")\n",
        "# Train the model\n",
        "reset_seeds()\n",
        "print(\"Training log for LSTM-FCN classifier:\")\n",
        "classifier_history = cnnClassifier.fit(\n",
        "    X_train,\n",
        "    y_train,\n",
        "    epochs=150,\n",
        "    batch_size=12,\n",
        "    shuffle=True,\n",
        "    verbose=True,\n",
        "    validation_data=(X_validation, y_validation),\n",
        "    callbacks=[early_stopping_accuracy],\n",
        ")\n",
        "\n",
        "y_pred = cnnClassifier.predict(X_test)\n",
        "y_pred_classes = np.argmax(y_pred, axis=1)\n",
        "acc = balanced_accuracy_score(y_true=y_test_classes, y_pred=y_pred_classes)\n",
        "print(f\"LSTM-FCN classifier trained, with validation accuracy {acc}.\")\n",
        "\n",
        "confusion_matrix_df = pd.DataFrame(\n",
        "    confusion_matrix(y_true=y_test_classes, y_pred=y_pred_classes, labels=[1, 0]),\n",
        "    index=[\"True:8\", \"True:0\"],\n",
        "    columns=[\"Pred:8\", \"Pred:0\"],\n",
        ")\n",
        "print(confusion_matrix_df)\n"
      ],
      "metadata": {
        "id": "yNkKTXe6IIyF",
        "outputId": "3e624d39-73c6-4df0-f1d1-9afff953879f",
        "colab": {
          "base_uri": "https://localhost:8080/"
        }
      },
      "execution_count": 15,
      "outputs": [
        {
          "output_type": "stream",
          "name": "stderr",
          "text": [
            "WARNING:absl:`lr` is deprecated in Keras optimizer, please use `learning_rate` or use the legacy optimizer, e.g.,tf.keras.optimizers.legacy.Adam.\n"
          ]
        },
        {
          "output_type": "stream",
          "name": "stdout",
          "text": [
            "Training log for LSTM-FCN classifier:\n",
            "Epoch 1/150\n",
            "122/122 [==============================] - 19s 18ms/step - loss: 0.2667 - accuracy: 0.9351 - val_loss: 0.5366 - val_accuracy: 0.9672\n",
            "Epoch 2/150\n",
            "122/122 [==============================] - 1s 10ms/step - loss: 0.1068 - accuracy: 0.9843 - val_loss: 0.3415 - val_accuracy: 0.9809\n",
            "Epoch 3/150\n",
            "122/122 [==============================] - 2s 14ms/step - loss: 0.0813 - accuracy: 0.9945 - val_loss: 0.1931 - val_accuracy: 0.9973\n",
            "Epoch 4/150\n",
            "122/122 [==============================] - 2s 14ms/step - loss: 0.0698 - accuracy: 0.9952 - val_loss: 0.0992 - val_accuracy: 0.9973\n",
            "Epoch 5/150\n",
            "122/122 [==============================] - 1s 10ms/step - loss: 0.0625 - accuracy: 0.9959 - val_loss: 0.0692 - val_accuracy: 0.9973\n",
            "Epoch 6/150\n",
            "122/122 [==============================] - 1s 10ms/step - loss: 0.0542 - accuracy: 0.9986 - val_loss: 0.0574 - val_accuracy: 0.9973\n",
            "Epoch 7/150\n",
            "122/122 [==============================] - 1s 7ms/step - loss: 0.0500 - accuracy: 1.0000 - val_loss: 0.0512 - val_accuracy: 0.9973\n",
            "Epoch 8/150\n",
            "122/122 [==============================] - 1s 8ms/step - loss: 0.0458 - accuracy: 1.0000 - val_loss: 0.0475 - val_accuracy: 0.9973\n",
            "Epoch 9/150\n",
            "122/122 [==============================] - 1s 5ms/step - loss: 0.0437 - accuracy: 0.9993 - val_loss: 0.0451 - val_accuracy: 0.9973\n",
            "Epoch 10/150\n",
            "122/122 [==============================] - 1s 5ms/step - loss: 0.0395 - accuracy: 1.0000 - val_loss: 0.0433 - val_accuracy: 0.9973\n",
            "Epoch 11/150\n",
            "122/122 [==============================] - 1s 4ms/step - loss: 0.0373 - accuracy: 1.0000 - val_loss: 0.0404 - val_accuracy: 0.9973\n",
            "Epoch 12/150\n",
            "122/122 [==============================] - 0s 4ms/step - loss: 0.0351 - accuracy: 1.0000 - val_loss: 0.0385 - val_accuracy: 0.9973\n",
            "Epoch 13/150\n",
            "122/122 [==============================] - 1s 4ms/step - loss: 0.0338 - accuracy: 1.0000 - val_loss: 0.0376 - val_accuracy: 0.9973\n",
            "Epoch 14/150\n",
            "122/122 [==============================] - 1s 4ms/step - loss: 0.0323 - accuracy: 1.0000 - val_loss: 0.0357 - val_accuracy: 0.9973\n",
            "Epoch 15/150\n",
            "122/122 [==============================] - 1s 5ms/step - loss: 0.0317 - accuracy: 0.9993 - val_loss: 0.0349 - val_accuracy: 0.9973\n",
            "Epoch 16/150\n",
            "122/122 [==============================] - 1s 4ms/step - loss: 0.0309 - accuracy: 1.0000 - val_loss: 0.0368 - val_accuracy: 0.9973\n",
            "Epoch 17/150\n",
            "122/122 [==============================] - 1s 4ms/step - loss: 0.0289 - accuracy: 1.0000 - val_loss: 0.0326 - val_accuracy: 0.9973\n",
            "Epoch 18/150\n",
            "122/122 [==============================] - 1s 5ms/step - loss: 0.0289 - accuracy: 1.0000 - val_loss: 0.0329 - val_accuracy: 0.9973\n",
            "14/14 [==============================] - 0s 3ms/step\n",
            "LSTM-FCN classifier trained, with validation accuracy 0.9861545147871438.\n",
            "        Pred:8  Pred:0\n",
            "True:8     207       4\n",
            "True:0       2     227\n"
          ]
        }
      ]
    },
    {
      "cell_type": "code",
      "source": [
        "reset_seeds()\n",
        "\n",
        "\n",
        "# ### 1dCNN autoencoder\n",
        "autoencoder = Autoencoder( n_timesteps_padded,n_features,32)\n",
        "optimizer = keras.optimizers.Adam(lr=0.0005)\n",
        "autoencoder.compile(optimizer=optimizer, loss=\"mse\")\n",
        "\n",
        "# Define the early stopping criteria\n",
        "early_stopping = keras.callbacks.EarlyStopping(monitor='val_loss', min_delta=0.0001, patience=5, restore_best_weights=True)\n",
        "# Train the model\n",
        "reset_seeds()\n",
        "print(\"Training log for 1dCNN autoencoder:\")\n",
        "autoencoder_history = autoencoder.fit(\n",
        "    X_train,\n",
        "    X_train,\n",
        "    epochs=50,\n",
        "    batch_size=12,\n",
        "    shuffle=True,\n",
        "    verbose=2,\n",
        "    validation_data=(X_validation, X_validation),\n",
        "    callbacks=[early_stopping])\n",
        "\n",
        "ae_val_loss = np.min(autoencoder_history.history['val_loss'])\n",
        "print(f\"1dCNN autoencoder trained, with validation loss: {ae_val_loss}.\")\n"
      ],
      "metadata": {
        "id": "E6IxH8BLEKFG",
        "outputId": "d316d76a-057f-4510-bb1a-55da960fd823",
        "colab": {
          "base_uri": "https://localhost:8080/"
        }
      },
      "execution_count": 16,
      "outputs": [
        {
          "output_type": "stream",
          "name": "stdout",
          "text": [
            "(None, 8, 2)\n",
            "(None, 8, 32)\n",
            "(None, 4, 32)\n",
            "(None, 4, 16)\n",
            "(None, 2, 16)\n",
            "(None, 2, 16)\n",
            "(None, 4, 16)\n",
            "(None, 4, 32)\n"
          ]
        },
        {
          "output_type": "stream",
          "name": "stderr",
          "text": [
            "WARNING:absl:`lr` is deprecated in Keras optimizer, please use `learning_rate` or use the legacy optimizer, e.g.,tf.keras.optimizers.legacy.Adam.\n"
          ]
        },
        {
          "output_type": "stream",
          "name": "stdout",
          "text": [
            "(None, 8, 32)\n",
            "(None, 8, 2)\n",
            "Training log for 1dCNN autoencoder:\n",
            "Epoch 1/50\n",
            "122/122 - 3s - loss: 0.1447 - val_loss: 0.0482 - 3s/epoch - 27ms/step\n",
            "Epoch 2/50\n",
            "122/122 - 1s - loss: 0.0321 - val_loss: 0.0222 - 618ms/epoch - 5ms/step\n",
            "Epoch 3/50\n",
            "122/122 - 1s - loss: 0.0175 - val_loss: 0.0143 - 603ms/epoch - 5ms/step\n",
            "Epoch 4/50\n",
            "122/122 - 1s - loss: 0.0123 - val_loss: 0.0104 - 539ms/epoch - 4ms/step\n",
            "Epoch 5/50\n",
            "122/122 - 1s - loss: 0.0091 - val_loss: 0.0080 - 598ms/epoch - 5ms/step\n",
            "Epoch 6/50\n",
            "122/122 - 1s - loss: 0.0075 - val_loss: 0.0065 - 548ms/epoch - 4ms/step\n",
            "Epoch 7/50\n",
            "122/122 - 1s - loss: 0.0063 - val_loss: 0.0058 - 605ms/epoch - 5ms/step\n",
            "Epoch 8/50\n",
            "122/122 - 1s - loss: 0.0055 - val_loss: 0.0050 - 529ms/epoch - 4ms/step\n",
            "Epoch 9/50\n",
            "122/122 - 1s - loss: 0.0049 - val_loss: 0.0048 - 626ms/epoch - 5ms/step\n",
            "Epoch 10/50\n",
            "122/122 - 1s - loss: 0.0045 - val_loss: 0.0043 - 522ms/epoch - 4ms/step\n",
            "Epoch 11/50\n",
            "122/122 - 1s - loss: 0.0041 - val_loss: 0.0042 - 549ms/epoch - 4ms/step\n",
            "Epoch 12/50\n",
            "122/122 - 1s - loss: 0.0038 - val_loss: 0.0039 - 544ms/epoch - 4ms/step\n",
            "Epoch 13/50\n",
            "122/122 - 1s - loss: 0.0035 - val_loss: 0.0035 - 599ms/epoch - 5ms/step\n",
            "Epoch 14/50\n",
            "122/122 - 1s - loss: 0.0033 - val_loss: 0.0034 - 682ms/epoch - 6ms/step\n",
            "Epoch 15/50\n",
            "122/122 - 1s - loss: 0.0031 - val_loss: 0.0033 - 680ms/epoch - 6ms/step\n",
            "Epoch 16/50\n",
            "122/122 - 1s - loss: 0.0030 - val_loss: 0.0030 - 701ms/epoch - 6ms/step\n",
            "Epoch 17/50\n",
            "122/122 - 1s - loss: 0.0028 - val_loss: 0.0031 - 703ms/epoch - 6ms/step\n",
            "Epoch 18/50\n",
            "122/122 - 1s - loss: 0.0027 - val_loss: 0.0028 - 740ms/epoch - 6ms/step\n",
            "Epoch 19/50\n",
            "122/122 - 1s - loss: 0.0025 - val_loss: 0.0030 - 784ms/epoch - 6ms/step\n",
            "Epoch 20/50\n",
            "122/122 - 1s - loss: 0.0026 - val_loss: 0.0027 - 838ms/epoch - 7ms/step\n",
            "Epoch 21/50\n",
            "122/122 - 1s - loss: 0.0024 - val_loss: 0.0025 - 795ms/epoch - 7ms/step\n",
            "Epoch 22/50\n",
            "122/122 - 1s - loss: 0.0022 - val_loss: 0.0023 - 845ms/epoch - 7ms/step\n",
            "Epoch 23/50\n",
            "122/122 - 1s - loss: 0.0022 - val_loss: 0.0024 - 811ms/epoch - 7ms/step\n",
            "Epoch 24/50\n",
            "122/122 - 1s - loss: 0.0021 - val_loss: 0.0025 - 805ms/epoch - 7ms/step\n",
            "Epoch 25/50\n",
            "122/122 - 1s - loss: 0.0021 - val_loss: 0.0020 - 811ms/epoch - 7ms/step\n",
            "Epoch 26/50\n",
            "122/122 - 1s - loss: 0.0019 - val_loss: 0.0020 - 771ms/epoch - 6ms/step\n",
            "Epoch 27/50\n",
            "122/122 - 1s - loss: 0.0018 - val_loss: 0.0020 - 837ms/epoch - 7ms/step\n",
            "Epoch 28/50\n",
            "122/122 - 1s - loss: 0.0018 - val_loss: 0.0019 - 822ms/epoch - 7ms/step\n",
            "Epoch 29/50\n",
            "122/122 - 1s - loss: 0.0017 - val_loss: 0.0018 - 556ms/epoch - 5ms/step\n",
            "Epoch 30/50\n",
            "122/122 - 1s - loss: 0.0016 - val_loss: 0.0018 - 612ms/epoch - 5ms/step\n",
            "Epoch 31/50\n",
            "122/122 - 1s - loss: 0.0016 - val_loss: 0.0018 - 537ms/epoch - 4ms/step\n",
            "Epoch 32/50\n",
            "122/122 - 1s - loss: 0.0015 - val_loss: 0.0017 - 518ms/epoch - 4ms/step\n",
            "Epoch 33/50\n",
            "122/122 - 1s - loss: 0.0015 - val_loss: 0.0017 - 551ms/epoch - 5ms/step\n",
            "Epoch 34/50\n",
            "122/122 - 1s - loss: 0.0014 - val_loss: 0.0015 - 533ms/epoch - 4ms/step\n",
            "Epoch 35/50\n",
            "122/122 - 1s - loss: 0.0014 - val_loss: 0.0014 - 528ms/epoch - 4ms/step\n",
            "Epoch 36/50\n",
            "122/122 - 1s - loss: 0.0014 - val_loss: 0.0014 - 602ms/epoch - 5ms/step\n",
            "Epoch 37/50\n",
            "122/122 - 1s - loss: 0.0013 - val_loss: 0.0014 - 619ms/epoch - 5ms/step\n",
            "Epoch 38/50\n",
            "122/122 - 1s - loss: 0.0013 - val_loss: 0.0013 - 570ms/epoch - 5ms/step\n",
            "Epoch 39/50\n",
            "122/122 - 1s - loss: 0.0012 - val_loss: 0.0013 - 606ms/epoch - 5ms/step\n",
            "Epoch 40/50\n",
            "122/122 - 1s - loss: 0.0012 - val_loss: 0.0013 - 542ms/epoch - 4ms/step\n",
            "Epoch 41/50\n",
            "122/122 - 1s - loss: 0.0012 - val_loss: 0.0014 - 549ms/epoch - 4ms/step\n",
            "Epoch 42/50\n",
            "122/122 - 1s - loss: 0.0012 - val_loss: 0.0012 - 559ms/epoch - 5ms/step\n",
            "Epoch 43/50\n",
            "122/122 - 1s - loss: 0.0011 - val_loss: 0.0012 - 539ms/epoch - 4ms/step\n",
            "Epoch 44/50\n",
            "122/122 - 1s - loss: 0.0011 - val_loss: 0.0011 - 618ms/epoch - 5ms/step\n",
            "Epoch 45/50\n",
            "122/122 - 1s - loss: 0.0011 - val_loss: 0.0012 - 591ms/epoch - 5ms/step\n",
            "Epoch 46/50\n",
            "122/122 - 1s - loss: 0.0010 - val_loss: 0.0012 - 598ms/epoch - 5ms/step\n",
            "Epoch 47/50\n",
            "122/122 - 1s - loss: 0.0011 - val_loss: 0.0012 - 708ms/epoch - 6ms/step\n",
            "Epoch 48/50\n",
            "122/122 - 1s - loss: 0.0010 - val_loss: 0.0012 - 722ms/epoch - 6ms/step\n",
            "1dCNN autoencoder trained, with validation loss: 0.0011495905928313732.\n"
          ]
        }
      ]
    },
    {
      "cell_type": "code",
      "source": [
        "idx = 0\n",
        "sample = X_test[idx:idx+1]\n",
        "sample_label = y_test[idx:idx+1]\n",
        "autoencoded_sample = autoencoder.predict(sample)\n",
        "visualise_decoded_digit(autoencoded_sample,sample_label)\n",
        "visualise_digit(X_test,y_test,idx)"
      ],
      "metadata": {
        "id": "KGldOuWp06wB",
        "outputId": "b1dae3b4-43f9-4be2-9024-7dc2380a4187",
        "colab": {
          "base_uri": "https://localhost:8080/",
          "height": 1000
        }
      },
      "execution_count": 17,
      "outputs": [
        {
          "output_type": "stream",
          "name": "stdout",
          "text": [
            "1/1 [==============================] - 0s 125ms/step\n",
            "y = [[0. 1.]]\n"
          ]
        },
        {
          "output_type": "display_data",
          "data": {
            "text/plain": [
              "<Figure size 500x500 with 1 Axes>"
            ],
            "image/png": "[encoded data removed]"
          },
          "metadata": {}
        },
        {
          "output_type": "stream",
          "name": "stdout",
          "text": [
            "y = [0. 1.]\n"
          ]
        },
        {
          "output_type": "display_data",
          "data": {
            "text/plain": [
              "<Figure size 500x500 with 1 Axes>"
            ],
            "image/png": "[encoded data removed]"
          },
          "metadata": {}
        }
      ]
    },
    {
      "cell_type": "code",
      "source": [
        "from _guided import get_global_weights\n",
        "PRED_MARGIN_W_LIST = [1]\n",
        "from help_functions import evaluate\n",
        "w_type = \"global\"\n",
        "pos_label = 1\n",
        "neg_label = 0\n",
        "\n",
        "if w_type == \"global\":\n",
        "    step_weights = get_global_weights(\n",
        "        X_train,\n",
        "        y_train_classes,\n",
        "        cnnClassifier,\n",
        "        n_timesteps= n_timesteps,\n",
        "        n_features=n_features,\n",
        "        random_state=RANDOM_STATE,\n",
        "    )\n",
        "elif w_type == \"uniform\":\n",
        "    step_weights = np.ones((1, n_timesteps_padded, n_features))\n",
        "elif w_type.lower() == \"local\":\n",
        "    step_weights = \"local\"\n",
        "else:\n",
        "    raise NotImplementedError(\n",
        "        \"A.w_type not implemented, please choose 'local', 'global' or 'uniform'.\"\n",
        "    )\n",
        "### Evaluation metrics\n",
        "for pred_margin_weight in PRED_MARGIN_W_LIST:\n",
        "    print(f\"The current prediction margin weight is {pred_margin_weight}.\")\n",
        "\n",
        "    # get the negative predictions, which is class abnormal (0); (normal is class 1)\n",
        "    X_pred_neg = X_test[y_pred_classes == neg_label][20:30]\n",
        "    y_pred_neg = y_pred_classes[y_pred_classes==neg_label][10:20]\n",
        "    lr_list = [0.001]\n"
      ],
      "metadata": {
        "id": "hysd9dxSsx9h",
        "outputId": "6c9a4b52-b01e-4d94-cca9-2775d8463333",
        "colab": {
          "base_uri": "https://localhost:8080/"
        }
      },
      "execution_count": 18,
      "outputs": [
        {
          "output_type": "stream",
          "name": "stdout",
          "text": [
            "46/46 [==============================] - 0s 2ms/step\n",
            "46/46 [==============================] - 0s 2ms/step\n",
            "46/46 [==============================] - 0s 2ms/step\n",
            "46/46 [==============================] - 0s 2ms/step\n",
            "46/46 [==============================] - 0s 2ms/step\n",
            "46/46 [==============================] - 0s 2ms/step\n",
            "46/46 [==============================] - 0s 2ms/step\n",
            "46/46 [==============================] - 0s 2ms/step\n",
            "46/46 [==============================] - 0s 2ms/step\n",
            "46/46 [==============================] - 0s 2ms/step\n",
            "46/46 [==============================] - 0s 2ms/step\n",
            "46/46 [==============================] - 0s 2ms/step\n",
            "46/46 [==============================] - 0s 2ms/step\n",
            "46/46 [==============================] - 0s 2ms/step\n",
            "46/46 [==============================] - 0s 2ms/step\n",
            "46/46 [==============================] - 0s 2ms/step\n",
            "46/46 [==============================] - 0s 2ms/step\n",
            "46/46 [==============================] - 0s 2ms/step\n",
            "46/46 [==============================] - 0s 2ms/step\n",
            "46/46 [==============================] - 0s 2ms/step\n",
            "46/46 [==============================] - 0s 2ms/step\n",
            "46/46 [==============================] - 0s 2ms/step\n",
            "46/46 [==============================] - 0s 2ms/step\n",
            "46/46 [==============================] - 0s 2ms/step\n",
            "46/46 [==============================] - 0s 2ms/step\n",
            "46/46 [==============================] - 0s 2ms/step\n",
            "46/46 [==============================] - 0s 2ms/step\n",
            "46/46 [==============================] - 0s 2ms/step\n",
            "46/46 [==============================] - 0s 2ms/step\n",
            "46/46 [==============================] - 0s 2ms/step\n",
            "46/46 [==============================] - 0s 2ms/step\n",
            "46/46 [==============================] - 0s 2ms/step\n",
            "46/46 [==============================] - 0s 2ms/step\n",
            "46/46 [==============================] - 0s 2ms/step\n",
            "46/46 [==============================] - 0s 2ms/step\n",
            "46/46 [==============================] - 0s 2ms/step\n",
            "46/46 [==============================] - 0s 2ms/step\n",
            "46/46 [==============================] - 0s 2ms/step\n",
            "46/46 [==============================] - 0s 2ms/step\n",
            "46/46 [==============================] - 0s 2ms/step\n",
            "46/46 [==============================] - 0s 2ms/step\n",
            "46/46 [==============================] - 0s 2ms/step\n",
            "46/46 [==============================] - 0s 3ms/step\n",
            "46/46 [==============================] - 0s 2ms/step\n",
            "46/46 [==============================] - 0s 3ms/step\n",
            "46/46 [==============================] - 0s 3ms/step\n",
            "46/46 [==============================] - 0s 3ms/step\n",
            "46/46 [==============================] - 0s 2ms/step\n",
            "46/46 [==============================] - 0s 2ms/step\n",
            "46/46 [==============================] - 0s 3ms/step\n",
            "46/46 [==============================] - 0s 3ms/step\n",
            "46/46 [==============================] - 0s 3ms/step\n",
            "46/46 [==============================] - 0s 2ms/step\n",
            "46/46 [==============================] - 0s 3ms/step\n",
            "46/46 [==============================] - 0s 3ms/step\n",
            "46/46 [==============================] - 0s 3ms/step\n",
            "46/46 [==============================] - 0s 3ms/step\n",
            "46/46 [==============================] - 0s 3ms/step\n",
            "46/46 [==============================] - 0s 3ms/step\n",
            "46/46 [==============================] - 0s 2ms/step\n",
            "46/46 [==============================] - 0s 3ms/step\n",
            "46/46 [==============================] - 0s 3ms/step\n",
            "46/46 [==============================] - 0s 3ms/step\n",
            "46/46 [==============================] - 0s 3ms/step\n",
            "46/46 [==============================] - 0s 3ms/step\n",
            "46/46 [==============================] - 0s 3ms/step\n",
            "46/46 [==============================] - 0s 2ms/step\n",
            "46/46 [==============================] - 0s 3ms/step\n",
            "46/46 [==============================] - 0s 3ms/step\n",
            "46/46 [==============================] - 0s 3ms/step\n",
            "46/46 [==============================] - 0s 3ms/step\n",
            "46/46 [==============================] - 0s 2ms/step\n",
            "46/46 [==============================] - 0s 3ms/step\n",
            "46/46 [==============================] - 0s 3ms/step\n",
            "46/46 [==============================] - 0s 3ms/step\n",
            "46/46 [==============================] - 0s 3ms/step\n",
            "46/46 [==============================] - 0s 2ms/step\n",
            "46/46 [==============================] - 0s 2ms/step\n",
            "46/46 [==============================] - 0s 2ms/step\n",
            "46/46 [==============================] - 0s 2ms/step\n",
            "46/46 [==============================] - 0s 2ms/step\n",
            "The current prediction margin weight is 1.\n"
          ]
        }
      ]
    },
    {
      "cell_type": "code",
      "source": [
        "# @title Default title text\n",
        "import warnings\n",
        "\n",
        "import numpy as np\n",
        "import tensorflow as tf\n",
        "from tensorflow import keras\n",
        "\n",
        "from wildboar.explain import IntervalImportance\n",
        "#from LIMESegment.Utils.explanations import LIMESegment\n",
        "\n",
        "\n",
        "class ModifiedLatentCF:\n",
        "    \"\"\"Explanations by generating a counterfacutal sample in the latent space of\n",
        "    any autoencoder.\n",
        "\n",
        "    References\n",
        "    ----------\n",
        "    Learning Time Series Counterfactuals via Latent Space Representations,\n",
        "    Wang, Z., Samsten, I., Mochaourab, R., Papapetrou, P., 2021.\n",
        "    in: International Conference on Discovery Science, pp. 369–384. https://doi.org/10.1007/978-3-030-88942-5_29\n",
        "    \"\"\"\n",
        "\n",
        "    def __init__(\n",
        "        self,\n",
        "        probability=0.5,\n",
        "        *,\n",
        "        tolerance=1e-6,\n",
        "        max_iter=100,\n",
        "        optimizer=None,\n",
        "        autoencoder=None,\n",
        "        margin_weight=1.0,  # weighted_steps_weight = 1 - pred_margin_weight\n",
        "        step_weights=\"local\",\n",
        "        random_state=None,\n",
        "        kde = None,\n",
        "        max_log_likelihood = None,\n",
        "        min_log_likelihood = None\n",
        "    ):\n",
        "        \"\"\"\n",
        "        Parameters\n",
        "        ----------\n",
        "        probability : float, optional\n",
        "            The desired probability assigned by the model\n",
        "\n",
        "        tolerance : float, optional\n",
        "            The maximum difference between the desired and assigned probability\n",
        "\n",
        "        optimizer :\n",
        "            Optimizer with a defined learning rate\n",
        "\n",
        "        max_iter : int, optional\n",
        "            The maximum number of iterations\n",
        "\n",
        "        autoencoder : int, optional\n",
        "            The autoencoder for the latent representation\n",
        "\n",
        "            - if None the sample is generated in the original space\n",
        "            - if given, the autoencoder is expected to have `k` decoder layer and `k`\n",
        "              encoding layers.\n",
        "        \"\"\"\n",
        "        self.optimizer_ = (\n",
        "            tf.optimizers.Adam(learning_rate=1e-4) if optimizer is None else optimizer\n",
        "        )\n",
        "        self.mse_loss_ = keras.losses.MeanSquaredError()\n",
        "        self.probability_ = tf.constant([probability])\n",
        "        self.tolerance_ = tf.constant(tolerance)\n",
        "        self.max_iter = max_iter\n",
        "        self.autoencoder = autoencoder\n",
        "\n",
        "        # Weights of the different loss components\n",
        "        self.margin_weight =margin_weight\n",
        "        self.kde_weight = 1 - self.margin_weight\n",
        "\n",
        "        self.step_weights = step_weights\n",
        "        self.random_state = random_state\n",
        "        self.kde = kde\n",
        "        self.max_log_likelihood = max_log_likelihood,\n",
        "        self.min_log_likelihood = min_log_likelihood\n",
        "\n",
        "    def fit(self, model):\n",
        "        \"\"\"Fit a new counterfactual explainer to the model\n",
        "\n",
        "        Paramaters\n",
        "        ----------\n",
        "\n",
        "        model : keras.Model\n",
        "            The model\n",
        "        \"\"\"\n",
        "        if self.autoencoder:\n",
        "            (\n",
        "                encode_input,\n",
        "                encode_output,\n",
        "                decode_input,\n",
        "                decode_output,\n",
        "            ) = extract_encoder_decoder(self.autoencoder)\n",
        "            self.decoder_ = keras.Model(inputs=decode_input, outputs=decode_output)\n",
        "            self.encoder_ = keras.Model(inputs=encode_input, outputs=encode_output)\n",
        "        else:\n",
        "            self.decoder_ = None\n",
        "            self.encoder_ = None\n",
        "        self.model_ = model\n",
        "        return self\n",
        "\n",
        "    def predict(self, x):\n",
        "        \"\"\"Compute the difference between the desired and actual probability\n",
        "\n",
        "        Parameters\n",
        "        ---------\n",
        "        x : Variable\n",
        "            Variable of the sample\n",
        "        \"\"\"\n",
        "        if self.autoencoder is None:\n",
        "            z = x\n",
        "        else:\n",
        "            z = self.decoder_(x)\n",
        "\n",
        "        return self.model_(z)\n",
        "\n",
        "    # The \"pred_margin_loss\" is designed to measure the prediction probability to the desired decision boundary\n",
        "    def pred_margin_mse(self, prediction):\n",
        "        return self.mse_loss_(self.probability_, prediction)\n",
        "\n",
        "    # An auxiliary MAE loss function to measure the proximity with step_weights\n",
        "    def weighted_mae(self, original_sample, cf_sample, step_weights):\n",
        "        return tf.math.reduce_mean(\n",
        "            tf.math.multiply(tf.math.abs(original_sample - cf_sample), step_weights)\n",
        "        )\n",
        "\n",
        "    # An auxiliary normalized L2 loss function to measure the proximity with step_weights\n",
        "    def weighted_normalized_l2(self, original_sample, cf_sample, step_weights):\n",
        "        var_diff = tf.math.reduce_variance(original_sample - cf_sample)\n",
        "        var_orig = tf.math.reduce_variance(original_sample)\n",
        "        var_cf = tf.math.reduce_variance(cf_sample)\n",
        "\n",
        "        normalized_l2 = 0.5 * var_diff / (var_orig + var_cf)\n",
        "        return tf.math.reduce_mean(\n",
        "            tf.math.multiply(\n",
        "                normalized_l2,\n",
        "                step_weights,\n",
        "            )\n",
        "        )\n",
        "    def compute_log_likelihood (self, cf_embedding):\n",
        "      data = cf_embedding[:,:,0]\n",
        "      transposed_cf_embedding = tf.transpose(data)\n",
        "      return(np.sum(self.kde.logpdf(transposed_cf_embedding)))\n",
        "\n",
        "    # additional input of step_weights\n",
        "    def compute_loss(self, original_sample, z_search, step_weights, target_label, sample_log_likelihood):\n",
        "        loss = tf.zeros(shape=())\n",
        "        decoded = self.decoder_(z_search) if self.autoencoder is not None else z_search\n",
        "        pred = self.model_(decoded)[:, target_label]\n",
        "\n",
        "        #margin loss (y-τ)\n",
        "        margin_loss = self.pred_margin_mse(pred)\n",
        "        loss += self.margin_weight * margin_loss\n",
        "\n",
        "\n",
        "        kde_loss = abs(self. compute_log_likelihood(decoded) - sample_log_likelihood)\n",
        "        loss += self.kde_weight * kde_loss\n",
        "\n",
        "        return loss, margin_loss, kde_loss\n",
        "\n",
        "    # TODO: compatible with the counterfactuals of wildboar\n",
        "    #       i.e., define the desired output target per label\n",
        "\n",
        "\n",
        "    def transform(self, x, pred_labels):\n",
        "        \"\"\"Generate counterfactual explanations\n",
        "\n",
        "        x : array-like of shape [n_samples, n_timestep, n_dims]\n",
        "            The samples\n",
        "        \"\"\"\n",
        "\n",
        "        result_samples = np.empty(x.shape)\n",
        "        losses = np.empty(x.shape[0])\n",
        "        # `weights_all` needed for debugging\n",
        "        weights_all = np.empty((x.shape[0], 1, x.shape[1], x.shape[2]))\n",
        "\n",
        "        for i in range(x.shape[0]):\n",
        "            print(f\"sample {i+1} is beeing transformed.\")\n",
        "\n",
        "            # if self.step_weights == \"global\" OR \"uniform\"\n",
        "            if isinstance(self.step_weights, np.ndarray):  #  \"global\" OR \"uniform\"\n",
        "                step_weights = self.step_weights\n",
        "            elif self.step_weights == \"local\":\n",
        "                # ignore warning of matrix multiplication, from LIMESegment: `https://stackoverflow.com/questions/29688168/mean-nanmean-and-warning-mean-of-empty-slice`\n",
        "                # ignore warning of scipy package warning, from LIMESegment: `https://github.com/paulvangentcom/heartrate_analysis_python/issues/31`\n",
        "                with warnings.catch_warnings():\n",
        "                    warnings.simplefilter(\"ignore\", category=RuntimeWarning)\n",
        "                    warnings.simplefilter(\"ignore\", category=UserWarning)\n",
        "                    step_weights = get_local_weights(\n",
        "                        x[i],\n",
        "                        self.model_,\n",
        "                        random_state=self.random_state,\n",
        "                        pred_label=pred_labels[i],\n",
        "                    )\n",
        "            else:\n",
        "                raise NotImplementedError(\n",
        "                    \"step_weights not implemented, please choose 'local', 'global' or 'uniform'.\"\n",
        "                )\n",
        "\n",
        "            # print(step_weights.reshape(-1))\n",
        "            x_sample, loss = self._transform_sample(\n",
        "                x[np.newaxis, i], step_weights, pred_labels[i]\n",
        "            )\n",
        "\n",
        "            result_samples[i] = x_sample\n",
        "            losses[i] = loss\n",
        "            weights_all[i] = step_weights\n",
        "\n",
        "        print(f\"{i+1} samples been transformed, in total.\")\n",
        "\n",
        "        return result_samples, losses, weights_all\n",
        "\n",
        "    def _transform_sample(self, x, step_weights, pred_label):\n",
        "        \"\"\"Generate counterfactual explanations(z))\"\"\"\n",
        "        # TODO: check_is_fitted(self)\n",
        "        if self.autoencoder is not None:\n",
        "            z = tf.Variable(self.encoder_(x))\n",
        "        else:\n",
        "            z = tf.Variable(x, dtype=tf.float32)\n",
        "\n",
        "        it = 0\n",
        "        target_label = 1 - pred_label  # for binary classification\n",
        "        sample_log_likelihood = compute_log_likelihood (x)\n",
        "        with tf.GradientTape() as tape:\n",
        "            loss, pred_margin_loss, weighted_steps_loss = self.compute_loss(\n",
        "                x, z, step_weights, target_label, sample_log_likelihood\n",
        "            )\n",
        "        if self.autoencoder is not None:\n",
        "            pred = self.model_(self.decoder_(z))\n",
        "        else:\n",
        "            pred = self.model_(z)\n",
        "\n",
        "        # # uncomment for debug\n",
        "        # print(\n",
        "        #     f\"current loss: {loss}, pred_margin_loss: {pred_margin_loss}, weighted_steps_loss: {weighted_steps_loss}, pred prob:{pred}, iter: {it}.\"\n",
        "        # )\n",
        "\n",
        "        # TODO: modify the loss to check both validity and proximity; how to design the condition here?\n",
        "        # while (pred_margin_loss > self.tolerance_ or pred[:, 1] < self.probability_ or weighted_steps_loss > self.step_tolerance_)?\n",
        "        # loss > tf.multiply(self.tolerance_rate_, loss_original)\n",
        "        while (\n",
        "            (pred_margin_loss > self.tolerance_\n",
        "            or pred[:, target_label] < self.probability_)\n",
        "            and (it < self.max_iter if self.max_iter else True)\n",
        "            ) :\n",
        "            # Get gradients of loss wrt the sample\n",
        "            grads = tape.gradient(loss, z)\n",
        "            # Update the weights of the sample\n",
        "            self.optimizer_.apply_gradients([(grads, z)])\n",
        "\n",
        "            with tf.GradientTape() as tape:\n",
        "                loss, pred_margin_loss, weighted_steps_loss = self.compute_loss(\n",
        "                    x, z, step_weights, target_label\n",
        "                )\n",
        "            log_likelihood = self.compute_log_likelihood_loss(self.decoder_(z))\n",
        "            it += 1\n",
        "            if it % 50 == 0:\n",
        "              print(f'Currently on iteration: {it}.')\n",
        "            if self.autoencoder is not None:\n",
        "                pred = self.model_(self.decoder_(z))\n",
        "            else:\n",
        "                pred = self.model_(z)\n",
        "\n",
        "        # # uncomment for debug\n",
        "        # print(\n",
        "        #     f\"current loss: {loss}, pred_margin_loss: {pred_margin_loss}, weighted_steps_loss: {weighted_steps_loss}, pred prob:{pred}, iter: {it}. \\n\"\n",
        "        # )\n",
        "\n",
        "        res = z.numpy() if self.autoencoder is None else self.decoder_(z).numpy()\n",
        "        return res, float(loss)\n",
        "\n",
        "\n",
        "def extract_encoder_decoder(autoencoder):\n",
        "    \"\"\"Extract the encoder and decoder from an autoencoder\n",
        "\n",
        "    autoencoder : keras.Model\n",
        "        The autoencoder of `k` encoders and `k` decoders\n",
        "    \"\"\"\n",
        "    depth = len(autoencoder.layers) // 2\n",
        "    encoder = autoencoder.layers[1](autoencoder.input)\n",
        "    for i in range(2, depth):\n",
        "        encoder = autoencoder.layers[i](encoder)\n",
        "\n",
        "    encode_input = keras.Input(shape=encoder.shape[1:])\n",
        "    decoder = autoencoder.layers[depth](encode_input)\n",
        "    for i in range(depth + 1, len(autoencoder.layers)):\n",
        "        decoder = autoencoder.layers[i](decoder)\n",
        "\n",
        "    return autoencoder.input, encoder, encode_input, decoder\n",
        "\n",
        "\n",
        "# def get_local_weights(\n",
        "#     input_sample, classifier_model, random_state=None, pred_label=None\n",
        "# ):\n",
        "#     n_timesteps, n_dims = input_sample.shape  # n_dims=1\n",
        "#     # for binary classification, default to 1\n",
        "#     desired_label = int(1 - pred_label) if pred_label is not None else 1\n",
        "#     seg_imp, seg_idx = LIMESegment(\n",
        "#         input_sample,\n",
        "#         classifier_model,\n",
        "#         model_type=desired_label,\n",
        "#         cp=10,\n",
        "#         window_size=10,\n",
        "#         random_state=random_state,\n",
        "#     )\n",
        "\n",
        "#     if desired_label == 1:\n",
        "#         # calculate the threshold of masking, lower 25 percentile (neg contribution for pos class)\n",
        "#         masking_threshold = np.percentile(seg_imp, 25)\n",
        "#         masking_idx = np.where(seg_imp <= masking_threshold)\n",
        "#     else:  # desired_label == 0\n",
        "#         # calculate the threshold of masking, upper 25 percentile (pos contribution for neg class)\n",
        "#         masking_threshold = np.percentile(seg_imp, 75)\n",
        "#         masking_idx = np.where(seg_imp >= masking_threshold)\n",
        "\n",
        "#     weighted_steps = np.ones(n_timesteps)\n",
        "#     for start_idx in masking_idx[0]:\n",
        "#         weighted_steps[seg_idx[start_idx] : seg_idx[start_idx + 1]] = 0\n",
        "\n",
        "#     # need to reshape for multiplication in `tf.math.multiply()`\n",
        "#     weighted_steps = weighted_steps.reshape(1, n_timesteps, n_dims)\n",
        "#     return weighted_steps\n",
        "\n",
        "\n",
        "def get_global_weights(\n",
        "    input_samples, input_labels, classifier_model, n_timesteps, n_features, random_state=None,\n",
        "):\n",
        "    n_samples, n_timesteps, n_dims = input_samples.shape  # n_dims=1\n",
        "\n",
        "    class ModelWrapper:\n",
        "        def __init__(self, model, n_timesteps, n_features):\n",
        "            self.model = model\n",
        "            self.fitted_ = False\n",
        "            self.n_timesteps_in_ = n_timesteps*n_features\n",
        "            self.n_features_in_ = n_features/n_features\n",
        "\n",
        "        def predict(self, X):\n",
        "            p = self.model.predict(X.reshape(n_samples, n_timesteps, n_features))\n",
        "            return np.argmax(p, axis=1)\n",
        "\n",
        "        def fit(self, X, y):\n",
        "\n",
        "          self.fitted_ = True\n",
        "          return self.model.fit(X, y)\n",
        "\n",
        "    clf = ModelWrapper(classifier_model, n_timesteps, n_features)\n",
        "\n",
        "    i = IntervalImportance(scoring=\"accuracy\",n_intervals=16, random_state=random_state)\n",
        "    i.fit(clf, input_samples.reshape(input_samples.shape[0], -1), input_labels)\n",
        "\n",
        "    # calculate the threshold of masking, 75 percentile\n",
        "    masking_threshold = np.percentile(i.importances_.mean, 75)\n",
        "    masking_idx = np.where(i.importances_.mean >= masking_threshold)\n",
        "\n",
        "    weighted_steps = np.ones(n_timesteps*n_features)\n",
        "    seg_idx = i.components_\n",
        "    for start_idx in masking_idx[0]:\n",
        "        weighted_steps[seg_idx[start_idx][0] : seg_idx[start_idx][1]] = 0\n",
        "\n",
        "    # need to reshape for multiplication in `tf.math.multiply()`\n",
        "    weighted_steps = weighted_steps.reshape(1, n_timesteps, n_features)\n",
        "    return weighted_steps"
      ],
      "metadata": {
        "id": "y-Qj3FXoAKpF"
      },
      "execution_count": 20,
      "outputs": []
    },
    {
      "cell_type": "code",
      "source": [
        "#training KDE on eights\n",
        "from scipy.stats import gaussian_kde\n",
        "kde_dim_1 = X_train[y_train_classes == 1][:,:,0]\n",
        "kde_dim_2 = X_train[y_train_classes == 1][:,:,1]\n",
        "kde_1 = gaussian_kde(kde_dim_1.T,)\n",
        "kde_2 = gaussian_kde(kde_dim_2.T,)\n",
        "\n",
        "print(\"Testing KDE with eights.\\n\")\n",
        "for i in range (5):\n",
        "  test_dim_1 =  X_train[y_train_classes == 1][i,:,0]\n",
        "  test_dim_2 =  X_train[y_train_classes == 1][i,:,1]\n",
        "  print(f'Data: {i + 1}')\n",
        "  print(f'Log likelihood of x-feature: {kde_1.logpdf(test_dim_1.T).round(2)}')\n",
        "  print(f'Log likelihood of y-feature: {kde_2.logpdf(test_dim_2.T).round(2)}\\n')\n",
        "\n",
        "print(\"Testing KDE with zeros.\\n\")\n",
        "for i in range (5):\n",
        "  test_dim_1 =  X_test[y_test_classes == 0][i,:,0]\n",
        "  test_dim_2 =  X_test[y_test_classes == 0][i,:,1]\n",
        "  print(f'Data: {i + 1}')\n",
        "  print(f'Log likelihood of x-feature: {kde_1.logpdf(test_dim_1.T).round(2)}')\n",
        "  print(f'Log likelihood of y-feature: {kde_2.logpdf(test_dim_2.T).round(2)}\\n')"
      ],
      "metadata": {
        "id": "BdTpIDFD-YL3",
        "outputId": "25ff7267-3986-4a51-fae6-de5617ba3852",
        "colab": {
          "base_uri": "https://localhost:8080/"
        }
      },
      "execution_count": 22,
      "outputs": [
        {
          "output_type": "stream",
          "name": "stdout",
          "text": [
            "Testing KDE with eights.\n",
            "\n",
            "Data: 1\n",
            "Log likelihood of x-feature: [3.69]\n",
            "Log likelihood of y-feature: [10.07]\n",
            "\n",
            "Data: 2\n",
            "Log likelihood of x-feature: [2.8]\n",
            "Log likelihood of y-feature: [10.62]\n",
            "\n",
            "Data: 3\n",
            "Log likelihood of x-feature: [3.95]\n",
            "Log likelihood of y-feature: [9.48]\n",
            "\n",
            "Data: 4\n",
            "Log likelihood of x-feature: [3.49]\n",
            "Log likelihood of y-feature: [9.71]\n",
            "\n",
            "Data: 5\n",
            "Log likelihood of x-feature: [2.92]\n",
            "Log likelihood of y-feature: [10.38]\n",
            "\n",
            "Testing KDE with zeros.\n",
            "\n",
            "Data: 1\n",
            "Log likelihood of x-feature: [-10.48]\n",
            "Log likelihood of y-feature: [6.86]\n",
            "\n",
            "Data: 2\n",
            "Log likelihood of x-feature: [-1.66]\n",
            "Log likelihood of y-feature: [8.73]\n",
            "\n",
            "Data: 3\n",
            "Log likelihood of x-feature: [-3.87]\n",
            "Log likelihood of y-feature: [8.72]\n",
            "\n",
            "Data: 4\n",
            "Log likelihood of x-feature: [-6.65]\n",
            "Log likelihood of y-feature: [8.72]\n",
            "\n",
            "Data: 5\n",
            "Log likelihood of x-feature: [-6.79]\n",
            "Log likelihood of y-feature: [5.35]\n",
            "\n"
          ]
        }
      ]
    },
    {
      "cell_type": "code",
      "source": [
        "max_log_likelihood = np.max(kde_1.logpdf(X_train[y_train_classes == 1][:,:,0].T))\n",
        "min_log_likelihood = np.min(kde_1.logpdf(X_train[y_train_classes == 1][:,:,0].T))\n",
        "print(f'Max log_likelihood = {max_log_likelihood}')\n",
        "print(f'Min log_likelihood = {min_log_likelihood}')"
      ],
      "metadata": {
        "id": "QESn-WSUw8vV"
      },
      "execution_count": null,
      "outputs": []
    },
    {
      "cell_type": "code",
      "source": [
        "def compute_log_likelihood_loss (kde, cf_embedding):\n",
        "  data = cf_embedding[:,:,0]\n",
        "  return(np.sum(kde.logpdf(data.T)))\n",
        "\n",
        "loss = compute_log_likelihood_loss(kde_1, ...)\n",
        "loss"
      ],
      "metadata": {
        "id": "UGGJxY-yeWU0"
      },
      "execution_count": null,
      "outputs": []
    },
    {
      "cell_type": "code",
      "source": [],
      "metadata": {
        "id": "UQIRimWhe58c"
      },
      "execution_count": null,
      "outputs": []
    },
    {
      "cell_type": "code",
      "source": [
        "reset_seeds()\n",
        "cf_model = ModifiedLatentCF(\n",
        "    probability=0.9,tolerance=1e-6, max_iter=500, optimizer=tf.keras.optimizers.legacy.Adam(learning_rate=0.001),autoencoder = autoencoder,\n",
        "    margin_weight=0.5, step_weights = step_weights, random_state= RANDOM_STATE,kde = kde_1\n",
        "    )\n",
        "cf_model.fit(cnnClassifier)\n",
        "\n",
        "y_neg = y_train_classes[y_train_classes == 0][10:12]\n",
        "X_neg = X_train[y_train_classes == 0][10:12]\n",
        "\n",
        "\n",
        "with warnings.catch_warnings():\n",
        "    warnings.simplefilter(\"ignore\", category=RuntimeWarning) # ignore warning of matrix multiplication: https://stackoverflow.com/questions/29688168/mean-nanmean-and-warning-mean-of-empty-slice\n",
        "    cf_embeddings, losses, weights = cf_model.transform(X_neg, y_neg) #self, x, pred_label\n",
        "z_pred = cnnClassifier.predict(cf_embeddings)[:, 1] # predicted probabilities of CFs\n",
        "\n",
        "#evaluate_res = evaluate(X_pred_neg, best_cf_samples, z_pred, n_timesteps, tree, max_distance)\n",
        "#evaluate_res #  proximity, validity, cost_mean, cost_std\n",
        "\n",
        "#print(f'Transformation_finished with validity_score = {validity_score(y_neg_classes,cf_pred_labels)}')"
      ],
      "metadata": {
        "id": "f-Xy39aj8q9S",
        "outputId": "ae8772e1-af0e-40da-9673-e1fbc6fabcab",
        "colab": {
          "base_uri": "https://localhost:8080/",
          "height": 546
        }
      },
      "execution_count": 25,
      "outputs": [
        {
          "output_type": "stream",
          "name": "stdout",
          "text": [
            "sample 1 is beeing transformed.\n"
          ]
        },
        {
          "output_type": "error",
          "ename": "NameError",
          "evalue": "ignored",
          "traceback": [
            "\u001b[0;31m---------------------------------------------------------------------------\u001b[0m",
            "\u001b[0;31mNameError\u001b[0m                                 Traceback (most recent call last)",
            "\u001b[0;32m<ipython-input-25-83c5527618e4>\u001b[0m in \u001b[0;36m<cell line: 12>\u001b[0;34m()\u001b[0m\n\u001b[1;32m     12\u001b[0m \u001b[0;32mwith\u001b[0m \u001b[0mwarnings\u001b[0m\u001b[0;34m.\u001b[0m\u001b[0mcatch_warnings\u001b[0m\u001b[0;34m(\u001b[0m\u001b[0;34m)\u001b[0m\u001b[0;34m:\u001b[0m\u001b[0;34m\u001b[0m\u001b[0;34m\u001b[0m\u001b[0m\n\u001b[1;32m     13\u001b[0m     \u001b[0mwarnings\u001b[0m\u001b[0;34m.\u001b[0m\u001b[0msimplefilter\u001b[0m\u001b[0;34m(\u001b[0m\u001b[0;34m\"ignore\"\u001b[0m\u001b[0;34m,\u001b[0m \u001b[0mcategory\u001b[0m\u001b[0;34m=\u001b[0m\u001b[0mRuntimeWarning\u001b[0m\u001b[0;34m)\u001b[0m \u001b[0;31m# ignore warning of matrix multiplication: https://stackoverflow.com/questions/29688168/mean-nanmean-and-warning-mean-of-empty-slice\u001b[0m\u001b[0;34m\u001b[0m\u001b[0;34m\u001b[0m\u001b[0m\n\u001b[0;32m---> 14\u001b[0;31m     \u001b[0mcf_embeddings\u001b[0m\u001b[0;34m,\u001b[0m \u001b[0mlosses\u001b[0m\u001b[0;34m,\u001b[0m \u001b[0mweights\u001b[0m \u001b[0;34m=\u001b[0m \u001b[0mcf_model\u001b[0m\u001b[0;34m.\u001b[0m\u001b[0mtransform\u001b[0m\u001b[0;34m(\u001b[0m\u001b[0mX_neg\u001b[0m\u001b[0;34m,\u001b[0m \u001b[0my_neg\u001b[0m\u001b[0;34m)\u001b[0m \u001b[0;31m#self, x, pred_label\u001b[0m\u001b[0;34m\u001b[0m\u001b[0;34m\u001b[0m\u001b[0m\n\u001b[0m\u001b[1;32m     15\u001b[0m \u001b[0mz_pred\u001b[0m \u001b[0;34m=\u001b[0m \u001b[0mcnnClassifier\u001b[0m\u001b[0;34m.\u001b[0m\u001b[0mpredict\u001b[0m\u001b[0;34m(\u001b[0m\u001b[0mcf_embeddings\u001b[0m\u001b[0;34m)\u001b[0m\u001b[0;34m[\u001b[0m\u001b[0;34m:\u001b[0m\u001b[0;34m,\u001b[0m \u001b[0;36m1\u001b[0m\u001b[0;34m]\u001b[0m \u001b[0;31m# predicted probabilities of CFs\u001b[0m\u001b[0;34m\u001b[0m\u001b[0;34m\u001b[0m\u001b[0m\n\u001b[1;32m     16\u001b[0m \u001b[0;34m\u001b[0m\u001b[0m\n",
            "\u001b[0;32m<ipython-input-20-d9850212efbc>\u001b[0m in \u001b[0;36mtransform\u001b[0;34m(self, x, pred_labels)\u001b[0m\n\u001b[1;32m    200\u001b[0m \u001b[0;34m\u001b[0m\u001b[0m\n\u001b[1;32m    201\u001b[0m             \u001b[0;31m# print(step_weights.reshape(-1))\u001b[0m\u001b[0;34m\u001b[0m\u001b[0;34m\u001b[0m\u001b[0m\n\u001b[0;32m--> 202\u001b[0;31m             x_sample, loss = self._transform_sample(\n\u001b[0m\u001b[1;32m    203\u001b[0m                 \u001b[0mx\u001b[0m\u001b[0;34m[\u001b[0m\u001b[0mnp\u001b[0m\u001b[0;34m.\u001b[0m\u001b[0mnewaxis\u001b[0m\u001b[0;34m,\u001b[0m \u001b[0mi\u001b[0m\u001b[0;34m]\u001b[0m\u001b[0;34m,\u001b[0m \u001b[0mstep_weights\u001b[0m\u001b[0;34m,\u001b[0m \u001b[0mpred_labels\u001b[0m\u001b[0;34m[\u001b[0m\u001b[0mi\u001b[0m\u001b[0;34m]\u001b[0m\u001b[0;34m\u001b[0m\u001b[0;34m\u001b[0m\u001b[0m\n\u001b[1;32m    204\u001b[0m             )\n",
            "\u001b[0;32m<ipython-input-20-d9850212efbc>\u001b[0m in \u001b[0;36m_transform_sample\u001b[0;34m(self, x, step_weights, pred_label)\u001b[0m\n\u001b[1;32m    222\u001b[0m         \u001b[0mit\u001b[0m \u001b[0;34m=\u001b[0m \u001b[0;36m0\u001b[0m\u001b[0;34m\u001b[0m\u001b[0;34m\u001b[0m\u001b[0m\n\u001b[1;32m    223\u001b[0m         \u001b[0mtarget_label\u001b[0m \u001b[0;34m=\u001b[0m \u001b[0;36m1\u001b[0m \u001b[0;34m-\u001b[0m \u001b[0mpred_label\u001b[0m  \u001b[0;31m# for binary classification\u001b[0m\u001b[0;34m\u001b[0m\u001b[0;34m\u001b[0m\u001b[0m\n\u001b[0;32m--> 224\u001b[0;31m         \u001b[0msample_log_likelihood\u001b[0m \u001b[0;34m=\u001b[0m \u001b[0mcompute_log_likelihood\u001b[0m \u001b[0;34m(\u001b[0m\u001b[0mx\u001b[0m\u001b[0;34m)\u001b[0m\u001b[0;34m\u001b[0m\u001b[0;34m\u001b[0m\u001b[0m\n\u001b[0m\u001b[1;32m    225\u001b[0m         \u001b[0;32mwith\u001b[0m \u001b[0mtf\u001b[0m\u001b[0;34m.\u001b[0m\u001b[0mGradientTape\u001b[0m\u001b[0;34m(\u001b[0m\u001b[0;34m)\u001b[0m \u001b[0;32mas\u001b[0m \u001b[0mtape\u001b[0m\u001b[0;34m:\u001b[0m\u001b[0;34m\u001b[0m\u001b[0;34m\u001b[0m\u001b[0m\n\u001b[1;32m    226\u001b[0m             loss, pred_margin_loss, weighted_steps_loss = self.compute_loss(\n",
            "\u001b[0;31mNameError\u001b[0m: name 'compute_log_likelihood' is not defined"
          ]
        }
      ]
    },
    {
      "cell_type": "code",
      "source": [
        "print(\"Testing KDE with eights.\\n\")\n",
        "for i in range (5):\n",
        "  test_dim_1 =  cf_embeddings[i,:,0]\n",
        "  test_dim_2 =  cf_embeddings[i,:,1]\n",
        "  print(f'Counterfactual: {i+1}')\n",
        "  print(f'Log likelihood of x-feature: {np.sum(kde_1.logpdf(test_dim_1.T))}')\n",
        "  print(f'Log likelihood of y-feature: {np.sum(kde_2.logpdf(test_dim_2.T))}\\n')"
      ],
      "metadata": {
        "id": "VpXF5RiPc8tR"
      },
      "execution_count": null,
      "outputs": []
    },
    {
      "cell_type": "code",
      "source": [
        "#with learning rate = 0.001 and 500 iterations (and 1000)\n",
        "for i in range(5):\n",
        "  print(\"actual\")\n",
        "  visualise_digit(X_pred_neg,y_pred_neg,i,figsize = (5,5))\n",
        "  print(\"counterfactual\")\n",
        "  visualise_digit(cf_embeddings,y_neg,i,figsize = (5,5))\n"
      ],
      "metadata": {
        "id": "UbvQjP1RpiYh"
      },
      "execution_count": null,
      "outputs": []
    },
    {
      "cell_type": "code",
      "source": [
        "#with learning rate = 0.001 and 2000 iterations\n",
        "for i in range(6):\n",
        "  print(\"actual\")\n",
        "  visualise_digit(X_pred_neg,y_pred_neg,i-1,figsize = (5,5))\n",
        "  print(\"counterfactual\")\n",
        "  visualise_digit(cf_embeddings,y_neg,i-1,figsize = (5,5))"
      ],
      "metadata": {
        "id": "2gUPxFnxWAE1"
      },
      "execution_count": null,
      "outputs": []
    },
    {
      "cell_type": "code",
      "source": [
        "#with learning rate = 0.0001 and 500 iterations\n",
        "for i in range(6):\n",
        "  print(\"actual\")\n",
        "  visualise_digit(X_pred_neg,y_pred_neg,i-1,figsize = (5,5))\n",
        "  print(\"counterfactual\")\n",
        "  visualise_digit(cf_embeddings,y_neg,i-1,figsize = (5,5))"
      ],
      "metadata": {
        "id": "KV3gNKN3Q3hE"
      },
      "execution_count": null,
      "outputs": []
    },
    {
      "cell_type": "code",
      "source": [],
      "metadata": {
        "id": "JcXQ65RRV7EB"
      },
      "execution_count": null,
      "outputs": []
    }
  ]
}